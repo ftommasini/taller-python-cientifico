{
 "cells": [
  {
   "cell_type": "markdown",
   "id": "46ea3fed",
   "metadata": {},
   "source": [
    "# <span style=\"color:RoyalBlue\">Introducción a librerías básicas para uso científico</span>"
   ]
  },
  {
   "cell_type": "markdown",
   "id": "693631dc-99be-4110-b704-247e71299676",
   "metadata": {},
   "source": [
    "<img src=\"images/python_ecosystem.png\">"
   ]
  },
  {
   "cell_type": "markdown",
   "id": "f49aa835-b0e0-4aad-9cc1-b95c274a15c2",
   "metadata": {},
   "source": [
    "Las más usadas para cálculo científico y análisis de datos son:\n",
    "- NumPy\n",
    "- SciPy\n",
    "- Pandas"
   ]
  },
  {
   "cell_type": "markdown",
   "id": "051b938d",
   "metadata": {},
   "source": [
    "## <span style=\"color:CornflowerBlue\">**NumPy**</span>\n",
    "[NumPy](https://numpy.org/) (**Num**-ber **Py**-thon) es la biblioteca estándar de Python para trabajar con vectores y matrices.\n",
    "Extiende la funcionalidad de Python permitiendo el uso de expresiones vectorizadas (como las que emplea **Matlab**).\n",
    "\n",
    "<img src=\"https://upload.wikimedia.org/wikipedia/commons/thumb/1/1a/NumPy_logo.svg/1200px-NumPy_logo.svg.png\" width = 450>\n",
    "\n",
    "La principal ventaja de emplear Numpy en vez de las estructuras de datos nativas de Python es su eficiencia (rapidez), dado que ofrece nuevos tipos de variables que permiten generar expresiones vectorizadas, para las cuales hay funciones *precompiladas*, y escritas en *C*, lo que las hace muy rápidas.\n",
    "\n",
    "Se puede pensar a estos arreglos de Numpy como listas de Python estándar en la que todos sus elementos tienen el mismo tipo. En el caso de las listas estándar de Python, los elementos eran estructuras abstractas que podían contener objetos de cualquier tipo, por lo tanto su manejo tiene un sobrecosto de almacenar los metadatos de tipos de cada elemento. En el caso de Numpy, como es requisito que todos los elementos sean del mismo tipo ese costo se omite y se pueden hacer funciones que operen más rápido sobre los datos. "
   ]
  },
  {
   "cell_type": "markdown",
   "id": "3900cbcc",
   "metadata": {},
   "source": [
    "## Inicio\n",
    "\n",
    "El primer requisito para usar esta biblioteca es importarla previo a su empleo"
   ]
  },
  {
   "cell_type": "code",
   "execution_count": 5,
   "id": "a874ddca",
   "metadata": {},
   "outputs": [],
   "source": [
    "import numpy as np"
   ]
  },
  {
   "cell_type": "markdown",
   "id": "0bafd315",
   "metadata": {},
   "source": [
    "## Tipos de datos\n",
    "\n",
    "Los objetos básicos de esta biblioteca son los arreglos, que se pueden crear de la siguiente manera: "
   ]
  },
  {
   "cell_type": "code",
   "execution_count": 6,
   "id": "b32e0e88",
   "metadata": {},
   "outputs": [
    {
     "name": "stdout",
     "output_type": "stream",
     "text": [
      "[1 2 3 4 5]\n",
      "[ 6  7  8  9 10]\n"
     ]
    }
   ],
   "source": [
    "a = np.array([1,2,3,4,5])   # Definición de un array a partir de una lista Python\n",
    "b = np.array((6,7,8,9,10))  # Definición de un array a partir de una tupla Python\n",
    "print(a)\n",
    "print(b)"
   ]
  },
  {
   "cell_type": "markdown",
   "id": "b45ef555",
   "metadata": {},
   "source": [
    "De igual manera se puede hacer para crear arreglos de múltiples dimensiones, conocer sus dimensiones o acceder a elementos específicos:"
   ]
  },
  {
   "cell_type": "code",
   "execution_count": 19,
   "id": "79821c23-5bcc-42b4-af2c-f57aac39bd9c",
   "metadata": {},
   "outputs": [],
   "source": [
    "a = np.array([[1, 2, 3], [4, 5, 6]]) "
   ]
  },
  {
   "cell_type": "code",
   "execution_count": 13,
   "id": "48054e6c-2bda-4f5d-80d5-17c570f0f913",
   "metadata": {},
   "outputs": [
    {
     "name": "stdout",
     "output_type": "stream",
     "text": [
      "Tamaño de a: 6\n"
     ]
    }
   ],
   "source": [
    "print(\"Tamaño de a: {}\".format(a.size))"
   ]
  },
  {
   "cell_type": "code",
   "execution_count": 14,
   "id": "e7dadf8c-4af1-4f6a-b477-818bbf2427b2",
   "metadata": {},
   "outputs": [
    {
     "name": "stdout",
     "output_type": "stream",
     "text": [
      "Dimensión de a:  2\n"
     ]
    }
   ],
   "source": [
    "print(\"Dimensión de a: \", a.ndim)"
   ]
  },
  {
   "cell_type": "code",
   "execution_count": 15,
   "id": "1175c11e-3935-44d6-a7f7-27263502f5fb",
   "metadata": {},
   "outputs": [
    {
     "name": "stdout",
     "output_type": "stream",
     "text": [
      "Contenido de a:\n",
      " [[1 2 3]\n",
      " [4 5 6]]\n"
     ]
    }
   ],
   "source": [
    "print(\"Contenido de a:\\n\", a)"
   ]
  },
  {
   "cell_type": "code",
   "execution_count": 18,
   "id": "8cfbf315-2009-4ff7-96eb-858fcceba498",
   "metadata": {},
   "outputs": [
    {
     "name": "stdout",
     "output_type": "stream",
     "text": [
      "Acceder a un elemento [1, 2] de a: 6\n"
     ]
    }
   ],
   "source": [
    "print(\"Acceder a un elemento [1, 2] de a: {}\".format(a[1, 2]))"
   ]
  },
  {
   "cell_type": "markdown",
   "id": "84bfc10c",
   "metadata": {},
   "source": [
    "## Tipos especiales de arreglos"
   ]
  },
  {
   "cell_type": "markdown",
   "id": "4f15a1d9",
   "metadata": {},
   "source": [
    "Existen tipos particulares de arreglos que serán de mucha utilidad para operaciones algebraica.\n",
    "Entre ellos, vectores nulos, de unos o la matriz identidad:"
   ]
  },
  {
   "cell_type": "code",
   "execution_count": 21,
   "id": "d4c5cca0-6a1c-4a32-ab00-931df1dba79c",
   "metadata": {},
   "outputs": [
    {
     "name": "stdout",
     "output_type": "stream",
     "text": [
      "Vector nulo de 30 elementos, a: [[0. 0. 0. 0. 0. 0. 0. 0. 0. 0. 0. 0. 0. 0. 0. 0. 0. 0. 0. 0. 0. 0. 0. 0.\n",
      "  0. 0. 0. 0. 0. 0.]] \n",
      "\n"
     ]
    }
   ],
   "source": [
    "a = np.zeros([1,30])\n",
    "print(\"Vector nulo de 30 elementos, a:\", a, \"\\n\")"
   ]
  },
  {
   "cell_type": "code",
   "execution_count": 22,
   "id": "9b3869c0-3354-4c48-8614-f7be0cec964c",
   "metadata": {},
   "outputs": [
    {
     "name": "stdout",
     "output_type": "stream",
     "text": [
      "Matriz de 4 filas y 3 columnas con todos sus valores iguales a uno b: \n",
      " [[1. 1. 1.]\n",
      " [1. 1. 1.]\n",
      " [1. 1. 1.]\n",
      " [1. 1. 1.]] \n",
      "\n"
     ]
    }
   ],
   "source": [
    "b = np.ones([4,3])\n",
    "print(\"Matriz de 4 filas y 3 columnas con todos sus valores iguales a uno b: \\n\", b, \"\\n\")"
   ]
  },
  {
   "cell_type": "code",
   "execution_count": 23,
   "id": "c415408b-703f-4444-a0af-f6124b4f8af4",
   "metadata": {},
   "outputs": [
    {
     "name": "stdout",
     "output_type": "stream",
     "text": [
      "Matriz identidad de 2x2\n",
      " [[1. 0.]\n",
      " [0. 1.]] \n",
      "\n"
     ]
    }
   ],
   "source": [
    "c = np.eye(2) \n",
    "print (\"Matriz identidad de 2x2\\n\", c, \"\\n\")"
   ]
  },
  {
   "cell_type": "markdown",
   "id": "e677de8e",
   "metadata": {},
   "source": [
    "Vectores de enteros consecutivos que se pueden usar como índices:"
   ]
  },
  {
   "cell_type": "code",
   "execution_count": 28,
   "id": "07787bcf-87f8-4751-b9af-47461b6d421a",
   "metadata": {},
   "outputs": [
    {
     "name": "stdout",
     "output_type": "stream",
     "text": [
      "Vector con los enteros del 0 al 30 enumerados espaciados con un valor de 3 entre ellos:\n",
      " [ 0  3  6  9 12 15 18 21 24 27] \n",
      "\n"
     ]
    }
   ],
   "source": [
    "a = np.arange(0, 30, 3) # no incluye el 30\n",
    "print(\"Vector con los enteros del 0 al 30 enumerados espaciados con un valor de 3 entre ellos:\\n\", a, \"\\n\")"
   ]
  },
  {
   "cell_type": "code",
   "execution_count": 29,
   "id": "9c3a1166-7cca-44d6-b50c-13ff4d9442a1",
   "metadata": {},
   "outputs": [
    {
     "name": "stdout",
     "output_type": "stream",
     "text": [
      "Vector con 100 elementos linealmente espaciados entre 0 y 10: \n",
      " [ 0.          0.1010101   0.2020202   0.3030303   0.4040404   0.50505051\n",
      "  0.60606061  0.70707071  0.80808081  0.90909091  1.01010101  1.11111111\n",
      "  1.21212121  1.31313131  1.41414141  1.51515152  1.61616162  1.71717172\n",
      "  1.81818182  1.91919192  2.02020202  2.12121212  2.22222222  2.32323232\n",
      "  2.42424242  2.52525253  2.62626263  2.72727273  2.82828283  2.92929293\n",
      "  3.03030303  3.13131313  3.23232323  3.33333333  3.43434343  3.53535354\n",
      "  3.63636364  3.73737374  3.83838384  3.93939394  4.04040404  4.14141414\n",
      "  4.24242424  4.34343434  4.44444444  4.54545455  4.64646465  4.74747475\n",
      "  4.84848485  4.94949495  5.05050505  5.15151515  5.25252525  5.35353535\n",
      "  5.45454545  5.55555556  5.65656566  5.75757576  5.85858586  5.95959596\n",
      "  6.06060606  6.16161616  6.26262626  6.36363636  6.46464646  6.56565657\n",
      "  6.66666667  6.76767677  6.86868687  6.96969697  7.07070707  7.17171717\n",
      "  7.27272727  7.37373737  7.47474747  7.57575758  7.67676768  7.77777778\n",
      "  7.87878788  7.97979798  8.08080808  8.18181818  8.28282828  8.38383838\n",
      "  8.48484848  8.58585859  8.68686869  8.78787879  8.88888889  8.98989899\n",
      "  9.09090909  9.19191919  9.29292929  9.39393939  9.49494949  9.5959596\n",
      "  9.6969697   9.7979798   9.8989899  10.        ] \n",
      "\n"
     ]
    }
   ],
   "source": [
    "b = np.linspace(0, 10, 100)  # incluye el 10\n",
    "print(\"Vector con 100 elementos linealmente espaciados entre 0 y 10: \\n\", b, \"\\n\")"
   ]
  },
  {
   "cell_type": "markdown",
   "id": "fe37fa2b",
   "metadata": {},
   "source": [
    "Permutaciones aleatorios de enteros"
   ]
  },
  {
   "cell_type": "code",
   "execution_count": 31,
   "id": "da8f1076",
   "metadata": {},
   "outputs": [
    {
     "name": "stdout",
     "output_type": "stream",
     "text": [
      "[0 1 2 3 4 5 6 7 8 9]\n",
      "[9 8 1 2 6 5 0 7 4 3]\n"
     ]
    }
   ],
   "source": [
    "a = np.arange(10)\n",
    "a_perm = np.random.permutation(a)\n",
    "print(a)\n",
    "print(a_perm)"
   ]
  },
  {
   "cell_type": "markdown",
   "id": "3e4631b5",
   "metadata": {},
   "source": [
    "Vector con 1000 elementos de valores aleatorios entre 0 y 1:"
   ]
  },
  {
   "cell_type": "code",
   "execution_count": 8,
   "id": "fc6e5e33",
   "metadata": {},
   "outputs": [
    {
     "name": "stdout",
     "output_type": "stream",
     "text": [
      "[0.11990648 0.1466002  0.41881182 0.33591723 0.61012552 0.66689372\n",
      " 0.21543401 0.69577257 0.57286595 0.64931999 0.10544679 0.30004141\n",
      " 0.20686484 0.14858552 0.27969226 0.2801504  0.31172752 0.87458272\n",
      " 0.46626325 0.39579983 0.347351   0.33023079 0.63102224 0.62226601\n",
      " 0.43946118 0.02728847 0.30655019 0.38741728 0.40837193 0.8768767\n",
      " 0.95402966 0.29335888 0.47396016 0.51328221 0.77266466 0.85610727\n",
      " 0.84473138 0.85574149 0.92517042 0.96278251 0.55013241 0.69630152\n",
      " 0.80618822 0.31902156 0.57056527 0.31070622 0.81577283 0.6358499\n",
      " 0.98677958 0.17851124 0.4738832  0.47334979 0.08712882 0.97573199\n",
      " 0.51919855 0.42689912 0.35949046 0.37016925 0.78574045 0.38759456\n",
      " 0.41391608 0.07195028 0.97700599 0.18331277 0.6909122  0.21797781\n",
      " 0.87486716 0.6153945  0.91418747 0.73426492 0.6364053  0.59505723\n",
      " 0.66670867 0.23267549 0.38625476 0.45970418 0.84444096 0.63871052\n",
      " 0.48292741 0.37281874 0.0593939  0.30935947 0.10370857 0.10286107\n",
      " 0.96885954 0.89619639 0.21275355 0.7773755  0.13300888 0.73171338\n",
      " 0.43864424 0.87612429 0.04540625 0.09788644 0.93337235 0.71281196\n",
      " 0.32661474 0.20498006 0.69846441 0.0970007  0.60386036 0.18583681\n",
      " 0.12496823 0.12842112 0.25450315 0.76184546 0.41661671 0.33283082\n",
      " 0.42129696 0.68855141 0.78245658 0.42237961 0.68904003 0.04860653\n",
      " 0.27977911 0.97127315 0.49330654 0.52269593 0.17987508 0.68589575\n",
      " 0.99806247 0.31294606 0.3719075  0.54066048 0.8617997  0.52232162\n",
      " 0.09184991 0.7278889  0.06211188 0.11620253 0.53198106 0.1331077\n",
      " 0.40408548 0.47004011 0.81033373 0.11112082 0.86573689 0.02935853\n",
      " 0.12591305 0.31672515 0.24614821 0.09813512 0.19870839 0.48905311\n",
      " 0.47147571 0.58371503 0.53393617 0.46595147 0.38783307 0.58175431]\n"
     ]
    }
   ],
   "source": [
    "a = np.random.rand(150) # La distribución de este vector es uniforme. Se puede usar *np.random.randn* para distribución normal\n",
    "print(a)"
   ]
  },
  {
   "cell_type": "markdown",
   "id": "7a6a4da3-22a7-4441-b65c-4ebd04557b64",
   "metadata": {},
   "source": [
    "Mas info sobre [**random generators**](https://towardsdatascience.com/most-important-random-number-python-modules-to-keep-always-by-your-side-ef99a4ae624b)"
   ]
  },
  {
   "cell_type": "markdown",
   "id": "6bf668c2",
   "metadata": {},
   "source": [
    "### Modificación de la forma de arreglos\n",
    "En muchos casos es conveniente por razones de eficiencia aplicar operaciones sobre vectores en lugar que hacerlo sobre matrices. En esos casos Numpy permite cambiar las dimensiones de los arreglos con la función *reshape*.\n",
    "Esta función devuelve una vista del arreglo original, no una copia de su contenido.\n",
    "\n",
    "Por ejemplo se puede cambiar la estructura de un arreglo 1D de 100 elementos a uno 2D de 20 x 5: "
   ]
  },
  {
   "cell_type": "code",
   "execution_count": 33,
   "id": "b282777e-8a1b-4db9-9d4f-eed72bb0f415",
   "metadata": {},
   "outputs": [
    {
     "name": "stdout",
     "output_type": "stream",
     "text": [
      "[ 0  1  2  3  4  5  6  7  8  9 10 11 12 13 14 15 16 17 18 19 20 21 22 23\n",
      " 24 25 26 27 28 29 30 31 32 33 34 35 36 37 38 39 40 41 42 43 44 45 46 47\n",
      " 48 49 50 51 52 53 54 55 56 57 58 59 60 61 62 63 64 65 66 67 68 69 70 71\n",
      " 72 73 74 75 76 77 78 79 80 81 82 83 84 85 86 87 88 89 90 91 92 93 94 95\n",
      " 96 97 98 99]\n"
     ]
    }
   ],
   "source": [
    "a = np.arange(100)\n",
    "print(a)"
   ]
  },
  {
   "cell_type": "code",
   "execution_count": 34,
   "id": "0c9ccb25-29a9-4355-b00b-69adbabd17e7",
   "metadata": {},
   "outputs": [
    {
     "name": "stdout",
     "output_type": "stream",
     "text": [
      "[[ 0  1  2  3  4]\n",
      " [ 5  6  7  8  9]\n",
      " [10 11 12 13 14]\n",
      " [15 16 17 18 19]\n",
      " [20 21 22 23 24]\n",
      " [25 26 27 28 29]\n",
      " [30 31 32 33 34]\n",
      " [35 36 37 38 39]\n",
      " [40 41 42 43 44]\n",
      " [45 46 47 48 49]\n",
      " [50 51 52 53 54]\n",
      " [55 56 57 58 59]\n",
      " [60 61 62 63 64]\n",
      " [65 66 67 68 69]\n",
      " [70 71 72 73 74]\n",
      " [75 76 77 78 79]\n",
      " [80 81 82 83 84]\n",
      " [85 86 87 88 89]\n",
      " [90 91 92 93 94]\n",
      " [95 96 97 98 99]]\n"
     ]
    }
   ],
   "source": [
    "b = a.reshape(20,5)\n",
    "print(b)"
   ]
  },
  {
   "cell_type": "markdown",
   "id": "976f54c6",
   "metadata": {},
   "source": [
    "Y se puede volver a convertir en una matriz, aunque se desconozca sus dimensiones a un vector 1D, operación que se llama aplanado o *flattening* haciendo: "
   ]
  },
  {
   "cell_type": "code",
   "execution_count": 35,
   "id": "119df8cf",
   "metadata": {},
   "outputs": [
    {
     "name": "stdout",
     "output_type": "stream",
     "text": [
      "[ 0  1  2  3  4  5  6  7  8  9 10 11 12 13 14 15 16 17 18 19 20 21 22 23\n",
      " 24 25 26 27 28 29 30 31 32 33 34 35 36 37 38 39 40 41 42 43 44 45 46 47\n",
      " 48 49 50 51 52 53 54 55 56 57 58 59 60 61 62 63 64 65 66 67 68 69 70 71\n",
      " 72 73 74 75 76 77 78 79 80 81 82 83 84 85 86 87 88 89 90 91 92 93 94 95\n",
      " 96 97 98 99]\n"
     ]
    }
   ],
   "source": [
    "c = b.reshape(-1) \n",
    "print(c)"
   ]
  },
  {
   "cell_type": "markdown",
   "id": "eea11215",
   "metadata": {},
   "source": [
    "## Indexado y recortes"
   ]
  },
  {
   "cell_type": "markdown",
   "id": "bf312e42",
   "metadata": {},
   "source": [
    "El indexado y recorte de subconjuntos de arreglos en Numpy es similar al estándar de Python. Una de las principales diferencias es que al asignar un segmento de un array en Numpy a otra variable, en realidad se opera sobre una vista en memoria de esos elementos, no se copian esos valores como se hace en listas ordinarias de Python:"
   ]
  },
  {
   "cell_type": "code",
   "execution_count": 4,
   "id": "e78b516b-9c9c-4a91-913a-5f3943b224a1",
   "metadata": {},
   "outputs": [
    {
     "name": "stdout",
     "output_type": "stream",
     "text": [
      "[3 4 5 6 7 8 9]\n"
     ]
    }
   ],
   "source": [
    "a = np.arange(100)  # array del 0 al 99\n",
    "b = a[3:10]\n",
    "print(b)"
   ]
  },
  {
   "cell_type": "code",
   "execution_count": 7,
   "id": "2cb6f1f5-8ad7-42ab-95ed-fdf6514d07e5",
   "metadata": {},
   "outputs": [
    {
     "name": "stdout",
     "output_type": "stream",
     "text": [
      "[-99   4   5   6   7   8   9]\n"
     ]
    }
   ],
   "source": [
    "b[0] = -99\n",
    "print(b)"
   ]
  },
  {
   "cell_type": "code",
   "execution_count": 9,
   "id": "07b9a737-a109-4fb2-b8aa-b3762a463585",
   "metadata": {},
   "outputs": [
    {
     "name": "stdout",
     "output_type": "stream",
     "text": [
      "[  0   1   2 -99   4   5   6   7   8   9  10  11  12  13  14  15  16  17\n",
      "  18  19  20  21  22  23  24  25  26  27  28  29  30  31  32  33  34  35\n",
      "  36  37  38  39  40  41  42  43  44  45  46  47  48  49  50  51  52  53\n",
      "  54  55  56  57  58  59  60  61  62  63  64  65  66  67  68  69  70  71\n",
      "  72  73  74  75  76  77  78  79  80  81  82  83  84  85  86  87  88  89\n",
      "  90  91  92  93  94  95  96  97  98  99]\n"
     ]
    }
   ],
   "source": [
    "print(a)  # ver 4to elemento"
   ]
  },
  {
   "cell_type": "markdown",
   "id": "80f8cb79",
   "metadata": {},
   "source": [
    "Para forzar una copia se puede hacer:"
   ]
  },
  {
   "cell_type": "code",
   "execution_count": 11,
   "id": "ab95c5b8",
   "metadata": {},
   "outputs": [
    {
     "name": "stdout",
     "output_type": "stream",
     "text": [
      "[3 4 5 6 7 8 9]\n",
      "[-99   4   5   6   7   8   9]\n",
      "[ 0  1  2  3  4  5  6  7  8  9 10 11 12 13 14 15 16 17 18 19 20 21 22 23\n",
      " 24 25 26 27 28 29 30 31 32 33 34 35 36 37 38 39 40 41 42 43 44 45 46 47\n",
      " 48 49 50 51 52 53 54 55 56 57 58 59 60 61 62 63 64 65 66 67 68 69 70 71\n",
      " 72 73 74 75 76 77 78 79 80 81 82 83 84 85 86 87 88 89 90 91 92 93 94 95\n",
      " 96 97 98 99]\n"
     ]
    }
   ],
   "source": [
    "a = np.arange(100)\n",
    "b = a[3:10].copy()\n",
    "print(b)\n",
    "b[0] = -99\n",
    "print(b)\n",
    "print(a)  # no se modificó 4to elemento"
   ]
  },
  {
   "cell_type": "markdown",
   "id": "364b57af",
   "metadata": {},
   "source": [
    "### Indexado\n",
    "A continuación se muestran algunas operaciones de indexado básicas:"
   ]
  },
  {
   "cell_type": "code",
   "execution_count": 12,
   "id": "62fedd17",
   "metadata": {},
   "outputs": [
    {
     "data": {
      "text/plain": [
       "array([1, 2, 3, 4])"
      ]
     },
     "execution_count": 12,
     "metadata": {},
     "output_type": "execute_result"
    }
   ],
   "source": [
    "a[1:5]     # índices de 1 a 4"
   ]
  },
  {
   "cell_type": "code",
   "execution_count": 13,
   "id": "50a4c70f",
   "metadata": {},
   "outputs": [
    {
     "data": {
      "text/plain": [
       "array([0, 1, 2, 3, 4])"
      ]
     },
     "execution_count": 13,
     "metadata": {},
     "output_type": "execute_result"
    }
   ],
   "source": [
    "a[:5]      # índices de 0 a 4"
   ]
  },
  {
   "cell_type": "code",
   "execution_count": 14,
   "id": "6149be83",
   "metadata": {},
   "outputs": [
    {
     "data": {
      "text/plain": [
       "array([ 2,  3,  4,  5,  6,  7,  8,  9, 10, 11, 12, 13, 14, 15, 16, 17, 18,\n",
       "       19, 20, 21, 22, 23, 24, 25, 26, 27, 28, 29, 30, 31, 32, 33, 34, 35,\n",
       "       36, 37, 38, 39, 40, 41, 42, 43, 44, 45, 46, 47, 48, 49, 50, 51, 52,\n",
       "       53, 54, 55, 56, 57, 58, 59, 60, 61, 62, 63, 64, 65, 66, 67, 68, 69,\n",
       "       70, 71, 72, 73, 74, 75, 76, 77, 78, 79, 80, 81, 82, 83, 84, 85, 86,\n",
       "       87, 88, 89, 90, 91, 92, 93, 94, 95, 96, 97, 98, 99])"
      ]
     },
     "execution_count": 14,
     "metadata": {},
     "output_type": "execute_result"
    }
   ],
   "source": [
    "a[2:]      # índices del 2 hasta el último elemento"
   ]
  },
  {
   "cell_type": "code",
   "execution_count": 15,
   "id": "05a58add",
   "metadata": {},
   "outputs": [
    {
     "data": {
      "text/plain": [
       "array([99, 98, 97, 96, 95, 94, 93, 92, 91, 90, 89, 88, 87, 86, 85, 84, 83,\n",
       "       82, 81, 80, 79, 78, 77, 76, 75, 74, 73, 72, 71, 70, 69, 68, 67, 66,\n",
       "       65, 64, 63, 62, 61, 60, 59, 58, 57, 56, 55, 54, 53, 52, 51, 50, 49,\n",
       "       48, 47, 46, 45, 44, 43, 42, 41, 40, 39, 38, 37, 36, 35, 34, 33, 32,\n",
       "       31, 30, 29, 28, 27, 26, 25, 24, 23, 22, 21, 20, 19, 18, 17, 16, 15,\n",
       "       14, 13, 12, 11, 10,  9,  8,  7,  6,  5,  4,  3,  2,  1,  0])"
      ]
     },
     "execution_count": 15,
     "metadata": {},
     "output_type": "execute_result"
    }
   ],
   "source": [
    "a[::-1]    # reversión del arreglo"
   ]
  },
  {
   "cell_type": "code",
   "execution_count": 16,
   "id": "b4dbcee0",
   "metadata": {},
   "outputs": [
    {
     "data": {
      "text/plain": [
       "array([ 0,  2,  4,  6,  8, 10, 12, 14, 16, 18, 20, 22, 24, 26, 28, 30, 32,\n",
       "       34, 36, 38, 40, 42, 44, 46, 48, 50, 52, 54, 56, 58, 60, 62, 64, 66,\n",
       "       68, 70, 72, 74, 76, 78, 80, 82, 84, 86, 88, 90, 92, 94, 96, 98])"
      ]
     },
     "execution_count": 16,
     "metadata": {},
     "output_type": "execute_result"
    }
   ],
   "source": [
    "a[::2]     # índices desde el inicio al final salteando de a dos"
   ]
  },
  {
   "cell_type": "markdown",
   "id": "c06eccf3",
   "metadata": {},
   "source": [
    "Selección de filas o columnas completas:"
   ]
  },
  {
   "cell_type": "code",
   "execution_count": 37,
   "id": "1205f643",
   "metadata": {},
   "outputs": [
    {
     "data": {
      "text/plain": [
       "array([[9. , 6.9, 3.6, 3.5],\n",
       "       [5.5, 0.6, 1.2, 0.1],\n",
       "       [5.2, 3.1, 0. , 8.8],\n",
       "       [3.5, 3.9, 5.2, 7.8],\n",
       "       [4.1, 3.3, 8.1, 6.6]])"
      ]
     },
     "execution_count": 37,
     "metadata": {},
     "output_type": "execute_result"
    }
   ],
   "source": [
    "# Creamos una matriz (5x4) con números aleatorios\n",
    "A = np.round(10*np.random.rand(5,4), 1)\n",
    "A "
   ]
  },
  {
   "cell_type": "markdown",
   "id": "a1ff4a82",
   "metadata": {},
   "source": [
    "Selección de la segunda fila completa"
   ]
  },
  {
   "cell_type": "code",
   "execution_count": 38,
   "id": "394ee869",
   "metadata": {},
   "outputs": [
    {
     "data": {
      "text/plain": [
       "array([5.5, 0.6, 1.2, 0.1])"
      ]
     },
     "execution_count": 38,
     "metadata": {},
     "output_type": "execute_result"
    }
   ],
   "source": [
    "A[1,:]"
   ]
  },
  {
   "cell_type": "markdown",
   "id": "295033ff",
   "metadata": {},
   "source": [
    "Selección de la tercera columna completa:"
   ]
  },
  {
   "cell_type": "code",
   "execution_count": 39,
   "id": "781b9c29",
   "metadata": {},
   "outputs": [
    {
     "data": {
      "text/plain": [
       "array([3.6, 1.2, 0. , 5.2, 8.1])"
      ]
     },
     "execution_count": 39,
     "metadata": {},
     "output_type": "execute_result"
    }
   ],
   "source": [
    "A[:,2]    # Selección de la segunda fila completa"
   ]
  },
  {
   "cell_type": "markdown",
   "id": "350848d2",
   "metadata": {},
   "source": [
    "Selección de las filas 2 y 3 y de esas las columnas 3 y 4"
   ]
  },
  {
   "cell_type": "code",
   "execution_count": 40,
   "id": "686b60c0",
   "metadata": {},
   "outputs": [
    {
     "data": {
      "text/plain": [
       "array([[1.2, 0.1],\n",
       "       [0. , 8.8]])"
      ]
     },
     "execution_count": 40,
     "metadata": {},
     "output_type": "execute_result"
    }
   ],
   "source": [
    "A[1:3,2:4]"
   ]
  },
  {
   "cell_type": "markdown",
   "id": "6db562c5",
   "metadata": {},
   "source": [
    "También es posible indexar usando máscaras de índices. Esta alternativa es muy usada cuando se quiere elegir elementos que satisfagan cierta condición. El slicing por máscaras devuelve **es una copia y no una vista de memoria**."
   ]
  },
  {
   "cell_type": "code",
   "execution_count": 41,
   "id": "50d32684-db2c-4ec5-9435-db9f8381407f",
   "metadata": {},
   "outputs": [
    {
     "name": "stdout",
     "output_type": "stream",
     "text": [
      "[100 101 102 103 104 105 106 107 108 109 110 111 112 113 114 115 116 117\n",
      " 118 119 120 121 122 123 124 125 126 127 128 129 130 131 132 133 134 135\n",
      " 136 137 138 139 140 141 142 143 144 145 146 147 148 149 150 151 152 153\n",
      " 154 155 156 157 158 159 160 161 162 163 164 165 166 167 168 169 170 171\n",
      " 172 173 174 175 176 177 178 179 180 181 182 183 184 185 186 187 188 189\n",
      " 190 191 192 193 194 195 196 197 198 199]\n",
      "[103 105 106]\n"
     ]
    }
   ],
   "source": [
    "a = np.arange(100, 200)\n",
    "print(a)\n",
    "b = a[[3,5,6]]\n",
    "print(b)"
   ]
  },
  {
   "cell_type": "code",
   "execution_count": 42,
   "id": "572136e6-b6db-4e8e-8973-a71542321845",
   "metadata": {},
   "outputs": [
    {
     "name": "stdout",
     "output_type": "stream",
     "text": [
      "[100 101 102 103 104 105 106 107 108 109 110 111 112 113 114 115 116 117\n",
      " 118 119 120 121 122 123 124 125 126 127 128 129 130 131 132 133 134 135\n",
      " 136 137 138 139 140 141 142 143 144 145 146 147 148 149 150 151 152 153\n",
      " 154 155 156 157 158 159 160 161 162 163 164 165 166 167 168 169 170 171\n",
      " 172 173 174 175 176 177 178 179 180 181 182 183 184 185 186 187 188 189\n",
      " 190 191 192 193 194 195 196 197 198 199]\n"
     ]
    }
   ],
   "source": [
    "b[0] = -99\n",
    "print(a)  # no se modificó el elemento"
   ]
  },
  {
   "cell_type": "markdown",
   "id": "3f751d10",
   "metadata": {},
   "source": [
    "Este mismo tipo de indexado se puede emplear con condiciones lógicas de la sigueinte manera:"
   ]
  },
  {
   "cell_type": "code",
   "execution_count": 43,
   "id": "4b801d67",
   "metadata": {},
   "outputs": [
    {
     "data": {
      "text/plain": [
       "array([100, 101, 102, 103, 104, 105, 106, 107, 108, 109, 110, 111, 112,\n",
       "       113, 114, 115, 116, 117, 118, 119, 120, 121, 122, 123, 124, 125,\n",
       "       126, 127, 128, 129, 130, 131, 132, 133, 134, 135, 136, 137, 138,\n",
       "       139, 140, 141, 142, 143, 144, 145, 146, 147, 148, 149])"
      ]
     },
     "execution_count": 43,
     "metadata": {},
     "output_type": "execute_result"
    }
   ],
   "source": [
    "b = a[a<150]\n",
    "b"
   ]
  },
  {
   "cell_type": "code",
   "execution_count": 44,
   "id": "3ee970fa",
   "metadata": {},
   "outputs": [
    {
     "data": {
      "text/plain": [
       "array([126, 127, 128, 129, 130, 131, 132, 133, 134, 135, 136, 137, 138,\n",
       "       139, 140, 141, 142, 143, 144, 145, 146, 147, 148, 149])"
      ]
     },
     "execution_count": 44,
     "metadata": {},
     "output_type": "execute_result"
    }
   ],
   "source": [
    "b = a[(a<150) & (a>125)]\n",
    "b"
   ]
  },
  {
   "cell_type": "markdown",
   "id": "d0f0bd0f",
   "metadata": {},
   "source": [
    "### Ordenamiento de datos\n",
    "Es posible usar la función de Numpy *sort* para ordenar los datos de una matriz por columnas:"
   ]
  },
  {
   "cell_type": "code",
   "execution_count": 45,
   "id": "871b2adf",
   "metadata": {},
   "outputs": [
    {
     "name": "stdout",
     "output_type": "stream",
     "text": [
      "Antes de ordenar\n",
      "[[9.  6.9 3.6 3.5]\n",
      " [5.5 0.6 1.2 0.1]\n",
      " [5.2 3.1 0.  8.8]\n",
      " [3.5 3.9 5.2 7.8]\n",
      " [4.1 3.3 8.1 6.6]]\n",
      "Luego de ordenar\n",
      "[[3.5 0.6 0.  0.1]\n",
      " [4.1 3.1 1.2 3.5]\n",
      " [5.2 3.3 3.6 6.6]\n",
      " [5.5 3.9 5.2 7.8]\n",
      " [9.  6.9 8.1 8.8]]\n"
     ]
    }
   ],
   "source": [
    "print(\"Antes de ordenar\")\n",
    "print(A)\n",
    "A.sort(axis=0)\n",
    "print(\"Luego de ordenar\")\n",
    "print(A)"
   ]
  },
  {
   "cell_type": "markdown",
   "id": "2bdbd8e3",
   "metadata": {},
   "source": [
    "O por filas:"
   ]
  },
  {
   "cell_type": "code",
   "execution_count": 46,
   "id": "d46d96ee",
   "metadata": {},
   "outputs": [
    {
     "data": {
      "text/plain": [
       "array([[0. , 0.1, 0.6, 3.5],\n",
       "       [1.2, 3.1, 3.5, 4.1],\n",
       "       [3.3, 3.6, 5.2, 6.6],\n",
       "       [3.9, 5.2, 5.5, 7.8],\n",
       "       [6.9, 8.1, 8.8, 9. ]])"
      ]
     },
     "execution_count": 46,
     "metadata": {},
     "output_type": "execute_result"
    }
   ],
   "source": [
    "A.sort(axis=1)\n",
    "A"
   ]
  },
  {
   "cell_type": "markdown",
   "id": "a1212306",
   "metadata": {},
   "source": [
    "### Transmisión de matrices (Broadcasting)\n",
    "La transmisión de matrices es un mecanismo que permite a Numpy operar aritméticamente sobre arreglos de diferentes tamaños. Una situación común es cuando se quiere realizar una operación que aplica un vector más pequeño múltiples veces sobre otro otro vector más grande.\n",
    "\n",
    "Por ejemplo, sumar un vector constante a cada fila de una matriz. Podríamos hacerlo así:"
   ]
  },
  {
   "cell_type": "code",
   "execution_count": 47,
   "id": "a5e59df8",
   "metadata": {},
   "outputs": [
    {
     "name": "stdout",
     "output_type": "stream",
     "text": [
      "[[ 1  2  3]\n",
      " [ 4  5  6]\n",
      " [ 7  8  9]\n",
      " [10 11 12]]\n",
      "[1 0 1]\n",
      "[[ 2  2  4]\n",
      " [ 5  5  7]\n",
      " [ 8  8 10]\n",
      " [11 11 13]]\n"
     ]
    }
   ],
   "source": [
    "a = np.array([[1,2,3], [4,5,6], [7,8,9], [10, 11, 12]])\n",
    "print(a)\n",
    "b = np.array([1, 0, 1])\n",
    "print(b)\n",
    "y = np.empty_like(a)   # Crea una matriz vacía del tamaño de a\n",
    "\n",
    "# Sumar el vector b a cada fila de a:\n",
    "for i in range(4):\n",
    "    y[i, :] = a[i, :] + b\n",
    "\n",
    "print (y)"
   ]
  },
  {
   "cell_type": "markdown",
   "id": "19fc075c",
   "metadata": {},
   "source": [
    "Si bien ese procedimiento funciona, cuando la matriz *a* es muy grande, calcular un bucle explícito en Python sería muy lento. Otra opción sería hacer múltiples copias para llevar a b al tamaño de a:"
   ]
  },
  {
   "cell_type": "code",
   "execution_count": 48,
   "id": "8b5de53d",
   "metadata": {},
   "outputs": [
    {
     "name": "stdout",
     "output_type": "stream",
     "text": [
      "[[1 0 1]\n",
      " [1 0 1]\n",
      " [1 0 1]\n",
      " [1 0 1]]\n",
      "[[ 2  2  4]\n",
      " [ 5  5  7]\n",
      " [ 8  8 10]\n",
      " [11 11 13]]\n"
     ]
    }
   ],
   "source": [
    "bb = np.tile(b, (4, 1))  # Apila 4 copias of b una arriba de la otra\n",
    "print (bb)\n",
    "\n",
    "y = a + bb\n",
    "print (y)"
   ]
  },
  {
   "cell_type": "markdown",
   "id": "fec75d9d",
   "metadata": {},
   "source": [
    "El mecanismo de *broadcasting* o transmisión de Numpy permite hacer algo parecido a lo anterior pero sin la necesidad de crear esa versión con múltiples copias de b:"
   ]
  },
  {
   "cell_type": "code",
   "execution_count": 49,
   "id": "54b5fdf0",
   "metadata": {},
   "outputs": [
    {
     "name": "stdout",
     "output_type": "stream",
     "text": [
      "[[ 2  2  4]\n",
      " [ 5  5  7]\n",
      " [ 8  8 10]\n",
      " [11 11 13]]\n"
     ]
    }
   ],
   "source": [
    "y = a + b\n",
    "print (y)"
   ]
  },
  {
   "cell_type": "markdown",
   "id": "cef78ab1",
   "metadata": {},
   "source": [
    "### Velocidad de procesamiento\n",
    "A continuación veremos una comparación de velocidades de ejecución de una operación de suma de 1 millón de elementos usando la función de suma estándar de Python, y su contraparte de Numpy: "
   ]
  },
  {
   "cell_type": "code",
   "execution_count": 51,
   "id": "b9e75977",
   "metadata": {},
   "outputs": [
    {
     "name": "stdout",
     "output_type": "stream",
     "text": [
      "104 ms ± 2.2 ms per loop (mean ± std. dev. of 7 runs, 10 loops each)\n",
      "643 µs ± 20.7 µs per loop (mean ± std. dev. of 7 runs, 1,000 loops each)\n"
     ]
    }
   ],
   "source": [
    "b = np.random.rand(1000000)\n",
    "%timeit sum(b)     # sum de librría estándar\n",
    "%timeit np.sum(b)  # sum de NumPy"
   ]
  },
  {
   "cell_type": "markdown",
   "id": "8492f80d-15ae-4dde-ab7b-03fc52d4b3b1",
   "metadata": {},
   "source": [
    "## Ejercitación 1"
   ]
  },
  {
   "cell_type": "markdown",
   "id": "a3ad3468-52f0-4f1c-a5c9-8fa0c6f0e50c",
   "metadata": {},
   "source": [
    "<img src=\"images/problem_1.png\" alt= “” width=\"800\">"
   ]
  },
  {
   "cell_type": "markdown",
   "id": "c2f418d1-3b97-4e75-9177-9b8c11a52dd0",
   "metadata": {},
   "source": [
    "**Calcular la probabilidad de que salga un 6**"
   ]
  },
  {
   "cell_type": "markdown",
   "id": "075569bb-4c8b-4f81-9d88-b28e4aed88cd",
   "metadata": {},
   "source": [
    "Posible solución tradicional"
   ]
  },
  {
   "cell_type": "code",
   "execution_count": 80,
   "id": "578056e9-4614-4b7a-a2a5-79d4629c9cae",
   "metadata": {},
   "outputs": [],
   "source": [
    "def probabilidad_con_for(N):\n",
    "    import random\n",
    "\n",
    "    M = 0  # cantidad de veces que salió un 6\n",
    "\n",
    "    for i in range(N):\n",
    "        valor = random.randint(1, 6)  # lanzamos el dado\n",
    "        if valor == 6:  # verificamos si es 6\n",
    "            M += 1  # contamos un 6\n",
    "\n",
    "    return M/N"
   ]
  },
  {
   "cell_type": "code",
   "execution_count": 92,
   "id": "048f2908-9b27-4538-9244-bdf889059d8d",
   "metadata": {},
   "outputs": [
    {
     "name": "stdout",
     "output_type": "stream",
     "text": [
      "0.1683\n"
     ]
    }
   ],
   "source": [
    "N = 10000  # cantidad de lanzamientos\n",
    "\n",
    "p_1 = probabilidad_con_for(N)\n",
    "print(p_1)"
   ]
  },
  {
   "cell_type": "markdown",
   "id": "ecda72ff-58d3-4376-99bd-0c98bdbb01f8",
   "metadata": {},
   "source": [
    "## Ejercitación 2"
   ]
  },
  {
   "cell_type": "markdown",
   "id": "9f52f476-24c0-4646-95a8-194e3666a4bb",
   "metadata": {},
   "source": [
    "Estimar el valor de Pi utilizando la técnica de Monte Carlo"
   ]
  },
  {
   "cell_type": "markdown",
   "id": "2e00c221-56da-457b-a09e-b75d98c7780a",
   "metadata": {},
   "source": [
    "<img src=\"images/pi-monte-carlo-square-circle.png\" width=300>\n",
    "Para resolverlo, pensemos en un proceso de generar puntos completamente aleatorio y todas las posiciones de dichos puntos son igualmente probables. \n",
    "\n",
    "En este caso, podemos decir que el número de puntos que caen dentro del círculo ($N_c$) dividido por el número total puntos totales (que caen en el cuadrado) ($N_t$) cumple con lo siguiente:\n",
    "\n",
    "$$\n",
    "  \\frac{N_c}{N_t}=\\frac{\\mathrm{Area\\:circulo}}{\\mathrm{Area\\:cuadrado}}=\\frac{\\pi r^{2}}{(2r)^{2}}=\\frac{\\pi}{4}\n",
    "$$\n",
    "$$\n",
    "    \\pi = 4 \\times \\frac{N_c}{N_t}\n",
    "$$\n",
    "\n",
    "Para saber si un punto cayó dentro del círculo, las coordenadas deberían cumplir la siguiente ecuación:\n",
    "$$ x^{2} + y^{2} \\leq 1 $$"
   ]
  },
  {
   "cell_type": "code",
   "execution_count": 98,
   "id": "cf923e48-2d68-4862-8731-eeca3a73a21b",
   "metadata": {},
   "outputs": [
    {
     "name": "stdout",
     "output_type": "stream",
     "text": [
      "Estimación de Pi: 3.1425520\n",
      "Valor de Pi:      3.1415927\n"
     ]
    }
   ],
   "source": [
    "import random\n",
    "import math\n",
    "\n",
    "N_t = 1000000  # puntos totales\n",
    "N_c = 0  # contador de puntos en el círculo\n",
    "\n",
    "for i in range(0, N_t):\n",
    "    x = random.uniform(-1.0, 1.0)\n",
    "    y = random.uniform(-1.0, 1.0)\n",
    "    \n",
    "    if math.sqrt(x*x + y*y) <= 1:  # verifica si cae dentro del círculo\n",
    "        N_c += 1\n",
    "\n",
    "pi = 4 * N_c/N_t  # cálculo de Pi\n",
    "\n",
    "print(\"Estimación de Pi: %.7f\" % pi)\n",
    "print(\"Valor de Pi:      %.7f\" % math.pi)"
   ]
  },
  {
   "cell_type": "markdown",
   "id": "8da158e7-780a-441b-8e6b-190ac1bd094f",
   "metadata": {},
   "source": [
    "## Otras funciones útiles de NumPy"
   ]
  },
  {
   "cell_type": "markdown",
   "id": "f832c341-81bb-40a4-816d-e4f8d008b8a3",
   "metadata": {},
   "source": [
    "Operaciones sobre los elementos del vector"
   ]
  },
  {
   "cell_type": "code",
   "execution_count": 7,
   "id": "8ee95bad-838b-4da4-a789-c780458caf3b",
   "metadata": {},
   "outputs": [
    {
     "name": "stdout",
     "output_type": "stream",
     "text": [
      "[0 1 2 3 4]\n",
      "[0 1 2 3 4]\n"
     ]
    }
   ],
   "source": [
    "a = np.arange(5) \n",
    "b = np.arange(5) \n",
    "print(a)\n",
    "print(b)"
   ]
  },
  {
   "cell_type": "code",
   "execution_count": 2,
   "id": "c8cb955a-0b65-4cad-9824-c4ef08972211",
   "metadata": {},
   "outputs": [
    {
     "data": {
      "text/plain": [
       "array([0, 2, 4, 6, 8])"
      ]
     },
     "execution_count": 2,
     "metadata": {},
     "output_type": "execute_result"
    }
   ],
   "source": [
    "a + b"
   ]
  },
  {
   "cell_type": "code",
   "execution_count": 3,
   "id": "d3c65547-039d-44b0-85d5-4eee6f7aead5",
   "metadata": {},
   "outputs": [
    {
     "data": {
      "text/plain": [
       "array([0, 0, 0, 0, 0])"
      ]
     },
     "execution_count": 3,
     "metadata": {},
     "output_type": "execute_result"
    }
   ],
   "source": [
    "a - b\n"
   ]
  },
  {
   "cell_type": "code",
   "execution_count": 4,
   "id": "672f3980-65ec-412f-8af2-ae02c123f9b2",
   "metadata": {},
   "outputs": [
    {
     "data": {
      "text/plain": [
       "array([ 0,  1,  4,  9, 16])"
      ]
     },
     "execution_count": 4,
     "metadata": {},
     "output_type": "execute_result"
    }
   ],
   "source": [
    "a**2"
   ]
  },
  {
   "cell_type": "code",
   "execution_count": 5,
   "id": "ba2644de-6e04-4f25-bf19-e89dc712384f",
   "metadata": {},
   "outputs": [
    {
     "data": {
      "text/plain": [
       "array([ 0.        ,  8.41470985,  9.09297427,  1.41120008, -7.56802495])"
      ]
     },
     "execution_count": 5,
     "metadata": {},
     "output_type": "execute_result"
    }
   ],
   "source": [
    "10 * np.sin(a)"
   ]
  },
  {
   "cell_type": "code",
   "execution_count": 8,
   "id": "8e9f76c2-962e-4898-9bfb-3604ad8afa8f",
   "metadata": {},
   "outputs": [
    {
     "data": {
      "text/plain": [
       "array([ 0,  1,  4,  9, 16])"
      ]
     },
     "execution_count": 8,
     "metadata": {},
     "output_type": "execute_result"
    }
   ],
   "source": [
    "a * b  # multiplicación elemento a elemento"
   ]
  },
  {
   "cell_type": "markdown",
   "id": "6547bfd5-d210-47aa-ac4a-5df419a7dbd6",
   "metadata": {},
   "source": [
    "Operaciones matriciales y vectoriales"
   ]
  },
  {
   "cell_type": "code",
   "execution_count": 23,
   "id": "84791860-7110-436f-97c8-0be300d82cf5",
   "metadata": {},
   "outputs": [
    {
     "name": "stdout",
     "output_type": "stream",
     "text": [
      "Matriz 1 (3, 3)\n",
      "[[1 2 3]\n",
      " [4 5 6]\n",
      " [7 8 9]]\n",
      "Matriz 2 (3, 4)\n",
      "[[9 8 7 6]\n",
      " [5 4 3 3]\n",
      " [2 1 2 0]]\n"
     ]
    }
   ],
   "source": [
    "M1 = np.array([[1,2,3],[4,5,6],[7,8,9]])\n",
    "M2 = np.array([[9,8,7,6],[5,4,3,3],[2,1,2,0]])\n",
    "\n",
    "print(\"Matriz 1 {}\".format(M1.shape))\n",
    "print(M1)\n",
    "print(\"Matriz 2 {}\".format(M2.shape))\n",
    "print(M2)"
   ]
  },
  {
   "cell_type": "code",
   "execution_count": 13,
   "id": "4472a50a-95fb-4542-ad44-1ce850d903a7",
   "metadata": {},
   "outputs": [
    {
     "data": {
      "text/plain": [
       "array([[ 25,  19,  19,  12],\n",
       "       [ 73,  58,  55,  39],\n",
       "       [121,  97,  91,  66]])"
      ]
     },
     "execution_count": 13,
     "metadata": {},
     "output_type": "execute_result"
    }
   ],
   "source": [
    "np.matmul(M1, M2)  # multiplicación matricial"
   ]
  },
  {
   "cell_type": "code",
   "execution_count": 29,
   "id": "9efd2362-8d27-493b-a844-a1e308b20dc1",
   "metadata": {},
   "outputs": [
    {
     "data": {
      "text/plain": [
       "array([[ 25,  19,  19,  12],\n",
       "       [ 73,  58,  55,  39],\n",
       "       [121,  97,  91,  66]])"
      ]
     },
     "execution_count": 29,
     "metadata": {},
     "output_type": "execute_result"
    }
   ],
   "source": [
    "M1 @ M2  # otra opción más corta"
   ]
  },
  {
   "cell_type": "code",
   "execution_count": 28,
   "id": "a18327ca-8e7c-4c62-9a11-4b7380f35a8d",
   "metadata": {},
   "outputs": [],
   "source": [
    "# Intentar hacer M2 x M1"
   ]
  },
  {
   "cell_type": "code",
   "execution_count": 15,
   "id": "1e3cf6f2-6781-4920-81f5-b97cbb442691",
   "metadata": {},
   "outputs": [],
   "source": [
    "a1 = np.array([1,2,3])\n",
    "a2 = np.array([2,1,2])"
   ]
  },
  {
   "cell_type": "code",
   "execution_count": 18,
   "id": "7a410ffb-f57f-443d-a984-8788f5ab6d9f",
   "metadata": {},
   "outputs": [
    {
     "data": {
      "text/plain": [
       "10"
      ]
     },
     "execution_count": 18,
     "metadata": {},
     "output_type": "execute_result"
    }
   ],
   "source": [
    "np.dot(a1, a2)  # producto punto o escalar"
   ]
  },
  {
   "cell_type": "code",
   "execution_count": 19,
   "id": "0541b289-0623-41be-afea-d3d195b91727",
   "metadata": {},
   "outputs": [
    {
     "data": {
      "text/plain": [
       "array([ 1,  4, -3])"
      ]
     },
     "execution_count": 19,
     "metadata": {},
     "output_type": "execute_result"
    }
   ],
   "source": [
    "np.cross(a1, a2)  # producto cruz o vectorial"
   ]
  },
  {
   "cell_type": "markdown",
   "id": "1012b896-ccd3-445f-8759-2bc0fedf3df6",
   "metadata": {},
   "source": [
    "Una de las razones más comunes de uso del paquete NumPy es su módulo de álgebra lineal [numpy.linalg](https://numpy.org/doc/stable/reference/routines.linalg.html)"
   ]
  },
  {
   "cell_type": "code",
   "execution_count": 34,
   "id": "0cc003cf-109d-40fd-a3a8-31bc98d988f2",
   "metadata": {},
   "outputs": [
    {
     "name": "stdout",
     "output_type": "stream",
     "text": [
      "[[1. 2.]\n",
      " [3. 4.]]\n"
     ]
    }
   ],
   "source": [
    "a = np.array([[1.0, 2.0], [3.0, 4.0]]) \n",
    "print(a)"
   ]
  },
  {
   "cell_type": "code",
   "execution_count": 35,
   "id": "40cf1256-9a45-449d-8f39-386238293090",
   "metadata": {},
   "outputs": [
    {
     "name": "stdout",
     "output_type": "stream",
     "text": [
      "[[-2.   1. ]\n",
      " [ 1.5 -0.5]]\n"
     ]
    }
   ],
   "source": [
    "a_inv = np.linalg.inv(a) # matriz inversa\n",
    "print(a_inv)"
   ]
  },
  {
   "cell_type": "markdown",
   "id": "355a100f-79b1-448a-996e-17fff5f0abea",
   "metadata": {},
   "source": [
    "Para resolver el sistema de ecuaciones\n",
    "$$ 3 x_0 + x_1 = 9 $$\n",
    "$$ x_0 + 2 x_1 = 8 $$"
   ]
  },
  {
   "cell_type": "code",
   "execution_count": 37,
   "id": "7eb3c542-0f31-47c5-9cef-a297b1cda645",
   "metadata": {},
   "outputs": [
    {
     "data": {
      "text/plain": [
       "array([2., 3.])"
      ]
     },
     "execution_count": 37,
     "metadata": {},
     "output_type": "execute_result"
    }
   ],
   "source": [
    "# Se representa con matrices de la forma Ax = b\n",
    "A = np.array([[3,1], [1,2]])\n",
    "b = np.array([9,8])\n",
    "# Para resolver se debe realizar x = A⁻¹b, que NumPy lo realiza con la función \"solve\"\n",
    "x = np.linalg.solve(A, b)\n",
    "x"
   ]
  },
  {
   "cell_type": "markdown",
   "id": "7a855191-abdf-4880-a7d6-571d8b3b7ad9",
   "metadata": {},
   "source": [
    "## Ejercitación 3"
   ]
  },
  {
   "cell_type": "markdown",
   "id": "c02f8561-7fe6-4857-985b-7e93b8926d13",
   "metadata": {},
   "source": [
    "A partir de la base de datos del Personal de Ciencia y Tecnología de Argentina (extraído del SICYTAR) del año 2018, determinar:\n",
    "- la cantidad de personas que trabajan en CyT, \n",
    "- el promedio de edad, \n",
    "- el promedio y desviación estándar de la producción por persona en los último 4 años, y \n",
    "- el número máximo de producciones en los últimos 4 años de una persona.\n",
    "\n",
    "*Ayuda*: utilizar la función `numpy.loadtext` para cargar el archivo con los datos. Columnas con índice 3 y 12."
   ]
  },
  {
   "cell_type": "code",
   "execution_count": null,
   "id": "a40c004b-ca42-45b4-ad37-37802859144a",
   "metadata": {},
   "outputs": [],
   "source": []
  }
 ],
 "metadata": {
  "kernelspec": {
   "display_name": "Python 3 (ipykernel)",
   "language": "python",
   "name": "python3"
  },
  "language_info": {
   "codemirror_mode": {
    "name": "ipython",
    "version": 3
   },
   "file_extension": ".py",
   "mimetype": "text/x-python",
   "name": "python",
   "nbconvert_exporter": "python",
   "pygments_lexer": "ipython3",
   "version": "3.10.9"
  }
 },
 "nbformat": 4,
 "nbformat_minor": 5
}
