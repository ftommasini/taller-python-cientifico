{
 "cells": [
  {
   "cell_type": "markdown",
   "metadata": {},
   "source": [
    "# <span style=\"color:RoyalBlue\">Tutorial Python</span> "
   ]
  },
  {
   "cell_type": "markdown",
   "metadata": {},
   "source": [
    "Para introducir la sintaxis de Python, veamos el siguiente programa:"
   ]
  },
  {
   "cell_type": "code",
   "execution_count": 2,
   "metadata": {},
   "outputs": [
    {
     "name": "stdout",
     "output_type": "stream",
     "text": [
      "Hellow, World!\n"
     ]
    }
   ],
   "source": [
    "print(\"Hellow, World!\")"
   ]
  },
  {
   "cell_type": "markdown",
   "metadata": {},
   "source": [
    "## <span style=\"color:CornflowerBlue\">Variables</span> \n",
    "**Elementos usados para almacenar y referenciar datos** <br>\n",
    "En Python no es necesario definir las variables antes de usarlas. Se puede declarar y definir su valor de la siguiente manera:"
   ]
  },
  {
   "cell_type": "code",
   "execution_count": 21,
   "metadata": {},
   "outputs": [],
   "source": [
    "x = 3"
   ]
  },
  {
   "cell_type": "markdown",
   "metadata": {},
   "source": [
    "Los nombres de las variables:\n",
    "* pueden contener solamente letras, números o guiones bajos\n",
    "* deben comenzar con una letra o un guión bajo\n",
    "* las que inician con guión bajo indican que su scope es privado o interno\n",
    "* son *case sensitive* (distinguen entre mayúsculas y minúsculas)\n",
    "* hay nombres reservados que no se pueden emplear como nombres de variables (ej. print)\n"
   ]
  },
  {
   "cell_type": "markdown",
   "metadata": {},
   "source": [
    "Cada variable es de algún *tipo* determinado, en Python los **tipos de datos** predefinidos son:\n",
    "<img src=\"./images/Python-Data-Types.png\" width=600px>"
   ]
  },
  {
   "cell_type": "markdown",
   "metadata": {},
   "source": [
    "Python asigna el tipo de datos según el contenido de la variable (lenguaje no tipado):"
   ]
  },
  {
   "cell_type": "code",
   "execution_count": 1,
   "metadata": {},
   "outputs": [],
   "source": [
    "a = 3\n",
    "b = 5.7\n",
    "c = 4 + 2j\n",
    "d = True\n",
    "e = \"Hellow\" "
   ]
  },
  {
   "cell_type": "markdown",
   "metadata": {},
   "source": [
    "Para verificar las variables que se han definido hasta el momento y de qué tipo son se puede hacer:"
   ]
  },
  {
   "cell_type": "code",
   "execution_count": 2,
   "metadata": {},
   "outputs": [
    {
     "name": "stdout",
     "output_type": "stream",
     "text": [
      "Variable   Type       Data/Info\n",
      "-------------------------------\n",
      "a          int        3\n",
      "b          float      5.7\n",
      "c          complex    (4+2j)\n",
      "d          bool       True\n",
      "e          str        Hellow\n"
     ]
    }
   ],
   "source": [
    "%whos"
   ]
  },
  {
   "cell_type": "markdown",
   "metadata": {},
   "source": [
    "Otra forma de consultar el tipo de datos que contiene una vaiable es:"
   ]
  },
  {
   "cell_type": "code",
   "execution_count": 3,
   "metadata": {},
   "outputs": [
    {
     "name": "stdout",
     "output_type": "stream",
     "text": [
      "<class 'float'>\n"
     ]
    }
   ],
   "source": [
    "print(type(b))"
   ]
  },
  {
   "cell_type": "markdown",
   "metadata": {},
   "source": [
    "También se pueden declarar y definir listas de variables en una sola línea, asignando sus valores separados por comas:"
   ]
  },
  {
   "cell_type": "code",
   "execution_count": 4,
   "metadata": {},
   "outputs": [],
   "source": [
    "a,b,c,d,f = 3,5,6.0,7.254,-3"
   ]
  },
  {
   "cell_type": "code",
   "execution_count": 5,
   "metadata": {},
   "outputs": [
    {
     "name": "stdout",
     "output_type": "stream",
     "text": [
      "Variable   Type     Data/Info\n",
      "-----------------------------\n",
      "a          int      3\n",
      "b          int      5\n",
      "c          float    6.0\n",
      "d          float    7.254\n",
      "e          str      Hellow\n",
      "f          int      -3\n"
     ]
    }
   ],
   "source": [
    "%whos"
   ]
  },
  {
   "cell_type": "markdown",
   "metadata": {},
   "source": [
    "Para borrar una variable de memoria se usa el comando *del*:"
   ]
  },
  {
   "cell_type": "code",
   "execution_count": 6,
   "metadata": {},
   "outputs": [
    {
     "name": "stdout",
     "output_type": "stream",
     "text": [
      "Variable   Type     Data/Info\n",
      "-----------------------------\n",
      "a          int      3\n",
      "b          int      5\n",
      "c          float    6.0\n",
      "d          float    7.254\n",
      "e          str      Hellow\n"
     ]
    }
   ],
   "source": [
    "del f\n",
    "%whos"
   ]
  },
  {
   "cell_type": "markdown",
   "metadata": {},
   "source": [
    "Para visualizar el contenido de una variable se puede usar el comando *print*: "
   ]
  },
  {
   "cell_type": "code",
   "execution_count": 7,
   "metadata": {},
   "outputs": [
    {
     "name": "stdout",
     "output_type": "stream",
     "text": [
      "6.0\n"
     ]
    }
   ],
   "source": [
    "print(c)"
   ]
  },
  {
   "cell_type": "markdown",
   "metadata": {},
   "source": [
    "En algunos casos es conveniente contar con un método que permita definir el formato con el que se quiere visualizar esos valores. Para ello se puede usar el método *format*:"
   ]
  },
  {
   "cell_type": "code",
   "execution_count": 8,
   "metadata": {},
   "outputs": [
    {
     "name": "stdout",
     "output_type": "stream",
     "text": [
      "Tengo 25 años y mi promedio es:  8.50\n"
     ]
    }
   ],
   "source": [
    "a = 25\n",
    "b = 8.5\n",
    "print(\"Tengo {:d} años y mi promedio es: {:5.2f}\".format(a,b))"
   ]
  },
  {
   "cell_type": "markdown",
   "metadata": {},
   "source": [
    "Hay varias alternativas de formatos, la especificación se hace entre llaves:"
   ]
  },
  {
   "cell_type": "code",
   "execution_count": 12,
   "metadata": {},
   "outputs": [
    {
     "name": "stdout",
     "output_type": "stream",
     "text": [
      "Tengo   3 años\n",
      "Tengo 103 años\n",
      "Distancia: 7.2540 metros\n",
      "Distancia:   7.2540 metros\n",
      "Distancia: 7.25e+00 metros\n"
     ]
    }
   ],
   "source": [
    "print(\"Tengo {:3d} años\".format(a))   # {:3d} muestra un entero en un slot de 3 espacios\n",
    "print(\"Distancia: {:.4f} metros\".format(d)) # {:.4f} muestra un flotante con 4 números decimales\n",
    "print(\"Distancia: {:8.4f} metros\".format(d))# {:8.4f} muestra un flotante en un slot de 8 lugares con 4 números decimales\n",
    "print(\"Distancia: {:1.2e} metros\".format(d))# {:1.2e} muestra el flotante en notación científica con 2 decimales"
   ]
  },
  {
   "cell_type": "markdown",
   "metadata": {},
   "source": [
    "En caso que se quiera hacer un programa interactivo, los valores de variables se puede ingresar por consola usando el comando *input*:"
   ]
  },
  {
   "cell_type": "code",
   "execution_count": 9,
   "metadata": {},
   "outputs": [
    {
     "name": "stdout",
     "output_type": "stream",
     "text": [
      "Ingrese su edad: 5\n",
      "Ingrese su promedio: 8.12\n",
      "Tengo 5 años y mi promedio es:  8.12\n"
     ]
    }
   ],
   "source": [
    "a = int(input(\"Ingrese su edad: \"))\n",
    "b = float( input(\"Ingrese su promedio: \"))\n",
    "print(\"Tengo {:d} años y mi promedio es: {:5.2f}\".format(a,b))\n"
   ]
  },
  {
   "cell_type": "markdown",
   "metadata": {},
   "source": [
    "En este ejemplo se hizo una redefinición o *cast* de las variables ingresadas. En el primer caso se especificó que la variable a se debía interpretar como entero, mientras que en el segundo como un flotante. "
   ]
  },
  {
   "cell_type": "markdown",
   "metadata": {},
   "source": [
    "### Strings\n",
    "El string es un tipo de dato utilizado para guardar letras, palabras, oraciones, y texto en general"
   ]
  },
  {
   "cell_type": "code",
   "execution_count": 35,
   "metadata": {},
   "outputs": [
    {
     "name": "stdout",
     "output_type": "stream",
     "text": [
      "Inteligencia Artificial\n",
      "Inteligencia Computacional\n",
      "<class 'str'>\n"
     ]
    }
   ],
   "source": [
    "s = 'Inteligencia Artificial'\n",
    "t = \"Inteligencia Computacional\"\n",
    "print(s)\n",
    "print(t)\n",
    "print(type(s))\n"
   ]
  },
  {
   "cell_type": "markdown",
   "metadata": {},
   "source": [
    "Se puede acceder a caracteres o elementos particulares de un string usando el índice de caracter (que comienza en 0) dentro de la cadena:"
   ]
  },
  {
   "cell_type": "code",
   "execution_count": 37,
   "metadata": {},
   "outputs": [
    {
     "name": "stdout",
     "output_type": "stream",
     "text": [
      "e\n",
      "l\n"
     ]
    }
   ],
   "source": [
    "print(s[3])    # Cuarto caracter de s\n",
    "print(t[-1])   # Último caracter de t"
   ]
  },
  {
   "cell_type": "markdown",
   "metadata": {},
   "source": [
    "También se pueden seleccionar porciones de la cadena (**slicing**) indicando el índice inicial, final y el paso entre elementos de ese intervalo:"
   ]
  },
  {
   "cell_type": "code",
   "execution_count": 46,
   "metadata": {},
   "outputs": [
    {
     "name": "stdout",
     "output_type": "stream",
     "text": [
      "Inteligenci\n",
      "lanoicatupmoC aicnegiletnI\n"
     ]
    }
   ],
   "source": [
    "print(s[0:11])    # Primeros 12 elementos de s\n",
    "print(t[-1::-1])  # Intervalo final de t invertido"
   ]
  },
  {
   "cell_type": "markdown",
   "metadata": {},
   "source": [
    "Se pueden definir strings multilínea:"
   ]
  },
  {
   "cell_type": "code",
   "execution_count": 40,
   "metadata": {},
   "outputs": [
    {
     "name": "stdout",
     "output_type": "stream",
     "text": [
      "Clase número 1 -\n",
      "introducción a Python,\n",
      "Ejercicios prácticos.\n"
     ]
    }
   ],
   "source": [
    "string_multilinea = \"\"\"Clase número 1 -\n",
    "introducción a Python,\n",
    "Ejercicios prácticos.\"\"\"\n",
    "print (string_multilinea)"
   ]
  },
  {
   "cell_type": "markdown",
   "metadata": {},
   "source": [
    "Se pueden realizar operaciones con strings:"
   ]
  },
  {
   "cell_type": "markdown",
   "metadata": {},
   "source": [
    "* <span style=\"color:CornflowerBlue\">**+**</span> : concatena strings en el orden especificado "
   ]
  },
  {
   "cell_type": "code",
   "execution_count": 15,
   "metadata": {},
   "outputs": [
    {
     "name": "stdout",
     "output_type": "stream",
     "text": [
      "    Motor eléctrico, clase E 1.2 kW \n",
      "1.2 kW  E Motor eléctrico, clase\n"
     ]
    }
   ],
   "source": [
    "s = \"Motor eléctrico, clase\"\n",
    "t = \"1.2 kW \"\n",
    "u = '    ' + s + ' E ' + t\n",
    "print(u)\n",
    "v = t + ' E ' + s\n",
    "print(v)"
   ]
  },
  {
   "cell_type": "markdown",
   "metadata": {},
   "source": [
    "* <span style=\"color:CornflowerBlue\">**strip**</span> : elimina espacios al comienzo y final de las secuencias de caracteres:"
   ]
  },
  {
   "cell_type": "code",
   "execution_count": 16,
   "metadata": {},
   "outputs": [
    {
     "name": "stdout",
     "output_type": "stream",
     "text": [
      "Motor eléctrico, clase E 1.2 kW\n"
     ]
    }
   ],
   "source": [
    "v = u.strip()\n",
    "print(v)"
   ]
  },
  {
   "cell_type": "markdown",
   "metadata": {},
   "source": [
    "* <span style=\"color:CornflowerBlue\">**len**</span> : devuelve la longitud de un string"
   ]
  },
  {
   "cell_type": "code",
   "execution_count": 17,
   "metadata": {},
   "outputs": [
    {
     "name": "stdout",
     "output_type": "stream",
     "text": [
      "31\n"
     ]
    }
   ],
   "source": [
    "print(len(v))"
   ]
  },
  {
   "cell_type": "markdown",
   "metadata": {},
   "source": [
    "* <span style=\"color:CornflowerBlue\">**lower, upper, capitalize**</span> : convierte los caracteres de la cadena a minúscula, mayúscula o iniciales mayúsculas respectivamente "
   ]
  },
  {
   "cell_type": "code",
   "execution_count": 18,
   "metadata": {},
   "outputs": [
    {
     "name": "stdout",
     "output_type": "stream",
     "text": [
      "lower:  motor eléctrico, clase e 1.2 kw\n",
      "upper:  MOTOR ELÉCTRICO, CLASE E 1.2 KW\n",
      "capitalize:  Motor eléctrico, clase e 1.2 kw\n"
     ]
    }
   ],
   "source": [
    "print ('lower: ',v.lower() )\n",
    "print ('upper: ',v.upper() )\n",
    "print ('capitalize: ',v.capitalize() )"
   ]
  },
  {
   "cell_type": "markdown",
   "metadata": {},
   "source": [
    " * <span style=\"color:CornflowerBlue\">**startswith, endswith**</span> : (determina si el string empieza o termina con la secuencia indicada"
   ]
  },
  {
   "cell_type": "code",
   "execution_count": 19,
   "metadata": {},
   "outputs": [
    {
     "name": "stdout",
     "output_type": "stream",
     "text": [
      "False\n",
      "True\n",
      "False\n"
     ]
    }
   ],
   "source": [
    "print(v.startswith('O'))\n",
    "print(v.startswith('Moto'))\n",
    "print(v.endswith('l'))"
   ]
  },
  {
   "cell_type": "markdown",
   "metadata": {},
   "source": [
    "* <span style=\"color:CornflowerBlue\">**replace**</span> : reemplaza un caracter por otro dentro de la cadena. Se puede agregar un tercer caracter para indicar cuántas ocurrencias se quieren reemplazar"
   ]
  },
  {
   "cell_type": "code",
   "execution_count": 20,
   "metadata": {},
   "outputs": [
    {
     "name": "stdout",
     "output_type": "stream",
     "text": [
      "0.1\t0.55\t2.45\talto\n"
     ]
    }
   ],
   "source": [
    "csv_str = '0.1,0.55,2.45,alto'\n",
    "tsv_str = csv_str.replace(\",\",\"\\t\")\n",
    "print(tsv_str)"
   ]
  },
  {
   "cell_type": "markdown",
   "metadata": {},
   "source": [
    "* <span style=\"color:CornflowerBlue\">**split**</span> : separa el string en substrings utilizando el separador indicado"
   ]
  },
  {
   "cell_type": "code",
   "execution_count": 21,
   "metadata": {},
   "outputs": [
    {
     "name": "stdout",
     "output_type": "stream",
     "text": [
      "['Motor', 'eléctrico,', 'clase', 'E', '1.2', 'kW']\n",
      "<class 'list'>\n"
     ]
    }
   ],
   "source": [
    "palabras = v.split(' ')\n",
    "print(palabras)\n",
    "print(type(palabras))"
   ]
  },
  {
   "cell_type": "markdown",
   "metadata": {},
   "source": [
    "## <span style=\"color:CornflowerBlue\">Operadores</span> \n",
    "**Elementos que permiten relacionar variables de manera lógica o aritmética** <br>\n",
    "Python tiene operadores de comparación y de operaciones aritméticas."
   ]
  },
  {
   "cell_type": "markdown",
   "metadata": {},
   "source": [
    "### Operadores de Comparación"
   ]
  },
  {
   "cell_type": "markdown",
   "metadata": {},
   "source": [
    "Los operadores de comparación permiten contrastar valores de variables y tienen como salida un valor *Boolean* (True / False):\n",
    "\n",
    "\n",
    "<h4> Tabla de Operadores de Comparación </h4><p>  En los ejemplos se asume que a=3 y b=4.</p>\n",
    "\n",
    "<table class=\"table table-bordered\">\n",
    "<tr>\n",
    "<th style=\"width:10%\">Operador</th><th style=\"width:75%\">Descripción</th><th>Ejemplo</th>\n",
    "</tr>\n",
    "<tr>\n",
    "<td>==</td>\n",
    "<td>Si los valores de los dos operandos son iguales la comparación es verdadera</td>\n",
    "<td> $(a == b)    \\rightarrow    False$.</td>\n",
    "</tr>\n",
    "<tr>\n",
    "<td>!=</td>\n",
    "<td>Si los valores de los dos operandos no son iguales la comparación es verdadera</td>\n",
    "<td> $(a != b)    \\rightarrow    True$</td>\n",
    "</tr>\n",
    "<tr>\n",
    "<td>&gt;</td>\n",
    "<td>Si el valor del operando de la izquierda es mayor al del operando de la derecha, la comparación se hace verdadera</td>\n",
    "<td> $(a > b)    \\rightarrow    False$</td>\n",
    "</tr>\n",
    "<tr>\n",
    "<td>&lt;</td>\n",
    "<td>Si el valor del operando de la izquierda es menor al del operando de la derecha, la comparación se hace verdadera</td>\n",
    "<td> $(a < b)    \\rightarrow    True$</td>\n",
    "</tr>\n",
    "<tr>\n",
    "<td>&gt;=</td>\n",
    "<td>Si el valor del operando de la izquierda es mayor o igual al del operando de la derecha, la comparación se hace verdadera</td>\n",
    "<td> $(a >= b)    \\rightarrow    False$ </td>\n",
    "</tr>\n",
    "<tr>\n",
    "<td>&lt;=</td>\n",
    "<td>Si el valor del operando de la izquierda es menor o igual al del operando de la derecha, la comparación se hace verdadera</td>\n",
    "<td> $(a <= b)    \\rightarrow    True$ </td>\n",
    "</tr>\n",
    "</table>\n"
   ]
  },
  {
   "cell_type": "markdown",
   "metadata": {},
   "source": [
    "Es posible encadenar varios de estos operadores de comparación mediante las declaraciones de Python: **not**, **and** y **or**.\n",
    "El operador *and* es verdadero cuando **todos** los términos son verdaderos, mientras que *or* produce un resultado verdadero si **alguno** de los términos es verdadero. El operador *not* devuelve verdadero cuando el término sobre el que opera es falso."
   ]
  },
  {
   "cell_type": "code",
   "execution_count": 54,
   "metadata": {},
   "outputs": [
    {
     "data": {
      "text/plain": [
       "True"
      ]
     },
     "execution_count": 54,
     "metadata": {},
     "output_type": "execute_result"
    }
   ],
   "source": [
    "1 < 2 and 2 < 3 # La expresión 1 < 2 < 3 también funciona"
   ]
  },
  {
   "cell_type": "code",
   "execution_count": 55,
   "metadata": {},
   "outputs": [
    {
     "data": {
      "text/plain": [
       "True"
      ]
     },
     "execution_count": 55,
     "metadata": {},
     "output_type": "execute_result"
    }
   ],
   "source": [
    "1==2 or 2<3"
   ]
  },
  {
   "cell_type": "code",
   "execution_count": 56,
   "metadata": {},
   "outputs": [
    {
     "data": {
      "text/plain": [
       "True"
      ]
     },
     "execution_count": 56,
     "metadata": {},
     "output_type": "execute_result"
    }
   ],
   "source": [
    "not((1==2) and (2<3))"
   ]
  },
  {
   "cell_type": "markdown",
   "metadata": {},
   "source": [
    "### Operadores Aritméticos\n",
    "Los operadores aritméticos permiten efectuar operaciones algebraicas básicas y a diferencia de los de comparación, tienen como salida un valor numérico:\n",
    "\n",
    "\n",
    "<h4> Tabla de Operadores Aritméticos </h4><p>  En los ejemplos se asume que a=3 y b=4.</p>\n",
    "\n",
    "<table class=\"table table-bordered\">\n",
    "<tr>\n",
    "<th style=\"width:10%\">Símbolo</th><th style=\"width:75%\">Descripción</th><th>Ejemplo</th>\n",
    "</tr>\n",
    "<tr>\n",
    "<td>+</td>\n",
    "<td>Adición</td>\n",
    "<td> $(a + b)    =    7$</td>\n",
    "</tr>\n",
    "<tr>\n",
    "<td>-</td>\n",
    "<td>Sustracción</td>\n",
    "<td> $(a - b)    =    -1$</td>\n",
    "</tr>\n",
    "<tr>\n",
    "<td>/</td>\n",
    "<td>División</td>\n",
    "<td> $(a / b)    =    0.75$ </td>\n",
    "</tr>\n",
    "<tr>\n",
    "<td>%</td>\n",
    "<td>Modulo. Resto entero de la división entre el operando de la izquierda y el de la derecha</td>\n",
    "<td> $(a \\% b)    =    3$</td>\n",
    "</tr>\n",
    "<tr>\n",
    "<td>*</td>\n",
    "<td>Multiplicación</td>\n",
    "<td> $(a * b)    =    12 $</td>\n",
    "</tr>\n",
    "<tr>\n",
    "<td>//</td>\n",
    "<td>División redondeada hacia abajo</td>\n",
    "<td> $(a // b)    =    0$</td>\n",
    "</tr>\n",
    "<tr>\n",
    "<td>**</td>\n",
    "<td>Potencia</td>\n",
    "<td> $(a ** b)    =    81$ </td>\n",
    "</tr>\n",
    "\n",
    "</table>\n"
   ]
  },
  {
   "cell_type": "markdown",
   "metadata": {},
   "source": [
    "Python permite compactar el código combinando el operando $=$ con alguno de los anteriormente vistos. Ej. $a += b$ es equivalente a  $ a = a + b$"
   ]
  },
  {
   "cell_type": "markdown",
   "metadata": {},
   "source": [
    "## <span style=\"color:CornflowerBlue\">Control de Flujo</span> \n",
    "**Instrucciones que determinan cuándo y en qué orden se ejecutan las partes de un programa** <br>\n",
    "Python presenta alternativas para el control de flujo similares a la gran mayoría de los lenguajes de programación. Éstas permiten indicar al programa en qué secuencia debe ejecutarse el código dependiendo de las condiciones que se definan."
   ]
  },
  {
   "cell_type": "markdown",
   "metadata": {},
   "source": [
    "###   Estructura if\n",
    "Es la estrucutra más básica. Especifica bajo qué condiciones se debe ejecutar una porción de código.\n",
    "A continuación se muestra el esquema de esta estructura:"
   ]
  },
  {
   "cell_type": "markdown",
   "metadata": {},
   "source": [
    "```python\n",
    "if (condicion1):\n",
    "    # Bloque de operaciones que se realizan si se cumple la condición 1\n",
    "    # Operación 1_1\n",
    "    # Operación 1_2\n",
    "    ...\n",
    "    # Operación 1_n\n",
    "elif (condicion2):\n",
    "    # Bloque de operaciones que se realizan si no se cumple la condicion1, pero sí la condicion2\n",
    "    # Operación 2_1\n",
    "    # Operación 2_2\n",
    "    ...\n",
    "    # Operación 2_n    \n",
    "...\n",
    "...\n",
    "elif (condicionN):\n",
    "    # Bloque de operaciones que se realizan si no se cumplen ningunas de las condiciones previas, pero sí la condiciónN\n",
    "    # Operación N_1\n",
    "    # Operación N_2\n",
    "    ...\n",
    "    # Operación N_n    \n",
    "else:\n",
    "    # Bloque de operaciones que se realizan si no se cumple ninguna de las condiciones previas\n",
    "    # Operación N+1_1\n",
    "    # Operación N+1_2\n",
    "    ...\n",
    "    # Operación N+1_n\n",
    "``` "
   ]
  },
  {
   "cell_type": "markdown",
   "metadata": {},
   "source": [
    "Siempre se comienza con *if*, después puede haber cualquier cantidad de *elif* (o ninguno) y luego se puede terminar con *else* (o no). Luego del *else* no puede haber más *elif*.\n",
    "\n",
    "Notar que esta estructura de flujo, como las que veremos a continuación terminan con dos puntos y la siguiente línea tiene una indentación que reemplaza los corchetes o *begin* y *end* para estructurar los anidamientos."
   ]
  },
  {
   "cell_type": "code",
   "execution_count": 18,
   "metadata": {},
   "outputs": [
    {
     "name": "stdout",
     "output_type": "stream",
     "text": [
      "Ingrese ingrese un número del 1 al 10: 8\n",
      "Estuvo cerca\n"
     ]
    }
   ],
   "source": [
    "x = int(input(\"Ingrese ingrese un número del 1 al 10: \"))\n",
    "y = 7\n",
    "if x == y:\n",
    "    print(\"Acertó! Felicitaciones\")\n",
    "elif abs(x-y) < 2:\n",
    "    print(\"Estuvo cerca\")\n",
    "else:\n",
    "    print(\"Siga intentando\")"
   ]
  },
  {
   "cell_type": "markdown",
   "metadata": {},
   "source": [
    "###   Estructura while\n",
    "Permite implementar ciclos de ejecución que se realizan mientras se verifique una condición especificada.\n",
    "A continuación se muestra el esquema de esta estructura:"
   ]
  },
  {
   "cell_type": "markdown",
   "metadata": {},
   "source": [
    "```python\n",
    "while (condicion):\n",
    "    # Bloque de operaciones que se realizan si se cumple la condición\n",
    "    # Operación 1\n",
    "    # Operación 2\n",
    "    ...\n",
    "    # Operación n\n",
    "```"
   ]
  },
  {
   "cell_type": "markdown",
   "metadata": {},
   "source": [
    "Es importante tener en cuenta que la condición se evalúa sólo al principio del ciclo y no se volverá a evaluar hasta no terminar de ejecutar todas las instrucciones contenidas en el bloque *while*. \n",
    "\n",
    "A continuación se muestra un ejemplo:"
   ]
  },
  {
   "cell_type": "code",
   "execution_count": 23,
   "metadata": {},
   "outputs": [
    {
     "name": "stdout",
     "output_type": "stream",
     "text": [
      "Ingrese ingrese un número del 0 al 20: 15\n",
      "1\n",
      "Iteration número: 1\n",
      "4\n",
      "Iteration número: 2\n",
      "9\n",
      "Iteration número: 3\n",
      "16\n",
      "Iteration número: 4\n",
      "25\n",
      "Iteration número: 5\n",
      "36\n",
      "Iteration número: 6\n",
      "49\n",
      "Iteration número: 7\n",
      "64\n",
      "Iteration número: 8\n",
      "81\n",
      "Iteration número: 9\n",
      "100\n",
      "Iteration número: 10\n",
      "121\n",
      "Iteration número: 11\n",
      "144\n",
      "Iteration número: 12\n",
      "169\n",
      "Iteration número: 13\n",
      "196\n",
      "Iteration número: 14\n",
      "Fin!\n"
     ]
    }
   ],
   "source": [
    "n = int(input(\"Ingrese ingrese un número del 0 al 20: \"))\n",
    "i = 1\n",
    "while i < n:\n",
    "    print(i**2)\n",
    "    print(\"Iteration número:\", i)\n",
    "    i+=1\n",
    "print(\"Fin!\")"
   ]
  },
  {
   "cell_type": "markdown",
   "metadata": {},
   "source": [
    "### Estructura for\n",
    "Esta estructura permite ejecutar un conjunto de acciones durante cierta cantidad de iteraciones, definida mediante una variable que cambia su valor en cada iteración.\n",
    "\n",
    "```python\n",
    "for (variable) in (conjunto de valores):\n",
    "    # Bloque de operaciones que se realizan en cada ciclo\n",
    "    # Operación 1\n",
    "    # Operación 2\n",
    "    ...\n",
    "    # Operación n\n",
    "```\n",
    "\n",
    "A continuación se muestra un ejemplo:"
   ]
  },
  {
   "cell_type": "code",
   "execution_count": 65,
   "metadata": {},
   "outputs": [
    {
     "name": "stdout",
     "output_type": "stream",
     "text": [
      "0\n",
      "2\n",
      "4\n",
      "6\n",
      "8\n"
     ]
    }
   ],
   "source": [
    "for x in range(0,10,2):\n",
    "    print(x)"
   ]
  },
  {
   "cell_type": "markdown",
   "metadata": {},
   "source": [
    "Existe la posibilidad de usar comandos especiales para interrumpir el flujo de un ciclo, aunque no se recomiendan como buenas prácticas: \n",
    "* **break** provoca que la salida de un ciclo sin condiciones.\n",
    "* **continue** provoca que la salida de la iteración actual, no del ciclo completo.\n",
    "* **pass** no hace nada, pero permite posponer el completar el código."
   ]
  },
  {
   "cell_type": "markdown",
   "metadata": {},
   "source": [
    "## <span style=\"color:CornflowerBlue\">Funciones</span> "
   ]
  },
  {
   "cell_type": "markdown",
   "metadata": {},
   "source": [
    "Una función es un conjunto de instrucciones empaquetadas bajo una denominación. Son bloques que permiten compactar y simplificar el código evitando la repetición de operaciones recurrentes.\n",
    "\n",
    "Las funciones tienen *entradas* dadas por argumentos de la función, y *salidas* dada por el valor o valores que se devuelven.\n",
    "\n",
    "En Python la sintaxis de las funciones es la siguiente:\n",
    "\n",
    "```python\n",
    "def nombreFuncion1( a , b , c , ...):\n",
    "    \n",
    "    # Operaciones necesarias para completar la función que hacen uso de las variables a, b, c, ...\n",
    "    \n",
    "    return x , y , z , ...\n",
    "```\n"
   ]
  },
  {
   "cell_type": "markdown",
   "metadata": {},
   "source": [
    "En ese ejemplo, el nombre de la función es `nombreFuncion1`, los parámetros de entrada son las variables `a , b , c , ...` que se indican entre paréntesis, y los parámetros que la función devuelve son `x , y , z , ...` que se indican con la instrucción **return**.\n",
    "\n",
    "En el caso de que la función no necesite recibir información de entrada, de todas formas hay que invocar la función con los paréntesis vacíos, dado que esa es la forma que tiene Python para distinguir variables de funciones:"
   ]
  },
  {
   "cell_type": "code",
   "execution_count": 24,
   "metadata": {},
   "outputs": [],
   "source": [
    "def mypow(a,b):\n",
    "    \"\"\" Esta función calcula la potencia de a elevado a la b\"\"\"\n",
    "    c = a**b\n",
    "    return c"
   ]
  },
  {
   "cell_type": "code",
   "execution_count": 25,
   "metadata": {},
   "outputs": [],
   "source": [
    "mypow?"
   ]
  },
  {
   "cell_type": "code",
   "execution_count": 26,
   "metadata": {},
   "outputs": [
    {
     "data": {
      "text/plain": [
       "81"
      ]
     },
     "execution_count": 26,
     "metadata": {},
     "output_type": "execute_result"
    }
   ],
   "source": [
    "mypow(3,4)"
   ]
  },
  {
   "cell_type": "markdown",
   "metadata": {},
   "source": [
    "Las funciones definen un scope local, quiere decir que las variables que se definen en su interior se borrarán cuando la función termine su ejecución.\n",
    "\n",
    "De igual forma, si hay una variable con igual nombre pero con scope diferentes, dentro de la ejecución de la función tiene validez la declarada en su interior:"
   ]
  },
  {
   "cell_type": "code",
   "execution_count": 76,
   "metadata": {},
   "outputs": [],
   "source": [
    "variableRepetida = 3\n",
    "def g():\n",
    "    variableRepetida = 5\n",
    "    return variableRepetida"
   ]
  },
  {
   "cell_type": "code",
   "execution_count": 77,
   "metadata": {},
   "outputs": [
    {
     "name": "stdout",
     "output_type": "stream",
     "text": [
      "5\n",
      "3\n"
     ]
    }
   ],
   "source": [
    "print(g())\n",
    "print(variableRepetida)"
   ]
  },
  {
   "cell_type": "markdown",
   "metadata": {},
   "source": [
    "Es posible usar la variable global dentro de una función haciendo:"
   ]
  },
  {
   "cell_type": "code",
   "execution_count": 29,
   "metadata": {},
   "outputs": [],
   "source": [
    "variableRepetida = 3\n",
    "def g():\n",
    "    global variableRepetida\n",
    "    variableRepetida = 5\n",
    "    return variableRepetida"
   ]
  },
  {
   "cell_type": "code",
   "execution_count": 30,
   "metadata": {},
   "outputs": [
    {
     "name": "stdout",
     "output_type": "stream",
     "text": [
      "5\n",
      "5\n"
     ]
    }
   ],
   "source": [
    "print(g())\n",
    "print(variableRepetida)"
   ]
  },
  {
   "cell_type": "markdown",
   "metadata": {},
   "source": [
    "No es indispensable escribir la instrucción return al final de la función, en este caso la función termina cuando finaliza el bloque indentado. Cuando no se devuelve un valor explícitamente, el valor de retorno de la misma es *None*. Es decir, las funciones siempre tienen un valor de retorno aunque sea impícito.\n",
    "\n",
    "Es importante tener en cuenta que la definición de la función no hace que se ejecute, solamente indica que la próxima vez que se invoque la función, ésta debe realizar las instrucciones indicadas en su definición. En consecuencia, en preferible escribir todas las definiciones de funciones al inicio del programa, así estarán definidas para cuando se las quiera ejecutar más adelante."
   ]
  },
  {
   "cell_type": "markdown",
   "metadata": {},
   "source": [
    "## <span style=\"color:CornflowerBlue\">Paquetes y módulos</span> "
   ]
  },
  {
   "cell_type": "markdown",
   "metadata": {},
   "source": [
    "Uno de los conceptos fundamentales en programación es la modularización. Para que el código sea sencillo, legible y no repetitivo, conviene organizar las instrucciones en bloques útiles que puedan reutilizarse, denominados funciones. \n",
    "\n",
    "A su vez se puede usar la misma idea para organizar funciones en módulos. Un módulo es un archivo Python que contiene generalmente muchas funciones, definición de clases, variables, constantes, etc. y que se suelen emplear de manera frecuente. En vez de hacer un archivo separado para cada función, se las guarda juntas en este archivo. Almacenar funciones, variables y constantes relacionadas en un módulo resulta más cómodo, reduce la duplicación innecesaria y facilita la lectura del código, lo que a su vez reduce la probabilidad de cometer un error.\n",
    "\n",
    "Para usar esas funciones en otro programa, simplemente se importa todo el módulo o las funciones que interesen de un módulo."
   ]
  },
  {
   "cell_type": "markdown",
   "metadata": {},
   "source": [
    "Si se quiere escribir varios módulos para emplearlos en algún programa, se puede definir una carpeta de módulos propios, por ejemplo *\"D:/modulosPropios\"*\n",
    "\n",
    "Y copiar en esa carpeta los archivos Python que se quiere usar como módulos, por ejemplo el archivo *misFunciones.py*, que contiene por ejemplo en su contenido la función *miFuncionInicial*\n",
    "\n",
    "En ese caso primero hay que indicar a Python el nuevo path para buscar módulos:"
   ]
  },
  {
   "cell_type": "markdown",
   "metadata": {},
   "source": [
    "```python\n",
    "import sys\n",
    "sys.path.append('D:/modulosPropios')\n",
    "```"
   ]
  },
  {
   "cell_type": "markdown",
   "metadata": {},
   "source": [
    "Y luego importar el módulo de interés y usar las funciones requeridas:"
   ]
  },
  {
   "cell_type": "markdown",
   "metadata": {},
   "source": [
    "```python\n",
    "import misFunciones as mf\n",
    "a = mf.miFuncionInicial() # Empleo de funciones contenidas en el módulo\n",
    "```"
   ]
  },
  {
   "cell_type": "markdown",
   "metadata": {},
   "source": [
    "Para proyectos grandes en muchas ocasiones es conveniente trabajar con **paquetes** que son conjuntos de módulos organizados en estructuras de directorios.\n",
    "\n",
    "Algunos módulos vienen integrados en Python (*Python Standard Library*), pero otros pueden descargarse de terceros o desarrollarse. Una vez que un módulo está instalado o guardado localmente, se lo puede importar en un programa propio para utilizar las funciones y variables que almacenada.\n",
    "\n",
    "<img src=\"./images/Python_Environment.png\" width=600px>\n"
   ]
  },
  {
   "cell_type": "markdown",
   "metadata": {},
   "source": [
    "En resumen:\n",
    "* Módulos: archivo python (\\*.py) conteniendo constantes, variables, definiciones, funciones, clases y declaraciones\n",
    "* Paquetes: directorio o carpeta de módulos Python\n",
    "* Bibliotecas: colección de muchos paquetes en Python. Generalmente no hay diferencia entre paquetes y bibliotecas Python"
   ]
  },
  {
   "cell_type": "markdown",
   "metadata": {},
   "source": [
    "## <span style=\"color:CornflowerBlue\">Estructuras de Datos</span> \n",
    "\n",
    "**Son diferentes formas de organizar los datos y las operaciones que se pueden hacer con ellos para que pueda ser utilizada de manera eficiente**"
   ]
  },
  {
   "cell_type": "markdown",
   "metadata": {},
   "source": [
    "### Listas"
   ]
  },
  {
   "cell_type": "markdown",
   "metadata": {},
   "source": [
    "Las listas permiten almacenar elementos de manera secuencial y ordenada, los que se pueden acceder empleando índices.\n",
    "El primer índice de una lista es el 0.\n",
    "\n",
    "La sintaxis para creaer listas es:\n",
    "\n",
    "> a = **[** $ a_{0}, a_{1}, a_{2}, \\dots $ **]**\n",
    "\n",
    "A continuación se muestran ejemplos de creación de diferentes listas:"
   ]
  },
  {
   "cell_type": "code",
   "execution_count": 31,
   "metadata": {},
   "outputs": [
    {
     "name": "stdout",
     "output_type": "stream",
     "text": [
      "[1, 2, 3, 4, 5]\n",
      "[]\n",
      "[]\n"
     ]
    }
   ],
   "source": [
    "# lista con 5 elementos\n",
    "a = [ 1, 2, 3, 4, 5 ] \n",
    "print(a)\n",
    "\n",
    "# alternativas para generar listas vacías\n",
    "b = []\n",
    "c = list()\n",
    "print(b)\n",
    "print(c)\n"
   ]
  },
  {
   "cell_type": "markdown",
   "metadata": {},
   "source": [
    "La sintaxis para acceder a un elemento de una lista conociendo su índice es: `lista[índice]`\n",
    "\n",
    "De esa misma manera se puede modificar un el elemento de la lista asignándole un nuevo valor:"
   ]
  },
  {
   "cell_type": "code",
   "execution_count": 25,
   "metadata": {},
   "outputs": [
    {
     "name": "stdout",
     "output_type": "stream",
     "text": [
      "a = [1, 2, 3, 4, 5]\n",
      "a[0] = 1\n",
      "a = [-88, 2, 3, 4, 5]\n"
     ]
    }
   ],
   "source": [
    "print('a =', a)\n",
    "print('a[0] =', a[0]) \n",
    "a[0] = -88\n",
    "print('a =', a)"
   ]
  },
  {
   "cell_type": "code",
   "execution_count": 7,
   "metadata": {},
   "outputs": [
    {
     "name": "stdout",
     "output_type": "stream",
     "text": [
      "a = [2, -88, 3, 4, 5]\n"
     ]
    }
   ],
   "source": [
    "# Se pueden intercambiar dos elementos de una lista de la siguiente forma\n",
    "a[0], a[1] = a[1], a[0]\n",
    "print('a =', a)"
   ]
  },
  {
   "cell_type": "code",
   "execution_count": 8,
   "metadata": {},
   "outputs": [
    {
     "name": "stdout",
     "output_type": "stream",
     "text": [
      "a[-1] = 5\n"
     ]
    }
   ],
   "source": [
    "# Se pueden usar signos negativos para referir los índices desde el final hacia el inicio\n",
    "print('a[-1] =', a[-1]) "
   ]
  },
  {
   "cell_type": "markdown",
   "metadata": {},
   "source": [
    "Al igual que con los strings, las listas permiten seleccionar subconjuntos o sub-lista de elementos (**slicing**). Se lo hace indicando el índice inicial, final y el paso entre elementos de ese intervalo: `lista[inicio:fin:paso]`"
   ]
  },
  {
   "cell_type": "code",
   "execution_count": 6,
   "metadata": {},
   "outputs": [
    {
     "name": "stdout",
     "output_type": "stream",
     "text": [
      "b = [-88, 3]\n"
     ]
    }
   ],
   "source": [
    "b = a[0:4:2]\n",
    "\n",
    "print('b =', b)"
   ]
  },
  {
   "cell_type": "markdown",
   "metadata": {},
   "source": [
    "* Se puede omitir el parametro de inicio para comenzar desde el principio\n",
    "* Se puede omitir el parametro de fin para seguir hasta el final\n",
    "* Se puede usar un salto negativo para recorrer la lista en sentido inverso"
   ]
  },
  {
   "cell_type": "markdown",
   "metadata": {},
   "source": [
    "Se puede invertir una lista de la siguiente forma:"
   ]
  },
  {
   "cell_type": "code",
   "execution_count": 9,
   "metadata": {},
   "outputs": [
    {
     "name": "stdout",
     "output_type": "stream",
     "text": [
      "a[ : :-1] = [5, 4, 3, -88, 2]\n"
     ]
    }
   ],
   "source": [
    "print('a[ : :-1] =', a[ : :-1] )"
   ]
  },
  {
   "cell_type": "markdown",
   "metadata": {},
   "source": [
    "Se puede generar una lista a partir de otro objeto usando la función *list()*:"
   ]
  },
  {
   "cell_type": "code",
   "execution_count": 26,
   "metadata": {},
   "outputs": [
    {
     "name": "stdout",
     "output_type": "stream",
     "text": [
      "Hola\n",
      "['H', 'o', 'l', 'a']\n",
      "<class 'str'>\n",
      "<class 'list'>\n"
     ]
    }
   ],
   "source": [
    "texto = \"Hola\"\n",
    "lista = list(texto)\n",
    "\n",
    "print(texto)\n",
    "print(lista)\n",
    "print(type(texto))\n",
    "print(type(lista))"
   ]
  },
  {
   "cell_type": "markdown",
   "metadata": {},
   "source": [
    "También se puede generar una lista utilizando la instrucción *for* de la siguiente manera:\n",
    "\n",
    "> b = **[** x **for** x **in** **range**(N) **]**"
   ]
  },
  {
   "cell_type": "code",
   "execution_count": 2,
   "metadata": {},
   "outputs": [
    {
     "name": "stdout",
     "output_type": "stream",
     "text": [
      "[0, 1, 2, 3, 4, 5, 6, 7, 8, 9]\n"
     ]
    }
   ],
   "source": [
    "b = [x for x in range(10)]\n",
    "print(b)"
   ]
  },
  {
   "cell_type": "markdown",
   "metadata": {},
   "source": [
    "También es posible utilizar un objeto iterable, en lugar de usar **range( )**."
   ]
  },
  {
   "cell_type": "code",
   "execution_count": 3,
   "metadata": {},
   "outputs": [
    {
     "name": "stdout",
     "output_type": "stream",
     "text": [
      "['hhh', 'ooo', 'lll', 'aaa']\n",
      "[11, 12, 13, 14]\n"
     ]
    }
   ],
   "source": [
    "c = [3 * letra for letra in \"hola\"]\n",
    "print(c)\n",
    "\n",
    "d = [10 + n for n in [1, 2, 3, 4]]\n",
    "print(d)"
   ]
  },
  {
   "cell_type": "markdown",
   "metadata": {},
   "source": [
    "#### Operaciones con listas\n",
    "- **a+b**: Concatenación de de **b** al final de **a**."
   ]
  },
  {
   "cell_type": "code",
   "execution_count": 32,
   "metadata": {},
   "outputs": [
    {
     "name": "stdout",
     "output_type": "stream",
     "text": [
      "[3, 2, 1, 7, -1]\n"
     ]
    }
   ],
   "source": [
    "a = [3,2]\n",
    "b = [1,7,-1]\n",
    "z = a+b\n",
    "print(z)"
   ]
  },
  {
   "cell_type": "markdown",
   "metadata": {},
   "source": [
    "- **len**( $lista$): indica la cantidad de elementos de la lista."
   ]
  },
  {
   "cell_type": "code",
   "execution_count": 33,
   "metadata": {},
   "outputs": [
    {
     "name": "stdout",
     "output_type": "stream",
     "text": [
      "5\n"
     ]
    }
   ],
   "source": [
    "print(len(z))"
   ]
  },
  {
   "cell_type": "markdown",
   "metadata": {},
   "source": [
    "- **.sort**(): Ordena los elementos de la lista."
   ]
  },
  {
   "cell_type": "code",
   "execution_count": 34,
   "metadata": {},
   "outputs": [
    {
     "name": "stdout",
     "output_type": "stream",
     "text": [
      "[-1, 1, 2, 3, 7]\n",
      "[7, 3, 2, 1, -1]\n"
     ]
    }
   ],
   "source": [
    "z.sort()\n",
    "print(z)\n",
    "\n",
    "# También se puede elegir el orden inverso indicando reverse=True\n",
    "z.sort(reverse=True)\n",
    "print(z)"
   ]
  },
  {
   "cell_type": "markdown",
   "metadata": {},
   "source": [
    "Se puede especificar otra regla de ordenamiento mediante una función, que se evalúa en cada elemento de la lista, y el resultado de esta función se usa como criterio de orden. En la función sort se debe ingresar como parámetro key=nombre_de_funcion."
   ]
  },
  {
   "cell_type": "code",
   "execution_count": 35,
   "metadata": {},
   "outputs": [
    {
     "name": "stdout",
     "output_type": "stream",
     "text": [
      "Orden final: ['DOPA', 'Aliina', 'Sarcosina', 'Hipoglicinas A y B']\n",
      "Orden final: [['Mexico', 1.96], ['Argentina', 2.78], ['Brasil', 8.51]]\n"
     ]
    }
   ],
   "source": [
    "# Función para ordenar por largo de los elementos\n",
    "def ordenaPorLongitud(e):\n",
    "  return len(e)\n",
    "\n",
    "a = [\"Hipoglicinas A y B\", \"Sarcosina\", \"DOPA\", \"Aliina\" ]\n",
    "a.sort(key=ordenaPorLongitud)\n",
    "print(\"Orden final:\", a)\n",
    "\n",
    "# En este ejemplo se analiza el segundo valor de cada elemento\n",
    "def ordenaPorArea(e):\n",
    "  return e[1]\n",
    "\n",
    "area = [ [\"Argentina\", 2.78], [\"Brasil\", 8.51], [\"Mexico\", 1.96] ]\n",
    "area.sort(key=ordenaPorArea)\n",
    "print(\"Orden final:\", area)"
   ]
  },
  {
   "cell_type": "markdown",
   "metadata": {},
   "source": [
    "- **append**: agrega un elemento al final de la lista"
   ]
  },
  {
   "cell_type": "code",
   "execution_count": 16,
   "metadata": {},
   "outputs": [
    {
     "name": "stdout",
     "output_type": "stream",
     "text": [
      "[50, 'Paciente 00152', 150.5, True]\n",
      "[50, 'Paciente 00152', 150.5, True, 200, ['20/12/21', '25/12/21', '02/01/22']]\n"
     ]
    }
   ],
   "source": [
    "mensaje = \"Paciente 00152\"\n",
    "v = [50, mensaje, 150.5, True]\n",
    "print(v)\n",
    "\n",
    "# Agregar al final de la lista el int 200\n",
    "v.append(200)      \n",
    "\n",
    "# Agregar una lista\n",
    "# Los elementos de la lista no son agregados individualmente\n",
    "# En cambio, la lista se agrega como una lista:\n",
    "v.append([\"20/12/21\", \"25/12/21\", \"02/01/22\"]) \n",
    "print(v)"
   ]
  },
  {
   "cell_type": "markdown",
   "metadata": {},
   "source": [
    "- **extend**: agrega elementos de una lista al final de otra"
   ]
  },
  {
   "cell_type": "code",
   "execution_count": 17,
   "metadata": {},
   "outputs": [
    {
     "name": "stdout",
     "output_type": "stream",
     "text": [
      "[1, 2, 3, '20/12/21', '25/12/21', '02/01/22']\n"
     ]
    }
   ],
   "source": [
    "v = [1, 2, 3]\n",
    "v.extend([\"20/12/21\", \"25/12/21\", \"02/01/22\"]) \n",
    "print(v)"
   ]
  },
  {
   "cell_type": "markdown",
   "metadata": {},
   "source": [
    "- **pop**: remueve el último elemento de la lista"
   ]
  },
  {
   "cell_type": "code",
   "execution_count": 18,
   "metadata": {},
   "outputs": [
    {
     "name": "stdout",
     "output_type": "stream",
     "text": [
      "['20/12/21', 1, '25/12/21', 2, '02/01/22']\n"
     ]
    }
   ],
   "source": [
    "v = [\"20/12/21\", 1, \"25/12/21\", 2, \"02/01/22\", 3]\n",
    "v.pop() # Quito el ultimo elemento \n",
    "print(v)"
   ]
  },
  {
   "cell_type": "markdown",
   "metadata": {},
   "source": [
    "- **remove**: remueve el primer elemento cuyo valor sea el indicado"
   ]
  },
  {
   "cell_type": "code",
   "execution_count": 19,
   "metadata": {},
   "outputs": [
    {
     "name": "stdout",
     "output_type": "stream",
     "text": [
      "[1, 1, 2]\n",
      "[1, 1]\n"
     ]
    }
   ],
   "source": [
    "v = [1,2,1,2]\n",
    "v.remove(2) # elimino el primer valor igual a 2\n",
    "print(v)\n",
    "v.remove(2) # elimino el primer valor igual a 2\n",
    "print(v)"
   ]
  },
  {
   "cell_type": "markdown",
   "metadata": {},
   "source": [
    "- **del**: elimina un elemento de una posición determinada"
   ]
  },
  {
   "cell_type": "code",
   "execution_count": 20,
   "metadata": {},
   "outputs": [
    {
     "name": "stdout",
     "output_type": "stream",
     "text": [
      "['20/12/21', '02/01/22']\n"
     ]
    }
   ],
   "source": [
    "a = [\"20/12/21\", \"25/12/21\", \"02/01/22\"]\n",
    "del a[1]\n",
    "print(a)"
   ]
  },
  {
   "cell_type": "markdown",
   "metadata": {},
   "source": [
    "- **in**: determinar si un elemento está dentro de una lista\n"
   ]
  },
  {
   "cell_type": "code",
   "execution_count": 14,
   "metadata": {},
   "outputs": [
    {
     "name": "stdout",
     "output_type": "stream",
     "text": [
      "5 no esta en la lista\n",
      "[1, 2, 3]\n"
     ]
    }
   ],
   "source": [
    "x = [1,2,3]\n",
    "if 5 in x:\n",
    "    x.remove(5)\n",
    "else:\n",
    "  print(5,'no esta en la lista')\n",
    "  \n",
    "print(x)"
   ]
  },
  {
   "cell_type": "markdown",
   "metadata": {},
   "source": [
    "- **max** determinar el máximo valor de la lista"
   ]
  },
  {
   "cell_type": "code",
   "execution_count": 21,
   "metadata": {},
   "outputs": [
    {
     "name": "stdout",
     "output_type": "stream",
     "text": [
      "5\n",
      "Inteligencia\n"
     ]
    }
   ],
   "source": [
    "valor = max( [1, 2, 3, 4, 5, 4, 3, 2, 1] )\n",
    "print(valor)\n",
    "\n",
    "valor = max( [\"Inteligencia\", \"Computacional\", \"Artificial\"] )\n",
    "print(valor)"
   ]
  },
  {
   "cell_type": "markdown",
   "metadata": {},
   "source": [
    "- **min**: determinar el valor mínimo de la lista"
   ]
  },
  {
   "cell_type": "code",
   "execution_count": 22,
   "metadata": {},
   "outputs": [
    {
     "name": "stdout",
     "output_type": "stream",
     "text": [
      "1\n",
      "Artificial\n"
     ]
    }
   ],
   "source": [
    "valor = min( [1, 2, 3, 4, 5, 4, 3, 2, 1] )\n",
    "print(valor)\n",
    "\n",
    "valor = min( [\"Inteligencia\", \"Computacional\", \"Artificial\"] )\n",
    "print(valor)"
   ]
  },
  {
   "cell_type": "markdown",
   "metadata": {},
   "source": [
    "##### for sobre una lista\n",
    "Se puede usar la instrucción *for* para ejectuar operaciones sobre todos los elementos de una lista:"
   ]
  },
  {
   "cell_type": "code",
   "execution_count": 23,
   "metadata": {},
   "outputs": [
    {
     "name": "stdout",
     "output_type": "stream",
     "text": [
      "1\n",
      "10\n",
      "100\n",
      "1000\n",
      "[5, 6, 7]\n",
      "5\n",
      "TAC\n"
     ]
    }
   ],
   "source": [
    "lista = [1, 10, 100, 1000, [5, 6, 7], 5, \"TAC\"]\n",
    "\n",
    "for elemento in lista:\n",
    "    print(elemento)"
   ]
  },
  {
   "cell_type": "markdown",
   "metadata": {},
   "source": [
    "### Tuplas\n",
    "\n",
    "Son estructuras similares a las listas, que se pueden crear de la siguiente manera:\n",
    "\n",
    "> a = **(** $ a_{0}, a_{1}, a_{2},\\dots $ **)**\n"
   ]
  },
  {
   "cell_type": "markdown",
   "metadata": {},
   "source": [
    "   * Ambos se usan para almacenar colecciones de datos\n",
    "   * Ambos permiten almacenar cualquier tipo de datos\n",
    "   * Ambos son ordenados (se guarda el orden en el que se ingresan los datos)\n",
    "   * Ambos son tipos de datos secuenciales, por lo que se puede iterar sobre sus elementos \n",
    "   * Los elementos de una tupla se pueden acceder usando un índice entre corchetes, y al igual que las listas admiten *slicing*"
   ]
  },
  {
   "cell_type": "markdown",
   "metadata": {},
   "source": [
    "A diferencia de las listas, las tuplas son *inmutables*: sus elementos no pueden cambiar una vez definidos."
   ]
  },
  {
   "cell_type": "code",
   "execution_count": 36,
   "metadata": {},
   "outputs": [
    {
     "name": "stdout",
     "output_type": "stream",
     "text": [
      "(1, 2, 3)\n",
      "1 2 3\n"
     ]
    },
    {
     "ename": "TypeError",
     "evalue": "'tuple' object does not support item assignment",
     "output_type": "error",
     "traceback": [
      "\u001b[1;31m---------------------------------------------------------------------------\u001b[0m",
      "\u001b[1;31mTypeError\u001b[0m                                 Traceback (most recent call last)",
      "Cell \u001b[1;32mIn[36], line 6\u001b[0m\n\u001b[0;32m      3\u001b[0m \u001b[38;5;28mprint\u001b[39m(tupla[\u001b[38;5;241m0\u001b[39m], tupla[\u001b[38;5;241m1\u001b[39m], tupla[\u001b[38;5;241m2\u001b[39m])\n\u001b[0;32m      5\u001b[0m \u001b[38;5;66;03m# Inmutabilidad\u001b[39;00m\n\u001b[1;32m----> 6\u001b[0m tupla[\u001b[38;5;241m0\u001b[39m] \u001b[38;5;241m=\u001b[39m \u001b[38;5;241m10\u001b[39m\n",
      "\u001b[1;31mTypeError\u001b[0m: 'tuple' object does not support item assignment"
     ]
    }
   ],
   "source": [
    "tupla = (1, 2, 3)\n",
    "print(tupla)\n",
    "print(tupla[0], tupla[1], tupla[2])\n",
    "\n",
    "# Inmutabilidad\n",
    "tupla[0] = 10   # Las tuplas NO admiten asignación por índice ni eliminación de elementos contenidos"
   ]
  },
  {
   "cell_type": "markdown",
   "metadata": {},
   "source": [
    " Como las listas son mutables, Python necesita asignar un bloque de memoria adicional en caso de que sea necesario ampliar su tamaño después de crearla. Por el contrario, como las tuplas son inmutables y de tamaño fijo, Python asigna el bloque de memoria mínimo requerido para los datos. Por eso las tuplas son más eficientes en memoria y tiempo de lectura:"
   ]
  },
  {
   "cell_type": "code",
   "execution_count": 9,
   "metadata": {},
   "outputs": [
    {
     "name": "stdout",
     "output_type": "stream",
     "text": [
      "bytes para el objeto lista:  136\n",
      "bytes para el objeto tupla:  120\n"
     ]
    }
   ],
   "source": [
    "import sys\n",
    "lista_ejemplo = list()\n",
    "tupla_ejemplo = tuple()\n",
    "lista_ejemplo = [0,1,2,3,4,5,6,7,8,9]\n",
    "tupla_ejemplo = (0,1,2,3,4,5,6,7,8,9)\n",
    "print(\"bytes para el objeto lista: \", sys.getsizeof(lista_ejemplo))\n",
    "print(\"bytes para el objeto tupla: \", sys.getsizeof(tupla_ejemplo))"
   ]
  },
  {
   "cell_type": "markdown",
   "metadata": {},
   "source": [
    "Cuando se crea una función que devuelve más de un elemento separados por comas, se está utilizando una tupla."
   ]
  },
  {
   "cell_type": "code",
   "execution_count": 12,
   "metadata": {},
   "outputs": [
    {
     "name": "stdout",
     "output_type": "stream",
     "text": [
      "(10, 20, 30)\n",
      "<class 'tuple'>\n"
     ]
    }
   ],
   "source": [
    "def f(x):\n",
    "  return x, 2*x, 3*x\n",
    "\n",
    "print(f(10))\n",
    "\n",
    "objeto = f(10)\n",
    "print(type(objeto))"
   ]
  },
  {
   "cell_type": "markdown",
   "metadata": {},
   "source": [
    "Algunas funciones que se mencionaron para listas también funcionan con tuplas: *len()*, *max()*, *min()*, *sum()*, *any()*, *all()*, *sorted()*\n",
    "\n",
    "Con respecto a los métodos, salvo *index()* y *count()*, los demás métodos aplicables sobre listas (*append()*, *insert()*, *remove()*, *pop()*, *clear()*, *sort()*, *reverse()*) no funcionan con tuplas.\n",
    "\n",
    "\n",
    "Se debe usar tuplas cuando se sabe qué datos se van a almacenar y no se quiere modificarlos. Además, no se puede usar una lista como clave para diccionarios. Sólo se pueden codificar (usar de forma *hash*) valores inmutables. \n",
    "\n",
    "En cambio si se sabe que los datos pueden cambiar, crecer o reducirse durante el tiempo de ejecución, se debería usar listas."
   ]
  },
  {
   "cell_type": "markdown",
   "metadata": {},
   "source": [
    "### Diccionarios"
   ]
  },
  {
   "cell_type": "markdown",
   "metadata": {},
   "source": [
    "Un \"diccionario\" es una estructura de datos organizada igual que un diccionario físico. Cada elemento o bloque de datos tiene asociada una palabra, que se utiliza para identificarlo o indexarlo. A esa palabrse se denomina **clave** (o **key**), y al bloque de datos asociado se suele denominar **contenido**. El par **clave,contenido** se suele llamar **elemento**.\n",
    "\n",
    "Los diccionario son estructuras ordenadas al igual que las listas, también aceptan contenidos repetidos, siempre que se usen claves distintas, ya que dos elementos con la misma clave serían indistinguibles.\n",
    "\n",
    "La clave suele ser información de tipo **string** (aunque no necesariamente), mientras que el contenido puede tener cualquier tipo de dato.\n",
    "\n",
    "Los diccionarios se crean utilizando la siguiente estructura:\n",
    "\n",
    "> x = **{**  $k_{0}$ **:** $c_{0}$**,** $k_{1}$ **:** $c_{1}$, $\\dots$**}**\n",
    ">\n",
    "> Donde los dos puntos dividen la *clave* del *contenido*, y la coma separa cada elemento\n"
   ]
  },
  {
   "cell_type": "markdown",
   "metadata": {},
   "source": [
    "Veamos un ejemplo de uso de un diccionario para hacer un mapeo de la codificación de aminoiácidos con tres letras a una sola:"
   ]
  },
  {
   "cell_type": "code",
   "execution_count": 32,
   "metadata": {},
   "outputs": [
    {
     "name": "stdout",
     "output_type": "stream",
     "text": [
      "{'CYS': 'C', 'ASP': 'D', 'SER': 'S', 'GLN': 'Q', 'LYS': 'K', 'ILE': 'I', 'PRO': 'P', 'THR': 'T', 'PHE': 'F', 'ASN': 'N', 'GLY': 'G', 'HIS': 'H', 'LEU': 'L', 'ARG': 'R', 'TRP': 'W', 'ALA': 'A', 'VAL': 'V', 'GLU': 'E', 'TYR': 'Y', 'MET': 'M'}\n"
     ]
    }
   ],
   "source": [
    "d = {'CYS': 'C', 'ASP': 'D', 'SER': 'S', 'GLN': 'Q', 'LYS': 'K',\n",
    "     'ILE': 'I', 'PRO': 'P', 'THR': 'T', 'PHE': 'F', 'ASN': 'N', \n",
    "     'GLY': 'G', 'HIS': 'H', 'LEU': 'L', 'ARG': 'R', 'TRP': 'W', \n",
    "     'ALA': 'A', 'VAL':'V', 'GLU': 'E', 'TYR': 'Y', 'MET': 'M'}\n",
    "\n",
    "print(d)\n"
   ]
  },
  {
   "cell_type": "markdown",
   "metadata": {},
   "source": [
    "Para acceder a los datos de un diccionario se utiliza la misma sintaxis que las listas pero en lugar de un índice numérico, se utiliza la clave deseada."
   ]
  },
  {
   "cell_type": "code",
   "execution_count": 17,
   "metadata": {},
   "outputs": [
    {
     "name": "stdout",
     "output_type": "stream",
     "text": [
      "CYS: C\n"
     ]
    }
   ],
   "source": [
    "print('CYS:', d['CYS'])\n"
   ]
  },
  {
   "cell_type": "markdown",
   "metadata": {},
   "source": [
    "#### Operaciones con diccionarios\n",
    "- **in**: permite saber si una clave se encuentra en el diccionario."
   ]
  },
  {
   "cell_type": "code",
   "execution_count": 33,
   "metadata": {},
   "outputs": [
    {
     "name": "stdout",
     "output_type": "stream",
     "text": [
      "GLU\n",
      "GLU está en el diccionario\n"
     ]
    }
   ],
   "source": [
    "clave = str(input())\n",
    "if clave in d:\n",
    "    print(clave, 'está en el diccionario')\n",
    "else:\n",
    "    print(clave, 'no está en el diccionario')"
   ]
  },
  {
   "cell_type": "markdown",
   "metadata": {},
   "source": [
    "- **for** clave **in** diccionario: permite iterar por todas las claves del diccionario."
   ]
  },
  {
   "cell_type": "code",
   "execution_count": 34,
   "metadata": {},
   "outputs": [
    {
     "name": "stdout",
     "output_type": "stream",
     "text": [
      "La clave CYS tiene asociado el valor C\n",
      "La clave ASP tiene asociado el valor D\n",
      "La clave SER tiene asociado el valor S\n",
      "La clave GLN tiene asociado el valor Q\n",
      "La clave LYS tiene asociado el valor K\n",
      "La clave ILE tiene asociado el valor I\n",
      "La clave PRO tiene asociado el valor P\n",
      "La clave THR tiene asociado el valor T\n",
      "La clave PHE tiene asociado el valor F\n",
      "La clave ASN tiene asociado el valor N\n",
      "La clave GLY tiene asociado el valor G\n",
      "La clave HIS tiene asociado el valor H\n",
      "La clave LEU tiene asociado el valor L\n",
      "La clave ARG tiene asociado el valor R\n",
      "La clave TRP tiene asociado el valor W\n",
      "La clave ALA tiene asociado el valor A\n",
      "La clave VAL tiene asociado el valor V\n",
      "La clave GLU tiene asociado el valor E\n",
      "La clave TYR tiene asociado el valor Y\n",
      "La clave MET tiene asociado el valor M\n"
     ]
    }
   ],
   "source": [
    "for clave in d:\n",
    "    print('La clave',clave,'tiene asociado el valor',d[clave])"
   ]
  },
  {
   "cell_type": "markdown",
   "metadata": {},
   "source": [
    "- **items**: devuelve la lista de claves y valores almacenadas en el diccionario.\n",
    "\n",
    "Como se obtienen 2 datos por elemento, para utilizarlo en un *for* se debe indicar 2 nombres de variable separados por coma. En este ejemplo la variable *k* tomará el valor de la *key* de cada elemento y la variable *c* de su *contenido*."
   ]
  },
  {
   "cell_type": "code",
   "execution_count": 27,
   "metadata": {},
   "outputs": [
    {
     "name": "stdout",
     "output_type": "stream",
     "text": [
      "key: CYS  content:  C\n",
      "key: ASP  content:  D\n",
      "key: SER  content:  S\n",
      "key: GLN  content:  Q\n",
      "key: LYS  content:  K\n",
      "key: ILE  content:  I\n",
      "key: PRO  content:  P\n",
      "key: THR  content:  T\n",
      "key: PHE  content:  F\n",
      "key: ASN  content:  N\n",
      "key: GLY  content:  G\n",
      "key: HIS  content:  H\n",
      "key: LEU  content:  L\n",
      "key: ARG  content:  R\n",
      "key: TRP  content:  W\n",
      "key: ALA  content:  A\n",
      "key: VAL  content:  V\n",
      "key: GLU  content:  E\n",
      "key: TYR  content:  Y\n",
      "key: MET  content:  M\n",
      "\n",
      "Forma alternativa \n",
      "\n",
      "key: CYS  content:  C\n",
      "key: ASP  content:  D\n",
      "key: SER  content:  S\n",
      "key: GLN  content:  Q\n",
      "key: LYS  content:  K\n",
      "key: ILE  content:  I\n",
      "key: PRO  content:  P\n",
      "key: THR  content:  T\n",
      "key: PHE  content:  F\n",
      "key: ASN  content:  N\n",
      "key: GLY  content:  G\n",
      "key: HIS  content:  H\n",
      "key: LEU  content:  L\n",
      "key: ARG  content:  R\n",
      "key: TRP  content:  W\n",
      "key: ALA  content:  A\n",
      "key: VAL  content:  V\n",
      "key: GLU  content:  E\n",
      "key: TYR  content:  Y\n",
      "key: MET  content:  M\n"
     ]
    }
   ],
   "source": [
    "#print(d.items())\n",
    "\n",
    "for k,v in d.items():\n",
    "    print(\"key:\", k,\" content: \", v)\n",
    "\n",
    "print (\"\\nForma alternativa \\n\")\n",
    "# Otra forma\n",
    "for item in d.items():\n",
    "    print(\"key:\", item[0],\" content: \", item[1])\n"
   ]
  },
  {
   "cell_type": "markdown",
   "metadata": {},
   "source": [
    "* diccionario**[** clave **]** = valor: agrega o reemplaza un elemento\n"
   ]
  },
  {
   "cell_type": "code",
   "execution_count": 28,
   "metadata": {},
   "outputs": [
    {
     "name": "stdout",
     "output_type": "stream",
     "text": [
      "Z\n"
     ]
    }
   ],
   "source": [
    "d['DIC'] = 'Z'\n",
    "\n",
    "print(d['DIC'])"
   ]
  },
  {
   "cell_type": "markdown",
   "metadata": {},
   "source": [
    "- **.get**( clave, valor_por_defecto ): devuelve el valor asociado a la clave. Si la clave *no* se encuentra el diccionario, devuelve el valor por defecto indicado. Esto es útil cuando no sabemos si una clave existe o no."
   ]
  },
  {
   "cell_type": "code",
   "execution_count": 30,
   "metadata": {},
   "outputs": [
    {
     "name": "stdout",
     "output_type": "stream",
     "text": [
      "La letra L aparece 21 vez/veces\n",
      "La letra O aparece 25 vez/veces\n",
      "La letra R aparece 20 vez/veces\n",
      "La letra E aparece 38 vez/veces\n",
      "La letra M aparece 17 vez/veces\n",
      "La letra I aparece 42 vez/veces\n",
      "La letra P aparece 10 vez/veces\n",
      "La letra S aparece 18 vez/veces\n",
      "La letra U aparece 29 vez/veces\n",
      "La letra D aparece 16 vez/veces\n",
      "La letra T aparece 32 vez/veces\n",
      "La letra A aparece 28 vez/veces\n",
      "La letra C aparece 15 vez/veces\n",
      "La letra N aparece 23 vez/veces\n",
      "La letra G aparece 3 vez/veces\n",
      "La letra B aparece 4 vez/veces\n",
      "La letra Q aparece 6 vez/veces\n",
      "La letra V aparece 3 vez/veces\n",
      "La letra X aparece 3 vez/veces\n",
      "La letra H aparece 1 vez/veces\n",
      "La letra F aparece 3 vez/veces\n"
     ]
    }
   ],
   "source": [
    "texto = \"lorem ipsum dolor sit amet, consectetur adipiscing elit, sed eiusmod \\\n",
    "tempor incidunt ut labore et dolore magna aliqua. Ut enim ad minim veniam, \\\n",
    "quis nostrud exercitation ullamco laboris nisi ut aliquid ex ea commodi \\\n",
    "consequat. Quis aute iure reprehenderit in voluptate velit esse cillum dolore \\\n",
    "eu fugiat nulla pariatur. Excepteur sint obcaecat cupiditat non proident, sunt \\\n",
    "in culpa qui officia deserunt mollit anim id est laborum.\"\n",
    "\n",
    "ocurrencias = {}          # Se define un diccionario vacío\n",
    "for letra in texto:\n",
    "  if letra.isalpha():     # Solo importan letras, no comas, puntos, espacios, etc.\n",
    "    letra = letra.upper() # No importa si la letra está en minúscula o mayúscula\n",
    "    # Suma 1 a las ocurrencias de cada letra, o inicializa el elemento\n",
    "    ocurrencias[letra] = ocurrencias.get(letra, 0) + 1\n",
    "\n",
    "# Determina la cantidad de ocurrencias de cada letra\n",
    "for k,c in ocurrencias.items():\n",
    "    print(\"La letra\", k, \"aparece\", c, \"vez/veces\")"
   ]
  },
  {
   "cell_type": "markdown",
   "metadata": {},
   "source": [
    "### Conjuntos (Sets)"
   ]
  },
  {
   "cell_type": "markdown",
   "metadata": {},
   "source": [
    "Son estructuras de datos que permiten almacenar un grupo de elementos únicos de manera no ordenada.\n",
    "\n",
    "En estas estructuras el orden no es relevante, lo único que importa es si un elemento está o no en el conjunto. No admiten elmentos repetidos ya que por su funcionamiento interno no tienen la capacidad de determinar si un elemento se encuentra más de una vez o no.\n",
    "\n",
    "Estas estructuras son muy prácticas para algunas operaciones que serían muy tediosas de programar con las otras estructuras vistas.\n",
    "\n",
    "Para crear un **set** se utilizan llaves **{ }** y se colocan elementos separados por comas, su sintaxis es similar a la de las listas.\n"
   ]
  },
  {
   "cell_type": "code",
   "execution_count": 12,
   "metadata": {},
   "outputs": [
    {
     "name": "stdout",
     "output_type": "stream",
     "text": [
      "Set x = {1, 2, 3, 4, 7}\n"
     ]
    }
   ],
   "source": [
    "x = {1, 2, 3, 4, 7, 7, 7, 7, 7, 7}   # Los sets no admiten elementos repetidos\n",
    "print(\"Set x =\", x)"
   ]
  },
  {
   "cell_type": "markdown",
   "metadata": {},
   "source": [
    "#### Operaciones con sets\n",
    "- **|** : \"*unión*\" operacion de unión de conjuntos $A \\cup B$"
   ]
  },
  {
   "cell_type": "code",
   "execution_count": 39,
   "metadata": {},
   "outputs": [
    {
     "name": "stdout",
     "output_type": "stream",
     "text": [
      "{1, 2, 3, 4, 20, 7, 10, 15}\n",
      "{1, 2, 3, 4, 7, 10, 15, 20}\n"
     ]
    }
   ],
   "source": [
    "x = {1, 2, 3, 4, 7, 7, 7, 7, 7, 7}\n",
    "y = {1, 2, 10}\n",
    "z = {15, 20}\n",
    "k2= {1, 2, 3, 4, 7, 7, 7, 7, 7, 7,1, 2, 10,15, 20}\n",
    "k = x | y | z\n",
    "print(k)\n",
    "print (k2)\n"
   ]
  },
  {
   "cell_type": "markdown",
   "metadata": {},
   "source": [
    "-  **&**: \"*intersección*\" entre conjuntos $A \\cap B$"
   ]
  },
  {
   "cell_type": "code",
   "execution_count": 14,
   "metadata": {},
   "outputs": [
    {
     "name": "stdout",
     "output_type": "stream",
     "text": [
      "{1, 2}\n"
     ]
    }
   ],
   "source": [
    "x = {1, 2, 3, 4, 7, 7, 7, 7, 7, 7}\n",
    "y = {1, 2, 10}\n",
    "w = x & y\n",
    "print(w)"
   ]
  },
  {
   "cell_type": "markdown",
   "metadata": {},
   "source": [
    "- **A-B**: eliminación de todo elemento de A que también se encuentre en B. Equivalente logico: $ A\\cap \\neg B$."
   ]
  },
  {
   "cell_type": "code",
   "execution_count": 15,
   "metadata": {},
   "outputs": [
    {
     "name": "stdout",
     "output_type": "stream",
     "text": [
      "{3, 4, 7}\n",
      "{10}\n"
     ]
    }
   ],
   "source": [
    "x = {1, 2, 3, 4, 7, 7, 7, 7, 7, 7}\n",
    "y = {1, 2, 10}\n",
    "z = x - y\n",
    "print(z)\n",
    "print(y - x)"
   ]
  },
  {
   "cell_type": "markdown",
   "metadata": {},
   "source": [
    "- **remove**: remueve un valor del conjunto"
   ]
  },
  {
   "cell_type": "code",
   "execution_count": 16,
   "metadata": {},
   "outputs": [
    {
     "name": "stdout",
     "output_type": "stream",
     "text": [
      "{2, 3, 4, 7}\n"
     ]
    }
   ],
   "source": [
    "x = {1, 2, 3, 4, 7}\n",
    "x.remove(1)\n",
    "print(x)"
   ]
  },
  {
   "cell_type": "markdown",
   "metadata": {},
   "source": [
    "- **add**: agrega un valor al conjunto"
   ]
  },
  {
   "cell_type": "code",
   "execution_count": 18,
   "metadata": {},
   "outputs": [
    {
     "name": "stdout",
     "output_type": "stream",
     "text": [
      "{1, 2, 3, 4, 7, 'hola'}\n"
     ]
    }
   ],
   "source": [
    "x = {1, 2, 3, 4, 7}\n",
    "x.add(\"hola\")\n",
    "print(x)"
   ]
  },
  {
   "cell_type": "markdown",
   "metadata": {},
   "source": [
    "- **len**: devuelve el tamaño del conjunto"
   ]
  },
  {
   "cell_type": "code",
   "execution_count": 19,
   "metadata": {},
   "outputs": [
    {
     "name": "stdout",
     "output_type": "stream",
     "text": [
      "{1, 2, 3, 6}\n",
      "4\n"
     ]
    }
   ],
   "source": [
    "conjunto = {1, 2, 1, 3, 1, 6}\n",
    "print(conjunto)\n",
    "print(len(conjunto))"
   ]
  },
  {
   "cell_type": "markdown",
   "metadata": {},
   "source": [
    "- **issubset**: determina si un conjunto es un subconjunto de otro"
   ]
  },
  {
   "cell_type": "code",
   "execution_count": 17,
   "metadata": {},
   "outputs": [
    {
     "name": "stdout",
     "output_type": "stream",
     "text": [
      "True\n",
      "False\n"
     ]
    }
   ],
   "source": [
    "x = {1, 2, 3, 4, 5, 6, 7, 8, 9}\n",
    "y = {8, 9, 10}\n",
    "z = {4, 8}\n",
    "\n",
    "\n",
    "print(z.issubset(x))\n",
    "print(y.issubset(x))"
   ]
  },
  {
   "cell_type": "markdown",
   "metadata": {},
   "source": [
    "## <span style=\"color:CornflowerBlue\">Guía de Estilo Python</span> "
   ]
  },
  {
   "cell_type": "markdown",
   "metadata": {},
   "source": [
    "Uno de los criterios en la construcción de Python es que **\"la legibilidad del código cuenta\"**. Un pilar para hacer más legible el código es que la forma de escribirlo sea consistente.\n",
    "\n",
    "Con ese objetivo se recomienda usar guías de estilo, que son convenciones para procurar que el código que se hace sea parecido entre los diferentes programadores.\n",
    "Una de las guías más usadas es el [PEP8](https://pep8.org/)\n",
    "\n",
    "Por ejemplo entre las pautas que se propone es que en cada nivel de indentación se usen 4 espacios, que no se deben mezclar tabulaciones y espacios para indentar, que las líneas deberían tener menos de 80 caracteres, usar codificación ASCII o Latin-1, importar bibliotecas diferentes en líneas separadas, etc.\n",
    "\n",
    "Estilo en la elección de nombres\n",
    "1. Constantes: todo en mayúscula, separando palabras con guines bajos\n",
    "2. Clases: Comienzo de cada palabra en mayúscula (*CapWords*)\n",
    "3. Funciones, variables, atributos: minúscula_separadas_por_guiones\n",
    "4. Atributos privados/protegidos: Comienzan con guión bajo"
   ]
  }
 ],
 "metadata": {
  "kernelspec": {
   "display_name": "Python 3 (ipykernel)",
   "language": "python",
   "name": "python3"
  },
  "language_info": {
   "codemirror_mode": {
    "name": "ipython",
    "version": 3
   },
   "file_extension": ".py",
   "mimetype": "text/x-python",
   "name": "python",
   "nbconvert_exporter": "python",
   "pygments_lexer": "ipython3",
   "version": "3.10.9"
  }
 },
 "nbformat": 4,
 "nbformat_minor": 2
}
