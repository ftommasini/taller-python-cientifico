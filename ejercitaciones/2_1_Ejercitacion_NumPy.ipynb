{
 "cells": [
  {
   "cell_type": "markdown",
   "id": "46ea3fed",
   "metadata": {},
   "source": [
    "# <span style=\"color:RoyalBlue\">Introducción a librerías básicas para uso científico</span>"
   ]
  },
  {
   "cell_type": "markdown",
   "id": "051b938d",
   "metadata": {},
   "source": [
    "## <span style=\"color:CornflowerBlue\">**NumPy**</span>"
   ]
  },
  {
   "cell_type": "markdown",
   "id": "8492f80d-15ae-4dde-ab7b-03fc52d4b3b1",
   "metadata": {},
   "source": [
    "## Ejercitación 1"
   ]
  },
  {
   "cell_type": "markdown",
   "id": "a3ad3468-52f0-4f1c-a5c9-8fa0c6f0e50c",
   "metadata": {},
   "source": [
    "<img src=\"../images/problem_1.png\" alt= “” width=\"800\">"
   ]
  },
  {
   "cell_type": "markdown",
   "id": "fda81189-8f2e-43a3-a872-6c6ced9482f9",
   "metadata": {},
   "source": [
    "**Calcular la probabilidad de que salga un 6**\n",
    "\n",
    "Posible solución tradicional"
   ]
  },
  {
   "cell_type": "code",
   "execution_count": 29,
   "id": "578056e9-4614-4b7a-a2a5-79d4629c9cae",
   "metadata": {},
   "outputs": [],
   "source": [
    "import random\n",
    "\n",
    "def probabilidad_con_for(N):\n",
    "    M = 0  # cantidad de veces que salió un 6\n",
    "\n",
    "    for i in range(N):\n",
    "        valor = random.randint(1, 6)  # lanzamos el dado\n",
    "        if valor == 6:  # verificamos si es 6\n",
    "            M += 1  # contamos un 6\n",
    "\n",
    "    return M/N"
   ]
  },
  {
   "cell_type": "markdown",
   "id": "a418c639-8c32-4d28-8b95-1688bd0d710a",
   "metadata": {},
   "source": [
    "Posible solución NumPy"
   ]
  },
  {
   "cell_type": "code",
   "execution_count": 30,
   "id": "421aae34-79d3-43de-8a04-475ff30c3a6a",
   "metadata": {},
   "outputs": [],
   "source": [
    "import numpy as np\n",
    "\n",
    "def probabilidad_con_np(N):\n",
    "    tiradas = np.random.randint(1, 7, N)   # el 7 no lo incluye\n",
    "    p = np.sum(tiradas == 6) / N\n",
    "    return p"
   ]
  },
  {
   "cell_type": "markdown",
   "id": "3ada8abe-0736-41d3-a5fe-af96b60b5726",
   "metadata": {},
   "source": [
    "Llamamos a las funciones y tomamos el tiempo de ejecución"
   ]
  },
  {
   "cell_type": "code",
   "execution_count": 42,
   "id": "429b86d2-19c1-422e-aa68-76695e515917",
   "metadata": {},
   "outputs": [],
   "source": [
    "N = 1000000  # cantidad de lanzamientos"
   ]
  },
  {
   "cell_type": "code",
   "execution_count": 43,
   "id": "355c3582-4828-4d02-a832-71f4be295f03",
   "metadata": {},
   "outputs": [
    {
     "name": "stdout",
     "output_type": "stream",
     "text": [
      "Probabilidad calculada con for: 0.1668\n"
     ]
    }
   ],
   "source": [
    "p_1 = probabilidad_con_for(N)\n",
    "print('Probabilidad calculada con for: %.4f' % p_1)"
   ]
  },
  {
   "cell_type": "code",
   "execution_count": 44,
   "id": "c9136ec6-322b-4459-9984-fde4aeb54d36",
   "metadata": {},
   "outputs": [
    {
     "name": "stdout",
     "output_type": "stream",
     "text": [
      "Probabilidad calculada con NumPy: 0.1667\n"
     ]
    }
   ],
   "source": [
    "p_2 = probabilidad_con_np(N)\n",
    "print('Probabilidad calculada con NumPy: %.4f' % p_2)"
   ]
  },
  {
   "cell_type": "code",
   "execution_count": 45,
   "id": "b9e62f07-d5b5-4ef3-83e6-c18df3b07684",
   "metadata": {},
   "outputs": [
    {
     "name": "stdout",
     "output_type": "stream",
     "text": [
      "Probabilidad teórica: 0.1667\n"
     ]
    }
   ],
   "source": [
    "print('Probabilidad teórica: %.4f' % (1/6))"
   ]
  },
  {
   "cell_type": "markdown",
   "id": "63a21527-ca40-40cc-b882-935cb85b1bf5",
   "metadata": {},
   "source": [
    "## Ejercitación 2"
   ]
  },
  {
   "cell_type": "markdown",
   "id": "4b29dc95-7147-47ac-9a07-4df211cd14e4",
   "metadata": {},
   "source": [
    "Estimar el valor de Pi utilizando la técnica de Monte Carlo"
   ]
  },
  {
   "cell_type": "markdown",
   "id": "bf0688bc-73bb-431e-96fb-135f9d45562f",
   "metadata": {},
   "source": [
    "<img src=\"../images/pi-monte-carlo-square-circle.png\" width=300>\n",
    "$$\n",
    "  \\frac{N_c}{N_t}=\\frac{\\mathrm{Area\\:circulo}}{\\mathrm{Area\\:cuadrado}}=\\frac{\\pi r^{2}}{(2r)^{2}}=\\frac{\\pi}{4}\n",
    "$$\n",
    "$$\n",
    "    \\pi = 4 \\times \\frac{N_c}{N_t}\n",
    "$$"
   ]
  },
  {
   "cell_type": "code",
   "execution_count": 20,
   "id": "730f6ef7-4cd4-40b1-874c-fbd732fbdf6c",
   "metadata": {},
   "outputs": [],
   "source": [
    "import random\n",
    "import math\n",
    "\n",
    "def estimar_pi_for(N_t):\n",
    "    N_c = 0  # contador de puntos en el círculo\n",
    "\n",
    "    for i in range(0, N_t):\n",
    "        x = random.uniform(-1.0, 1.0)\n",
    "        y = random.uniform(-1.0, 1.0)\n",
    "\n",
    "        if math.sqrt(x*x + y*y) <= 1:  # verifica si cae dentro del círculo\n",
    "            N_c += 1\n",
    "\n",
    "    pi = 4 * N_c/N_t  # cálculo de Pi\n",
    "    return pi"
   ]
  },
  {
   "cell_type": "code",
   "execution_count": 21,
   "id": "150a2cc9-691a-4659-bf97-88d20e25301b",
   "metadata": {},
   "outputs": [],
   "source": [
    "import numpy as np\n",
    "\n",
    "def estimar_pi_numpy(N_t):    \n",
    "    x = np.random.uniform(-1.0, 1.0, N_t)\n",
    "    y = np.random.uniform(-1.0, 1.0, N_t)\n",
    "    N_c = np.sum(np.sqrt(x*x + y*y) <= 1)\n",
    "    pi = 4 * N_c / N_t\n",
    "    return pi"
   ]
  },
  {
   "cell_type": "code",
   "execution_count": 25,
   "id": "c9d7069c-72d8-439f-8fa0-b6dc93e63023",
   "metadata": {},
   "outputs": [],
   "source": [
    "N_t = 10000000"
   ]
  },
  {
   "cell_type": "code",
   "execution_count": 26,
   "id": "3be072d0-6fbd-4bb7-b782-746bf62e7268",
   "metadata": {},
   "outputs": [
    {
     "name": "stdout",
     "output_type": "stream",
     "text": [
      "Estimación 1 de Pi: 3.1409632\n"
     ]
    }
   ],
   "source": [
    "pi_1 = estimar_pi_for(N_t)\n",
    "print(\"Estimación 1 de Pi: %.7f\" % pi_1)"
   ]
  },
  {
   "cell_type": "code",
   "execution_count": 27,
   "id": "01642993-dd70-4621-9ef0-01e111329240",
   "metadata": {},
   "outputs": [
    {
     "name": "stdout",
     "output_type": "stream",
     "text": [
      "Estimación 2 de Pi: 3.1416292\n"
     ]
    }
   ],
   "source": [
    "pi_2 = estimar_pi_numpy(N_t)\n",
    "print(\"Estimación 2 de Pi: %.7f\" % pi_2)"
   ]
  },
  {
   "cell_type": "code",
   "execution_count": 28,
   "id": "e696d81d-0302-47b3-9145-4eb21dc19be6",
   "metadata": {},
   "outputs": [
    {
     "name": "stdout",
     "output_type": "stream",
     "text": [
      "Valor de Pi:        3.1415927\n"
     ]
    }
   ],
   "source": [
    "print(\"Valor de Pi:        %.7f\" % math.pi)"
   ]
  },
  {
   "cell_type": "markdown",
   "id": "c2f8ca9f-6e86-47f6-b8dd-958af953d561",
   "metadata": {},
   "source": [
    "## Ejercitación 3"
   ]
  },
  {
   "cell_type": "markdown",
   "id": "12df1bde-39b7-4aa5-b2bf-f4848110de71",
   "metadata": {},
   "source": [
    "A partir de la base de datos del Personal de Ciencia y Tecnología de Argentina (extraído del SICYTAR) del año 2018, determinar:\n",
    "- la cantidad de personas que trabajan en CyT, \n",
    "- el promedio de edad, \n",
    "- el promedio y desviación estándar de las producciones por persona en los último 4 años, y \n",
    "- el número máximo de producciones en los últimos 4 años de una persona.\n",
    "\n",
    "*Ayuda*: utilizar la función `numpy.loadtext` para cargar el archivo con los datos. Columnas con índice 3 (edad) y 12 (producciones últimos 4 años)."
   ]
  },
  {
   "cell_type": "code",
   "execution_count": 1,
   "id": "875426b0-e9e5-4578-84b6-f128b62ce463",
   "metadata": {},
   "outputs": [
    {
     "name": "stdout",
     "output_type": "stream",
     "text": [
      "[[43.  0.]\n",
      " [55.  6.]\n",
      " [37. 18.]\n",
      " ...\n",
      " [25. -1.]\n",
      " [23. -1.]\n",
      " [34. -1.]]\n"
     ]
    }
   ],
   "source": [
    "import numpy as np\n",
    "\n",
    "# Carga de datos\n",
    "data = np.loadtxt('../datos/personal_cyt_2018.csv',  # ruta al archivo de datos\n",
    "                  delimiter=',',  # separador de columnas en archivo\n",
    "                  skiprows=1,  # no se carga texto de cabeceras \n",
    "                  usecols=[3, 12])  # columnas \"edad\" (3) y \"producciones_ult_4_anios\" (12) \n",
    "\n",
    "print(data)"
   ]
  },
  {
   "cell_type": "code",
   "execution_count": 2,
   "id": "e25325f7-27cb-422b-a608-f2b67d748b3f",
   "metadata": {},
   "outputs": [
    {
     "name": "stdout",
     "output_type": "stream",
     "text": [
      "Cantidad de personas que trabajan en CyT: 68552\n",
      "Promedio de edad: 45.62\n",
      "Promedio de producciones por persona de los últimos 4 años: 5.35\n",
      "Desviación estándar de producciones por persona de los últimos 4 años: 9.26\n",
      "Número máximo de producciones por persona en los últimos 4 años: 313.00\n"
     ]
    }
   ],
   "source": [
    "cant_filas, cant_cols = data.shape  # obtenemos la cantidad de filas y columnas de la matriz de datos\n",
    "print(\"Cantidad de personas que trabajan en CyT: {}\".format(cant_filas))\n",
    "\n",
    "prom_edad = data[:,0].mean()\n",
    "print(\"Promedio de edad: {0:.2f}\".format(prom_edad))\n",
    "\n",
    "prom_prod = data[:,1].mean()\n",
    "print(\"Promedio de producciones por persona de los últimos 4 años: {0:.2f}\".format(prom_prod))\n",
    "\n",
    "std_prod = data[:,1].std()\n",
    "print(\"Desviación estándar de producciones por persona de los últimos 4 años: {0:.2f}\".format(std_prod))\n",
    "\n",
    "max_prod = data[:,1].max()\n",
    "print(\"Número máximo de producciones por persona en los últimos 4 años: {0:.2f}\".format(max_prod))"
   ]
  },
  {
   "cell_type": "code",
   "execution_count": null,
   "id": "0d5131ce-fdbc-4715-ace3-85a2778b91c3",
   "metadata": {},
   "outputs": [],
   "source": []
  }
 ],
 "metadata": {
  "kernelspec": {
   "display_name": "Python 3 (ipykernel)",
   "language": "python",
   "name": "python3"
  },
  "language_info": {
   "codemirror_mode": {
    "name": "ipython",
    "version": 3
   },
   "file_extension": ".py",
   "mimetype": "text/x-python",
   "name": "python",
   "nbconvert_exporter": "python",
   "pygments_lexer": "ipython3",
   "version": "3.10.9"
  }
 },
 "nbformat": 4,
 "nbformat_minor": 5
}
