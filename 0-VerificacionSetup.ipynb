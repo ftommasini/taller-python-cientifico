{
 "cells": [
  {
   "cell_type": "markdown",
   "metadata": {},
   "source": [
    "# Verificación del setup"
   ]
  },
  {
   "cell_type": "code",
   "execution_count": 1,
   "metadata": {
    "ExecuteTime": {
     "end_time": "2023-06-28T19:27:02.133294384Z",
     "start_time": "2023-06-28T19:27:02.128216507Z"
    }
   },
   "outputs": [
    {
     "name": "stdout",
     "output_type": "stream",
     "text": [
      "Versión de Python: 3.10.9 (main, Mar  1 2023, 18:23:06) [GCC 11.2.0]\n",
      "Versión de NumPy: 1.24.3\n",
      "Versión de SciPy: 1.10.1\n",
      "Versión de Pandas: 1.5.3\n",
      "Versión de Matplotlib: 3.7.1\n",
      "Versión de SeaBorn: 0.12.2\n"
     ]
    }
   ],
   "source": [
    "import sys\n",
    "print(\"Versión de Python: {}\".format(sys.version))\n",
    "\n",
    "import numpy as np\n",
    "print(\"Versión de NumPy: {}\".format(np.__version__))\n",
    "\n",
    "import scipy as sp\n",
    "print(\"Versión de SciPy: {}\".format(sp.__version__))\n",
    "\n",
    "import pandas as pd\n",
    "print(\"Versión de Pandas: {}\".format(pd.__version__))\n",
    "\n",
    "import matplotlib as mpl\n",
    "print(\"Versión de Matplotlib: {}\".format(mpl.__version__))\n",
    "\n",
    "import seaborn as sns\n",
    "print(\"Versión de Seaborn: {}\".format(sns.__version__))"
   ]
  }
 ],
 "metadata": {
  "kernelspec": {
   "display_name": "Python 3 (ipykernel)",
   "language": "python",
   "name": "python3"
  },
  "language_info": {
   "codemirror_mode": {
    "name": "ipython",
    "version": 3
   },
   "file_extension": ".py",
   "mimetype": "text/x-python",
   "name": "python",
   "nbconvert_exporter": "python",
   "pygments_lexer": "ipython3",
   "version": "3.10.9"
  }
 },
 "nbformat": 4,
 "nbformat_minor": 2
}
