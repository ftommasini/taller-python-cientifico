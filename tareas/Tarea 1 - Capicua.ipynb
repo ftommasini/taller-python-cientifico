{
 "cells": [
  {
   "cell_type": "markdown",
   "source": [
    "# Verificación si una cadena ingresada es capicúa"
   ],
   "metadata": {
    "collapsed": false
   }
  },
  {
   "cell_type": "markdown",
   "source": [
    "Definimos una función que haga la tarea"
   ],
   "metadata": {
    "collapsed": false
   }
  },
  {
   "cell_type": "code",
   "execution_count": 1,
   "outputs": [],
   "source": [
    "def es_capicua(cadena):\n",
    "    # Convertimos cadena a minúsculas\n",
    "    cadena = cadena.lower()\n",
    "\n",
    "    # Verificamos si la cadena es igual a su inversa\n",
    "    if cadena == cadena[::-1]:\n",
    "        print(\"%s: Es capicúa\" % cadena)\n",
    "    else:\n",
    "        print(\"%s: No es capicúa\" % cadena)"
   ],
   "metadata": {
    "collapsed": false,
    "ExecuteTime": {
     "end_time": "2023-06-28T19:47:00.803687961Z",
     "start_time": "2023-06-28T19:47:00.798599400Z"
    }
   }
  },
  {
   "cell_type": "markdown",
   "source": [
    "Ahora probamos la función, llamándola con diferentes cadenas"
   ],
   "metadata": {
    "collapsed": false
   }
  },
  {
   "cell_type": "code",
   "execution_count": 2,
   "outputs": [
    {
     "name": "stdout",
     "output_type": "stream",
     "text": [
      "radar: Es capicúa\n",
      "neuquén: No es capicúa\n",
      "ana: Es capicúa\n",
      "somos: Es capicúa\n",
      "reconocer: Es capicúa\n",
      "casa: No es capicúa\n",
      "perro: No es capicúa\n",
      "computadora: No es capicúa\n",
      "teléfono: No es capicúa\n",
      "fabián: No es capicúa\n"
     ]
    }
   ],
   "source": [
    "cadenas = [\"radar\", \"Neuquén\", \"Ana\", \"SOMOS\", \"reconocer\",  # palabras que son capicúa (ojo con los acentos)\n",
    "           \"casa\", \"PERRO\", \"Computadora\", \"Teléfono\", \"Fabián\"]  # palabras que no son capicúa\n",
    "\n",
    "for c in cadenas:\n",
    "    es_capicua(c)"
   ],
   "metadata": {
    "collapsed": false,
    "ExecuteTime": {
     "end_time": "2023-06-28T19:47:00.811891915Z",
     "start_time": "2023-06-28T19:47:00.804723220Z"
    }
   }
  },
  {
   "cell_type": "code",
   "execution_count": 3,
   "outputs": [],
   "source": [
    "from unidecode import unidecode\n",
    "\n",
    "def es_capicua_ignorando_acentos(cadena):\n",
    "    # Convertimos cadena a minúsculas\n",
    "    cadena = cadena.lower()\n",
    "    # Eliminamos los acentos\n",
    "    cadena = unidecode(cadena)\n",
    "\n",
    "    # Verificamos si la cadena es igual a su inversa\n",
    "    if cadena == cadena[::-1]:\n",
    "        print(\"%s: Es capicúa\" % cadena)\n",
    "    else:\n",
    "        print(\"%s: No es capicúa\" % cadena)"
   ],
   "metadata": {
    "collapsed": false,
    "ExecuteTime": {
     "end_time": "2023-06-28T19:47:00.855889221Z",
     "start_time": "2023-06-28T19:47:00.815022550Z"
    }
   }
  },
  {
   "cell_type": "code",
   "execution_count": 4,
   "outputs": [
    {
     "name": "stdout",
     "output_type": "stream",
     "text": [
      "radar: Es capicúa\n",
      "neuquen: Es capicúa\n",
      "ana: Es capicúa\n",
      "somos: Es capicúa\n",
      "reconocer: Es capicúa\n",
      "casa: No es capicúa\n",
      "perro: No es capicúa\n",
      "computadora: No es capicúa\n",
      "telefono: No es capicúa\n",
      "fabian: No es capicúa\n"
     ]
    }
   ],
   "source": [
    "for c in cadenas:\n",
    "    es_capicua_ignorando_acentos(c)"
   ],
   "metadata": {
    "collapsed": false,
    "ExecuteTime": {
     "end_time": "2023-06-28T19:47:00.857875361Z",
     "start_time": "2023-06-28T19:47:00.856198011Z"
    }
   }
  }
 ],
 "metadata": {
  "kernelspec": {
   "display_name": "Python 3",
   "language": "python",
   "name": "python3"
  },
  "language_info": {
   "codemirror_mode": {
    "name": "ipython",
    "version": 2
   },
   "file_extension": ".py",
   "mimetype": "text/x-python",
   "name": "python",
   "nbconvert_exporter": "python",
   "pygments_lexer": "ipython2",
   "version": "2.7.6"
  }
 },
 "nbformat": 4,
 "nbformat_minor": 0
}
