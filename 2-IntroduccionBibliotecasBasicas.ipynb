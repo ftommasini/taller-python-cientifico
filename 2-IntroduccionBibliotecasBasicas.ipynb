{
 "cells": [
  {
   "cell_type": "markdown",
   "id": "46ea3fed",
   "metadata": {},
   "source": [
    "# <span style=\"color:RoyalBlue\">Introducción a Bibliotecas Básicas de Python</span>"
   ]
  },
  {
   "cell_type": "markdown",
   "id": "051b938d",
   "metadata": {},
   "source": [
    "## <span style=\"color:CornflowerBlue\">**Numpy**</span>\n",
    "[Numpy](https://numpy.org/) (**Num**-ber **Py**-thon) es la biblioteca estándar de Python para trabajar con vectores y matrices.\n",
    "Extiende la funcionalidad de Python permitiendo el uso de expresiones vectorizadas (como las que emplea **Matlab**).\n",
    "\n",
    "<img src=\"https://upload.wikimedia.org/wikipedia/commons/thumb/1/1a/NumPy_logo.svg/1200px-NumPy_logo.svg.png\" width = 450>\n",
    "\n",
    "La principal ventaja de emplear Numpy en vez de las estructuras de datos nativas de Python es su eficiencia (rapidez), dado que ofrece nuevos tipos de variables que permiten generar expresiones vectorizadas, para las cuales hay funciones *precompiladas*, y escritas en *C*, lo que las hace muy rápidas.\n",
    "\n",
    "Se puede pensar a estos arreglos de Numpy como listas de Python estándar en la que todos sus elementos tienen el mismo tipo. En el caso de las listas estándar de Python, los elementos eran estructuras abstractas que podían contener objetos de cualquier tipo, por lo tanto su manejo tiene un sobrecosto de almacenar los metadatos de tipos de cada elemento. En el caso de Numpy, como es requisito que todos los elementos sean del mismo tipo ese costo se omite y se pueden hacer funciones que operen más rápido sobre los datos. "
   ]
  },
  {
   "cell_type": "markdown",
   "id": "3900cbcc",
   "metadata": {},
   "source": [
    "## Inicio\n",
    "\n",
    "El primer requisito para usar esta biblioteca es importarla previo a su empleo"
   ]
  },
  {
   "cell_type": "code",
   "execution_count": 2,
   "id": "a874ddca",
   "metadata": {},
   "outputs": [],
   "source": [
    "import numpy as np"
   ]
  },
  {
   "cell_type": "markdown",
   "id": "0bafd315",
   "metadata": {},
   "source": [
    "## Tipos de datos\n",
    "\n",
    "Los objetos básicos de esta biblioteca son los arreglos, que se pueden crear de la siguiente manera: "
   ]
  },
  {
   "cell_type": "code",
   "execution_count": 3,
   "id": "b32e0e88",
   "metadata": {},
   "outputs": [
    {
     "name": "stdout",
     "output_type": "stream",
     "text": [
      "[1 2 3 4 5]\n",
      "[ 6  7  8  9 10]\n"
     ]
    }
   ],
   "source": [
    "a = np.array([1,2,3,4,5])   # Definición de un array a partir de una lista Python\n",
    "b = np.array((6,7,8,9,10))  # Definición de un array a partir de una tupla Python\n",
    "print(a)\n",
    "print(b)"
   ]
  },
  {
   "cell_type": "markdown",
   "id": "b45ef555",
   "metadata": {},
   "source": [
    "De igual manera se puede hacer para crear arreglos de múltiples dimensiones, conocer sus dimensiones o acceder a elementos específicos:"
   ]
  },
  {
   "cell_type": "code",
   "execution_count": 5,
   "id": "44e5723b",
   "metadata": {},
   "outputs": [
    {
     "name": "stdout",
     "output_type": "stream",
     "text": [
      "tipo de a:\n",
      "<class 'numpy.ndarray'>\n",
      "tamaño de a (número de elementos): 6\n",
      "Dimensión de a (número de índices que se necesitan para indicar un elemento particular):  2 \n",
      "\n",
      "\n",
      "Tipo de datos de a:  int32 \n",
      "\n",
      "\n",
      "Contenido de a :\n",
      " [[1 2 3]\n",
      " [4 5 6]]\n",
      "tipo de b:\n",
      "<class 'numpy.ndarray'>\n",
      "tamaño de b (número de elementos): 12\n",
      "Dimensión de b:  3\n",
      "Tipo de datos de b:  float32 \n",
      "\n",
      "\n",
      "Contenido de b :\n",
      " [[[ 1.  2.  3.]\n",
      "  [ 4.  5.  6.]]\n",
      "\n",
      " [[ 7.  8.  9.]\n",
      "  [10. 11. 12.]]]\n",
      "Número de elementos en cada dimensión de b:  2 2 3\n",
      "Valor del tercer elemento de b que se encuentra en la posición [1, 0, 2] : 9.0\n"
     ]
    }
   ],
   "source": [
    "a = np.array([[1,2,3], [4, 5, 6]]) \n",
    "print (\"tipo de a:\\n{}\".format(type(a)))\n",
    "print (\"tamaño de a (número de elementos): {}\".format(a.size))\n",
    "print (\"Dimensión de a (número de índices que se necesitan para indicar un elemento particular): \", a.ndim, \"\\n\\n\")\n",
    "print (\"Tipo de datos de a: \", a.dtype, \"\\n\\n\")\n",
    "print (\"Contenido de a :\\n\", a)\n",
    "\n",
    "\n",
    "\n",
    "b = np.array([[[1,2,3], [4, 5, 6]], [[7, 8, 9], [10, 11, 12]]], dtype =\"f\") \n",
    "print(\"tipo de b:\\n{}\".format(type(b)))\n",
    "print(\"tamaño de b (número de elementos): {}\".format(b.size))\n",
    "print (\"Dimensión de b: \", b.ndim)\n",
    "print (\"Tipo de datos de b: \", b.dtype, \"\\n\\n\")\n",
    "print(\"Contenido de b :\\n\", b)\n",
    "\n",
    "print(\"Número de elementos en cada dimensión de b: \", b.shape[0], b.shape[1], b.shape[2])\n",
    "\n",
    "print(\"Valor del tercer elemento de b que se encuentra en la posición [1, 0, 2] :\", b[1, 0, 2])"
   ]
  },
  {
   "cell_type": "markdown",
   "id": "84bfc10c",
   "metadata": {},
   "source": [
    "## Tipos especiales de arreglos"
   ]
  },
  {
   "cell_type": "markdown",
   "id": "4f15a1d9",
   "metadata": {},
   "source": [
    "Existen tipos particulares de arreglos que serán de mucha utilidad para operaciones algebraica.\n",
    "Entre ellos, vectores nulos, de unos o la matriz identidad:"
   ]
  },
  {
   "cell_type": "code",
   "execution_count": 74,
   "id": "f843dc6d",
   "metadata": {},
   "outputs": [
    {
     "name": "stdout",
     "output_type": "stream",
     "text": [
      "Vector nulo de 30 elementos, a: [[0. 0. 0. 0. 0. 0. 0. 0. 0. 0. 0. 0. 0. 0. 0. 0. 0. 0. 0. 0. 0. 0. 0. 0.\n",
      "  0. 0. 0. 0. 0. 0.]] \n",
      "\n",
      "Matriz de 4 filas y 3 columnas con todos sus valores iguales a uno b: \n",
      " [[1. 1. 1.]\n",
      " [1. 1. 1.]\n",
      " [1. 1. 1.]\n",
      " [1. 1. 1.]] \n",
      "\n",
      "Matriz identidad de 2x2\n",
      " [[1. 0.]\n",
      " [0. 1.]] \n",
      "\n"
     ]
    }
   ],
   "source": [
    "a = np.zeros([1,30])\n",
    "print(\"Vector nulo de 30 elementos, a:\", a, \"\\n\")\n",
    "\n",
    "b = np.ones([4,3])\n",
    "print(\"Matriz de 4 filas y 3 columnas con todos sus valores iguales a uno b: \\n\", b, \"\\n\")\n",
    "\n",
    "c = np.eye(2) \n",
    "print (\"Matriz identidad de 2x2\\n\", c, \"\\n\")\n"
   ]
  },
  {
   "cell_type": "markdown",
   "id": "e677de8e",
   "metadata": {},
   "source": [
    "Vectores de enteros consecutivos que se pueden usar como índices:"
   ]
  },
  {
   "cell_type": "code",
   "execution_count": 83,
   "id": "f2ca6b22",
   "metadata": {},
   "outputs": [
    {
     "name": "stdout",
     "output_type": "stream",
     "text": [
      "Vector con los enteros del 0 al 30 enumerados espaciados con un valor de 3 entre ellos:\n",
      " [ 0  3  6  9 12 15 18 21 24 27] \n",
      "\n",
      "Vector con 100 elementos linealmente espaciados entre 0 y 10: \n",
      " [ 0.          0.1010101   0.2020202   0.3030303   0.4040404   0.50505051\n",
      "  0.60606061  0.70707071  0.80808081  0.90909091  1.01010101  1.11111111\n",
      "  1.21212121  1.31313131  1.41414141  1.51515152  1.61616162  1.71717172\n",
      "  1.81818182  1.91919192  2.02020202  2.12121212  2.22222222  2.32323232\n",
      "  2.42424242  2.52525253  2.62626263  2.72727273  2.82828283  2.92929293\n",
      "  3.03030303  3.13131313  3.23232323  3.33333333  3.43434343  3.53535354\n",
      "  3.63636364  3.73737374  3.83838384  3.93939394  4.04040404  4.14141414\n",
      "  4.24242424  4.34343434  4.44444444  4.54545455  4.64646465  4.74747475\n",
      "  4.84848485  4.94949495  5.05050505  5.15151515  5.25252525  5.35353535\n",
      "  5.45454545  5.55555556  5.65656566  5.75757576  5.85858586  5.95959596\n",
      "  6.06060606  6.16161616  6.26262626  6.36363636  6.46464646  6.56565657\n",
      "  6.66666667  6.76767677  6.86868687  6.96969697  7.07070707  7.17171717\n",
      "  7.27272727  7.37373737  7.47474747  7.57575758  7.67676768  7.77777778\n",
      "  7.87878788  7.97979798  8.08080808  8.18181818  8.28282828  8.38383838\n",
      "  8.48484848  8.58585859  8.68686869  8.78787879  8.88888889  8.98989899\n",
      "  9.09090909  9.19191919  9.29292929  9.39393939  9.49494949  9.5959596\n",
      "  9.6969697   9.7979798   9.8989899  10.        ] \n",
      "\n"
     ]
    }
   ],
   "source": [
    "a = np.arange(0, 30, 3) # for i in range(0,30,3)\n",
    "print(\"Vector con los enteros del 0 al 30 enumerados espaciados con un valor de 3 entre ellos:\\n\", a, \"\\n\")\n",
    "\n",
    "\n",
    "b = np.linspace(0, 10, 100) \n",
    "print(\"Vector con 100 elementos linealmente espaciados entre 0 y 10: \\n\", b, \"\\n\")"
   ]
  },
  {
   "cell_type": "markdown",
   "id": "fe37fa2b",
   "metadata": {},
   "source": [
    "Arreglos con permutaciones aleatorios de enteros del 1 al 9:"
   ]
  },
  {
   "cell_type": "code",
   "execution_count": 60,
   "id": "da8f1076",
   "metadata": {},
   "outputs": [
    {
     "name": "stdout",
     "output_type": "stream",
     "text": [
      "[1 6 3 0 5 4 9 2 8 7]\n"
     ]
    }
   ],
   "source": [
    "a = np.random.permutation(np.arange(10))\n",
    "print(a)"
   ]
  },
  {
   "cell_type": "markdown",
   "id": "3e4631b5",
   "metadata": {},
   "source": [
    "Vector con 1000 elementos de valores aleatorios entre 0 y 1:"
   ]
  },
  {
   "cell_type": "code",
   "execution_count": 8,
   "id": "fc6e5e33",
   "metadata": {},
   "outputs": [
    {
     "name": "stdout",
     "output_type": "stream",
     "text": [
      "[0.11990648 0.1466002  0.41881182 0.33591723 0.61012552 0.66689372\n",
      " 0.21543401 0.69577257 0.57286595 0.64931999 0.10544679 0.30004141\n",
      " 0.20686484 0.14858552 0.27969226 0.2801504  0.31172752 0.87458272\n",
      " 0.46626325 0.39579983 0.347351   0.33023079 0.63102224 0.62226601\n",
      " 0.43946118 0.02728847 0.30655019 0.38741728 0.40837193 0.8768767\n",
      " 0.95402966 0.29335888 0.47396016 0.51328221 0.77266466 0.85610727\n",
      " 0.84473138 0.85574149 0.92517042 0.96278251 0.55013241 0.69630152\n",
      " 0.80618822 0.31902156 0.57056527 0.31070622 0.81577283 0.6358499\n",
      " 0.98677958 0.17851124 0.4738832  0.47334979 0.08712882 0.97573199\n",
      " 0.51919855 0.42689912 0.35949046 0.37016925 0.78574045 0.38759456\n",
      " 0.41391608 0.07195028 0.97700599 0.18331277 0.6909122  0.21797781\n",
      " 0.87486716 0.6153945  0.91418747 0.73426492 0.6364053  0.59505723\n",
      " 0.66670867 0.23267549 0.38625476 0.45970418 0.84444096 0.63871052\n",
      " 0.48292741 0.37281874 0.0593939  0.30935947 0.10370857 0.10286107\n",
      " 0.96885954 0.89619639 0.21275355 0.7773755  0.13300888 0.73171338\n",
      " 0.43864424 0.87612429 0.04540625 0.09788644 0.93337235 0.71281196\n",
      " 0.32661474 0.20498006 0.69846441 0.0970007  0.60386036 0.18583681\n",
      " 0.12496823 0.12842112 0.25450315 0.76184546 0.41661671 0.33283082\n",
      " 0.42129696 0.68855141 0.78245658 0.42237961 0.68904003 0.04860653\n",
      " 0.27977911 0.97127315 0.49330654 0.52269593 0.17987508 0.68589575\n",
      " 0.99806247 0.31294606 0.3719075  0.54066048 0.8617997  0.52232162\n",
      " 0.09184991 0.7278889  0.06211188 0.11620253 0.53198106 0.1331077\n",
      " 0.40408548 0.47004011 0.81033373 0.11112082 0.86573689 0.02935853\n",
      " 0.12591305 0.31672515 0.24614821 0.09813512 0.19870839 0.48905311\n",
      " 0.47147571 0.58371503 0.53393617 0.46595147 0.38783307 0.58175431]\n"
     ]
    }
   ],
   "source": [
    "a = np.random.rand(150) # La distribución de este vector es uniforme. Se puede usar *np.random.randn* para distribución normal\n",
    "print(a)"
   ]
  },
  {
   "cell_type": "markdown",
   "id": "6bf668c2",
   "metadata": {},
   "source": [
    "### Modificación de la forma de arreglos\n",
    "En muchos casos es conveniente por razones de eficiencia aplicar operaciones sobre vectores en lugar que hacerlo sobre matrices. En esos casos Numpy permite cambiar las dimensiones de los arreglos con la función *reshape*.\n",
    "Esta función devuelve una vista del arreglo original, no una copia de su contenido.\n",
    "\n",
    "Por ejemplo se puede cambiar la estructura de un arreglo 1D de 100 elementos a uno 2D de 20 x 5: "
   ]
  },
  {
   "cell_type": "code",
   "execution_count": 15,
   "id": "ca1a7b50",
   "metadata": {},
   "outputs": [
    {
     "data": {
      "text/plain": [
       "(20, 5)"
      ]
     },
     "execution_count": 15,
     "metadata": {},
     "output_type": "execute_result"
    }
   ],
   "source": [
    "a = np.arange(100)\n",
    "B = a.reshape(20,5)\n",
    "B.shape"
   ]
  },
  {
   "cell_type": "markdown",
   "id": "976f54c6",
   "metadata": {},
   "source": [
    "Y se puede convertir una matriz, aunque se desconozca sus dimensiones a un vector 1D, operación que se llama aplanado o *flattening* haciendo: "
   ]
  },
  {
   "cell_type": "code",
   "execution_count": 18,
   "id": "119df8cf",
   "metadata": {},
   "outputs": [
    {
     "data": {
      "text/plain": [
       "(100,)"
      ]
     },
     "execution_count": 18,
     "metadata": {},
     "output_type": "execute_result"
    }
   ],
   "source": [
    "c = B.reshape(-1) \n",
    "c.shape\n"
   ]
  },
  {
   "cell_type": "markdown",
   "id": "eea11215",
   "metadata": {},
   "source": [
    "## Indexado y recortes"
   ]
  },
  {
   "cell_type": "markdown",
   "id": "bf312e42",
   "metadata": {},
   "source": [
    "El indexado y recorte de subconjuntos de arreglos en Numpy es similar al estándar de Python. Una de las principales diferencias es que al asignar un segmento de un array en Numpy a otra variable, en realidad se opera sobre una vista en memoria de esos elementos, no se copian esos valores como se hace en listas ordinarias de Python:"
   ]
  },
  {
   "cell_type": "code",
   "execution_count": 21,
   "id": "e43b3b35",
   "metadata": {},
   "outputs": [
    {
     "name": "stdout",
     "output_type": "stream",
     "text": [
      "[3 4 5 6 7 8 9]\n",
      "[-99   4   5   6   7   8   9]\n",
      "[  0   1   2 -99   4   5   6   7   8   9  10  11  12  13  14  15  16  17\n",
      "  18  19  20  21  22  23  24  25  26  27  28  29  30  31  32  33  34  35\n",
      "  36  37  38  39  40  41  42  43  44  45  46  47  48  49  50  51  52  53\n",
      "  54  55  56  57  58  59  60  61  62  63  64  65  66  67  68  69  70  71\n",
      "  72  73  74  75  76  77  78  79  80  81  82  83  84  85  86  87  88  89\n",
      "  90  91  92  93  94  95  96  97  98  99]\n"
     ]
    }
   ],
   "source": [
    "a = np.arange(100)\n",
    "b = a[3:10]\n",
    "print(b)\n",
    "\n",
    "b[0] = -99\n",
    "print(b)\n",
    "\n",
    "print(a)"
   ]
  },
  {
   "cell_type": "markdown",
   "id": "80f8cb79",
   "metadata": {},
   "source": [
    "Para forzar una copia se puede hacer:"
   ]
  },
  {
   "cell_type": "code",
   "execution_count": 25,
   "id": "ab95c5b8",
   "metadata": {},
   "outputs": [
    {
     "name": "stdout",
     "output_type": "stream",
     "text": [
      "[3 4 5 6 7 8 9]\n",
      "[-99   4   5   6   7   8   9]\n",
      "[ 0  1  2  3  4  5  6  7  8  9 10 11 12 13 14 15 16 17 18 19 20 21 22 23\n",
      " 24 25 26 27 28 29 30 31 32 33 34 35 36 37 38 39 40 41 42 43 44 45 46 47\n",
      " 48 49 50 51 52 53 54 55 56 57 58 59 60 61 62 63 64 65 66 67 68 69 70 71\n",
      " 72 73 74 75 76 77 78 79 80 81 82 83 84 85 86 87 88 89 90 91 92 93 94 95\n",
      " 96 97 98 99]\n"
     ]
    }
   ],
   "source": [
    "a = np.arange(100)\n",
    "b = a[3:10].copy()\n",
    "print(b)\n",
    "\n",
    "b[0] = -99\n",
    "print(b)\n",
    "\n",
    "print(a)"
   ]
  },
  {
   "cell_type": "markdown",
   "id": "364b57af",
   "metadata": {},
   "source": [
    "### Indexado\n",
    "A continuación se muestran algunas operaciones de indexado básicas:"
   ]
  },
  {
   "cell_type": "code",
   "execution_count": 27,
   "id": "62fedd17",
   "metadata": {},
   "outputs": [
    {
     "data": {
      "text/plain": [
       "array([ 0,  2,  4,  6,  8, 10, 12, 14, 16, 18, 20, 22, 24, 26, 28, 30, 32,\n",
       "       34, 36, 38, 40, 42, 44, 46, 48, 50, 52, 54, 56, 58, 60, 62, 64, 66,\n",
       "       68, 70, 72, 74, 76, 78, 80, 82, 84, 86, 88, 90, 92, 94, 96, 98])"
      ]
     },
     "execution_count": 27,
     "metadata": {},
     "output_type": "execute_result"
    }
   ],
   "source": [
    "a[1:5]     # índices de 1 a 4"
   ]
  },
  {
   "cell_type": "code",
   "execution_count": 28,
   "id": "50a4c70f",
   "metadata": {},
   "outputs": [
    {
     "data": {
      "text/plain": [
       "array([ 0,  2,  4,  6,  8, 10, 12, 14, 16, 18, 20, 22, 24, 26, 28, 30, 32,\n",
       "       34, 36, 38, 40, 42, 44, 46, 48, 50, 52, 54, 56, 58, 60, 62, 64, 66,\n",
       "       68, 70, 72, 74, 76, 78, 80, 82, 84, 86, 88, 90, 92, 94, 96, 98])"
      ]
     },
     "execution_count": 28,
     "metadata": {},
     "output_type": "execute_result"
    }
   ],
   "source": [
    "a[:5]      # índices de 0 a 4"
   ]
  },
  {
   "cell_type": "code",
   "execution_count": 29,
   "id": "6149be83",
   "metadata": {},
   "outputs": [
    {
     "data": {
      "text/plain": [
       "array([ 2,  3,  4,  5,  6,  7,  8,  9, 10, 11, 12, 13, 14, 15, 16, 17, 18,\n",
       "       19, 20, 21, 22, 23, 24, 25, 26, 27, 28, 29, 30, 31, 32, 33, 34, 35,\n",
       "       36, 37, 38, 39, 40, 41, 42, 43, 44, 45, 46, 47, 48, 49, 50, 51, 52,\n",
       "       53, 54, 55, 56, 57, 58, 59, 60, 61, 62, 63, 64, 65, 66, 67, 68, 69,\n",
       "       70, 71, 72, 73, 74, 75, 76, 77, 78, 79, 80, 81, 82, 83, 84, 85, 86,\n",
       "       87, 88, 89, 90, 91, 92, 93, 94, 95, 96, 97, 98, 99])"
      ]
     },
     "execution_count": 29,
     "metadata": {},
     "output_type": "execute_result"
    }
   ],
   "source": [
    "a[2:]      # índices del 2 hasta el último elemento"
   ]
  },
  {
   "cell_type": "code",
   "execution_count": 30,
   "id": "05a58add",
   "metadata": {},
   "outputs": [
    {
     "data": {
      "text/plain": [
       "array([99, 98, 97, 96, 95, 94, 93, 92, 91, 90, 89, 88, 87, 86, 85, 84, 83,\n",
       "       82, 81, 80, 79, 78, 77, 76, 75, 74, 73, 72, 71, 70, 69, 68, 67, 66,\n",
       "       65, 64, 63, 62, 61, 60, 59, 58, 57, 56, 55, 54, 53, 52, 51, 50, 49,\n",
       "       48, 47, 46, 45, 44, 43, 42, 41, 40, 39, 38, 37, 36, 35, 34, 33, 32,\n",
       "       31, 30, 29, 28, 27, 26, 25, 24, 23, 22, 21, 20, 19, 18, 17, 16, 15,\n",
       "       14, 13, 12, 11, 10,  9,  8,  7,  6,  5,  4,  3,  2,  1,  0])"
      ]
     },
     "execution_count": 30,
     "metadata": {},
     "output_type": "execute_result"
    }
   ],
   "source": [
    "a[::-1]    # reversión del arreglo"
   ]
  },
  {
   "cell_type": "code",
   "execution_count": 31,
   "id": "b4dbcee0",
   "metadata": {},
   "outputs": [
    {
     "data": {
      "text/plain": [
       "array([ 0,  2,  4,  6,  8, 10, 12, 14, 16, 18, 20, 22, 24, 26, 28, 30, 32,\n",
       "       34, 36, 38, 40, 42, 44, 46, 48, 50, 52, 54, 56, 58, 60, 62, 64, 66,\n",
       "       68, 70, 72, 74, 76, 78, 80, 82, 84, 86, 88, 90, 92, 94, 96, 98])"
      ]
     },
     "execution_count": 31,
     "metadata": {},
     "output_type": "execute_result"
    }
   ],
   "source": [
    "a[::2]     # índices desde el inicio al final salteando de a dos"
   ]
  },
  {
   "cell_type": "markdown",
   "id": "c06eccf3",
   "metadata": {},
   "source": [
    "Selección de filas o columnas completas:"
   ]
  },
  {
   "cell_type": "code",
   "execution_count": 37,
   "id": "1205f643",
   "metadata": {},
   "outputs": [
    {
     "data": {
      "text/plain": [
       "array([[ 7.,  6.,  2.,  0.],\n",
       "       [ 2.,  1.,  7.,  7.],\n",
       "       [10.,  2.,  8.,  7.],\n",
       "       [ 0.,  9.,  5.,  1.],\n",
       "       [ 5.,  1.,  8.,  4.]])"
      ]
     },
     "execution_count": 37,
     "metadata": {},
     "output_type": "execute_result"
    }
   ],
   "source": [
    "A = np.round(10*np.random.rand(5,4))\n",
    "A "
   ]
  },
  {
   "cell_type": "markdown",
   "id": "a1ff4a82",
   "metadata": {},
   "source": [
    "Selección de la segunda fila completa"
   ]
  },
  {
   "cell_type": "code",
   "execution_count": 38,
   "id": "394ee869",
   "metadata": {},
   "outputs": [
    {
     "data": {
      "text/plain": [
       "array([2., 1., 7., 7.])"
      ]
     },
     "execution_count": 38,
     "metadata": {},
     "output_type": "execute_result"
    }
   ],
   "source": [
    "A[1,:]"
   ]
  },
  {
   "cell_type": "markdown",
   "id": "295033ff",
   "metadata": {},
   "source": [
    "Selección de la tercera columna completa:"
   ]
  },
  {
   "cell_type": "code",
   "execution_count": 39,
   "id": "781b9c29",
   "metadata": {},
   "outputs": [
    {
     "data": {
      "text/plain": [
       "array([2., 7., 8., 5., 8.])"
      ]
     },
     "execution_count": 39,
     "metadata": {},
     "output_type": "execute_result"
    }
   ],
   "source": [
    "A[:,2]    # Selección de la segunda fila completa"
   ]
  },
  {
   "cell_type": "markdown",
   "id": "350848d2",
   "metadata": {},
   "source": [
    "Selección de las filas 2 y 3 y de esas las columnas 3 y 4"
   ]
  },
  {
   "cell_type": "code",
   "execution_count": 40,
   "id": "686b60c0",
   "metadata": {},
   "outputs": [
    {
     "data": {
      "text/plain": [
       "array([[7., 7.],\n",
       "       [8., 7.]])"
      ]
     },
     "execution_count": 40,
     "metadata": {},
     "output_type": "execute_result"
    }
   ],
   "source": [
    "A[1:3,2:4]"
   ]
  },
  {
   "cell_type": "markdown",
   "id": "6db562c5",
   "metadata": {},
   "source": [
    "También es posible indexar usando máscaras de índices. Esta alternativa es muy usada cuando se quiere elegir elementos que satisfagan cierta condición. El slicing por máscaras devuelve es una copia y no una vista de memoria."
   ]
  },
  {
   "cell_type": "code",
   "execution_count": 46,
   "id": "71fa100c",
   "metadata": {},
   "outputs": [
    {
     "data": {
      "text/plain": [
       "array([ 0,  1,  2,  3,  4,  5,  6,  7,  8,  9, 10, 11, 12, 13, 14, 15, 16,\n",
       "       17, 18, 19, 20, 21, 22, 23, 24, 25, 26, 27, 28, 29, 30, 31, 32, 33,\n",
       "       34, 35, 36, 37, 38, 39, 40, 41, 42, 43, 44, 45, 46, 47, 48, 49, 50,\n",
       "       51, 52, 53, 54, 55, 56, 57, 58, 59, 60, 61, 62, 63, 64, 65, 66, 67,\n",
       "       68, 69, 70, 71, 72, 73, 74, 75, 76, 77, 78, 79, 80, 81, 82, 83, 84,\n",
       "       85, 86, 87, 88, 89, 90, 91, 92, 93, 94, 95, 96, 97, 98, 99])"
      ]
     },
     "execution_count": 46,
     "metadata": {},
     "output_type": "execute_result"
    }
   ],
   "source": [
    "a = np.arange(100)\n",
    "b = a[[3,5,6]]\n",
    "b[0] = -99\n",
    "a"
   ]
  },
  {
   "cell_type": "markdown",
   "id": "3f751d10",
   "metadata": {},
   "source": [
    "Este mismo tipo de indexado se puede emplear con condiciones lógicas de la sigueinte manera:"
   ]
  },
  {
   "cell_type": "code",
   "execution_count": 48,
   "id": "4b801d67",
   "metadata": {},
   "outputs": [
    {
     "data": {
      "text/plain": [
       "array([ 0,  1,  2,  3,  4,  5,  6,  7,  8,  9, 10, 11, 12, 13, 14, 15, 16,\n",
       "       17, 18, 19])"
      ]
     },
     "execution_count": 48,
     "metadata": {},
     "output_type": "execute_result"
    }
   ],
   "source": [
    "b = a[a<20]\n",
    "b"
   ]
  },
  {
   "cell_type": "code",
   "execution_count": 49,
   "id": "3ee970fa",
   "metadata": {},
   "outputs": [
    {
     "data": {
      "text/plain": [
       "array([31, 32, 33, 34, 35, 36, 37, 38, 39])"
      ]
     },
     "execution_count": 49,
     "metadata": {},
     "output_type": "execute_result"
    }
   ],
   "source": [
    "b = a[(a<40) & (a>30)]\n",
    "b"
   ]
  },
  {
   "cell_type": "markdown",
   "id": "d0f0bd0f",
   "metadata": {},
   "source": [
    "### Ordenamiento de datos\n",
    "Es posible usar la función de Numpy *sort* para ordenar los datos de una matriz por columnas:"
   ]
  },
  {
   "cell_type": "code",
   "execution_count": 42,
   "id": "871b2adf",
   "metadata": {},
   "outputs": [
    {
     "data": {
      "text/plain": [
       "array([[ 0.,  1.,  2.,  0.],\n",
       "       [ 2.,  1.,  5.,  1.],\n",
       "       [ 5.,  2.,  7.,  4.],\n",
       "       [ 7.,  6.,  8.,  7.],\n",
       "       [10.,  9.,  8.,  7.]])"
      ]
     },
     "execution_count": 42,
     "metadata": {},
     "output_type": "execute_result"
    }
   ],
   "source": [
    "A.sort(axis=0)\n",
    "A"
   ]
  },
  {
   "cell_type": "markdown",
   "id": "2bdbd8e3",
   "metadata": {},
   "source": [
    "O por filas:"
   ]
  },
  {
   "cell_type": "code",
   "execution_count": 43,
   "id": "d46d96ee",
   "metadata": {},
   "outputs": [
    {
     "data": {
      "text/plain": [
       "array([[ 0.,  0.,  1.,  2.],\n",
       "       [ 1.,  1.,  2.,  5.],\n",
       "       [ 2.,  4.,  5.,  7.],\n",
       "       [ 6.,  7.,  7.,  8.],\n",
       "       [ 7.,  8.,  9., 10.]])"
      ]
     },
     "execution_count": 43,
     "metadata": {},
     "output_type": "execute_result"
    }
   ],
   "source": [
    "A.sort(axis=1)\n",
    "A"
   ]
  },
  {
   "cell_type": "markdown",
   "id": "a1212306",
   "metadata": {},
   "source": [
    "### Transmisión de matrices (Broadcasting)\n",
    "La transmisión de matrices es un mecanismo que permite a Numpy operar aritméticamente sobre arreglos de diferentes tamaños. Una situación común es cuando se quiere realizar una operación que aplica un vector más pequeño múltiples veces sobre otro otro vector más grande.\n",
    "\n",
    "Por ejemplo, sumar un vector constante a cada fila de una matriz. Podríamos hacerlo así:"
   ]
  },
  {
   "cell_type": "code",
   "execution_count": 53,
   "id": "a5e59df8",
   "metadata": {},
   "outputs": [
    {
     "name": "stdout",
     "output_type": "stream",
     "text": [
      "[[ 2  2  4]\n",
      " [ 5  5  7]\n",
      " [ 8  8 10]\n",
      " [11 11 13]]\n"
     ]
    }
   ],
   "source": [
    "a = np.array([[1,2,3], [4,5,6], [7,8,9], [10, 11, 12]])\n",
    "b = np.array([1, 0, 1])\n",
    "y = np.empty_like(a)   # Crea una matriz vacía del tamaño de a\n",
    "\n",
    "# Sumar el vector b a cada fila de a:\n",
    "for i in range(4):\n",
    "    y[i, :] = a[i, :] + b\n",
    "\n",
    "print (y)"
   ]
  },
  {
   "cell_type": "markdown",
   "id": "19fc075c",
   "metadata": {},
   "source": [
    "Si bien ese procedimiento funciona, cuando la matriz *a* es muy grande, calcular un bucle explícito en Python sería muy lento. Otra opción sería hacer múltiples copias para llevar a b al tamaño de a:"
   ]
  },
  {
   "cell_type": "code",
   "execution_count": 55,
   "id": "8b5de53d",
   "metadata": {},
   "outputs": [
    {
     "name": "stdout",
     "output_type": "stream",
     "text": [
      "[[1 0 1]\n",
      " [1 0 1]\n",
      " [1 0 1]\n",
      " [1 0 1]]\n",
      "[[ 2  2  4]\n",
      " [ 5  5  7]\n",
      " [ 8  8 10]\n",
      " [11 11 13]]\n"
     ]
    }
   ],
   "source": [
    "bb = np.tile(b, (4, 1))  # Apila 4 copias of b una arriba de la otra\n",
    "print (bb)\n",
    "\n",
    "y = a + bb\n",
    "print (y)"
   ]
  },
  {
   "cell_type": "markdown",
   "id": "fec75d9d",
   "metadata": {},
   "source": [
    "El mecanismo de *broadcasting* o transmisión de Numpy permite hacer algo parecido a lo anterior pero sin la necesidad de crear esa versión con múltiples copias de b:"
   ]
  },
  {
   "cell_type": "code",
   "execution_count": 56,
   "id": "54b5fdf0",
   "metadata": {},
   "outputs": [
    {
     "name": "stdout",
     "output_type": "stream",
     "text": [
      "[[ 2  2  4]\n",
      " [ 5  5  7]\n",
      " [ 8  8 10]\n",
      " [11 11 13]]\n"
     ]
    }
   ],
   "source": [
    "y = a + b\n",
    "print (y)"
   ]
  },
  {
   "cell_type": "markdown",
   "id": "cef78ab1",
   "metadata": {},
   "source": [
    "### Velocidad de procesamiento\n",
    "A continuación veremos una comparación de velocidades de ejecución de una operación de suma de 1 millón de elementos usando la función de suma estándar de Python, y su contraparte de Numpy: "
   ]
  },
  {
   "cell_type": "code",
   "execution_count": 50,
   "id": "b9e75977",
   "metadata": {},
   "outputs": [
    {
     "name": "stdout",
     "output_type": "stream",
     "text": [
      "61.5 ms ± 80.9 µs per loop (mean ± std. dev. of 7 runs, 10 loops each)\n",
      "572 µs ± 25.4 µs per loop (mean ± std. dev. of 7 runs, 1000 loops each)\n"
     ]
    }
   ],
   "source": [
    "b = np.random.rand(1000000)\n",
    "%timeit sum(b)\n",
    "%timeit np.sum(b)  # B.sum()"
   ]
  },
  {
   "cell_type": "markdown",
   "id": "3d3183e6",
   "metadata": {},
   "source": [
    "\n",
    "\n",
    "## <span style=\"color:CornflowerBlue\">**SciPy**</span>\n",
    "[SciPy](https://scipy.org/) (**Sci**-entific **Py**-thon) es la biblioteca estándar de cálculo científico de Python.\n",
    "Contiene módulos para optimización, álgebra lineal, integración, interpolación, funciones especiales, FFT, procesamiento de señales e imágenes, solucionadores de ODE y otras tareas comunes en ciencia e ingeniería \n",
    "\n",
    "<img src=\"https://upload.wikimedia.org/wikipedia/commons/b/b2/SCIPY_2.svg\" width = 300>"
   ]
  },
  {
   "cell_type": "markdown",
   "id": "f0099e6a",
   "metadata": {},
   "source": [
    "SciPy se basa y construye a partir de las herramientas para calcular y manipular matrices multidimensionales de manera eficiente que brinda Numpy. Proporciona un gran número de funciones que operan en matrices numpy."
   ]
  },
  {
   "cell_type": "markdown",
   "id": "78bdc368",
   "metadata": {},
   "source": [
    "## Inicio\n",
    "\n",
    "El primer requisito, para trabajar con esta bibliotecas es importarla:"
   ]
  },
  {
   "cell_type": "code",
   "execution_count": 5,
   "id": "07a8b6c5",
   "metadata": {},
   "outputs": [],
   "source": [
    "import scipy as sp"
   ]
  },
  {
   "cell_type": "markdown",
   "id": "85e6871f",
   "metadata": {},
   "source": [
    "## Contenido de SciPy\n",
    "Actualmente SciPy contiene 15 sub paquetes que se pueden importar independientemente y tienen diferentes utilidades:\n",
    "\n",
    "* [cluster:](https://docs.scipy.org/doc/scipy/reference/cluster.html#module-scipy.cluster) contiene implementaciones para algoritmos de agrupaciones o clustering\n",
    "* [constants:](https://docs.scipy.org/doc/scipy/reference/constants.html#module-scipy.constants) contiene la definición de varias constantes matemáticas y físicas\n",
    "* [fft:](https://docs.scipy.org/doc/scipy/reference/fft.html#module-scipy.fft) implementa varias transformaciones como Transformada Rápida de Fourier, Transformaciones Discretas Seno y Coseno, Transformación Rápida de Hankel\n",
    "* [integrate:](https://docs.scipy.org/doc/scipy/reference/integrate.html#module-scipy.integrate) funciones de integration y para resolver ecuaciones diferenciales ordinarias\n",
    "* [interpolate:](https://docs.scipy.org/doc/scipy/reference/interpolate.html#module-scipy.interpolate) contiene varias alternativas para interpolación de datos\n",
    "* [io:](https://docs.scipy.org/doc/scipy/reference/io.html#module-scipy.io) contiene módulos para leer y escribir diferentes tipos de archivos\n",
    "* [linalg:](https://docs.scipy.org/doc/scipy/reference/linalg.html#module-scipy.linalg) módulos de álgebra lineal\n",
    "* [ndimage:](https://docs.scipy.org/doc/scipy/reference/ndimage.html#module-scipy.ndimage) funciones para el procesamiento de imágenes multidimensionales\n",
    "* [odr:](https://docs.scipy.org/doc/scipy/reference/odr.html#module-scipy.odr) implementación de regresión de distancia ortogonal\n",
    "* [optimize:](https://docs.scipy.org/doc/scipy/reference/optimize.html#module-scipy.optimize) funciones para minimizar funciones objetivo\n",
    "* [signal:](https://docs.scipy.org/doc/scipy/reference/signal.html#module-scipy.signal) funciones para el procesamiento de señales\n",
    "* [sparse:](https://docs.scipy.org/doc/scipy/reference/sparse.html#module-scipy.sparse) funciones para operar numéricamente con matrices 2-D esparsas\n",
    "* [spatial:](https://docs.scipy.org/doc/scipy/reference/spatial.html#module-scipy.spatial) algoritmos y estructuras de datos espaciales\n",
    "* [special:](https://docs.scipy.org/doc/scipy/tutorial/special.html) implementa varias funciones matemáticas: airy, bessel, beta, hypergeometric, mathieu y kelvin\n",
    "* [stats:](https://docs.scipy.org/doc/scipy/reference/stats.html#module-scipy.stats) varias funciones para cálculos estadísticos y de correlaciones\n"
   ]
  },
  {
   "cell_type": "markdown",
   "id": "a8c807a9",
   "metadata": {},
   "source": [
    "### Interpolación\n",
    "Una de las funcionalidades interesantes para trabajar con datos es la interpolación. Supongamos que tenemos muestras de una función coseno:"
   ]
  },
  {
   "cell_type": "code",
   "execution_count": 9,
   "id": "c76f8c12",
   "metadata": {},
   "outputs": [
    {
     "data": {
      "image/png": "[encoded data removed]",
      "text/plain": [
       "<Figure size 432x288 with 1 Axes>"
      ]
     },
     "metadata": {
      "needs_background": "light"
     },
     "output_type": "display_data"
    }
   ],
   "source": [
    "import numpy as np  \n",
    "import matplotlib.pyplot as plt  \n",
    "x = np.linspace(0, 5, 10)  \n",
    "y = np.cos(x**2/3+4) \n",
    "plt.scatter(x,y,c='r')  \n",
    "plt.show()"
   ]
  },
  {
   "cell_type": "markdown",
   "id": "176c4aad",
   "metadata": {},
   "source": [
    "Y que queremos interpolar estos puntos. Eso se puede hacer con el subpaquete *interpolate*:"
   ]
  },
  {
   "cell_type": "code",
   "execution_count": 10,
   "id": "50305ca2",
   "metadata": {},
   "outputs": [
    {
     "data": {
      "image/png": "[encoded data removed]",
      "text/plain": [
       "<Figure size 432x288 with 1 Axes>"
      ]
     },
     "metadata": {
      "needs_background": "light"
     },
     "output_type": "display_data"
    }
   ],
   "source": [
    "from scipy import interpolate\n",
    "\n",
    "fun1 = interpolate.interp1d(x, y,kind = 'linear')  \n",
    "fun2 = interpolate.interp1d(x, y, kind = 'cubic')  \n",
    "#we define a new set of input\n",
    "xnew = np.linspace(0, 4,30)  \n",
    "plt.plot(x, y, 'o', xnew, fun1(xnew), '-', xnew, fun2(xnew), '--')  \n",
    "plt.legend(['data', 'linear', 'cubic','nearest'], loc = 'best')  \n",
    "plt.show()"
   ]
  },
  {
   "cell_type": "markdown",
   "id": "8237a030",
   "metadata": {},
   "source": [
    "\n",
    "\n",
    "## <span style=\"color:CornflowerBlue\">**Pandas**</span>\n",
    "\n",
    "[Pandas](https://pandas.pydata.org) es una biblioteca muy popular para manipulación de datos. Permite sistematizar mediante funciones la conversión de un archivo en los tipos de datos que Python maneja.\n",
    "\n",
    "<img src=\"https://upload.wikimedia.org/wikipedia/commons/thumb/e/ed/Pandas_logo.svg/1200px-Pandas_logo.svg.png\" width=600px>"
   ]
  },
  {
   "cell_type": "markdown",
   "id": "598b3af3",
   "metadata": {},
   "source": [
    "## Inicio\n",
    "\n",
    "El primer requisito, como con las demás bibliotecas es su importación"
   ]
  },
  {
   "cell_type": "code",
   "execution_count": 1,
   "id": "c9f199cd",
   "metadata": {},
   "outputs": [],
   "source": [
    "import pandas as pd"
   ]
  },
  {
   "cell_type": "markdown",
   "id": "92325db5",
   "metadata": {},
   "source": [
    "## Creación de datos\n",
    "\n",
    "Esta biblioteca tiene dos objetos básicos: **DataFrames** y **Series**\n",
    "\n",
    "### DataFrames\n",
    "Se puede ver a un DataFrame como una estructura tabular.\n",
    "\n",
    "La carga manual de DataFrames se puede hacer de la siguiente forma:"
   ]
  },
  {
   "cell_type": "code",
   "execution_count": 2,
   "id": "80384378",
   "metadata": {},
   "outputs": [
    {
     "data": {
      "text/html": [
       "<div>\n",
       "<style scoped>\n",
       "    .dataframe tbody tr th:only-of-type {\n",
       "        vertical-align: middle;\n",
       "    }\n",
       "\n",
       "    .dataframe tbody tr th {\n",
       "        vertical-align: top;\n",
       "    }\n",
       "\n",
       "    .dataframe thead th {\n",
       "        text-align: right;\n",
       "    }\n",
       "</style>\n",
       "<table border=\"1\" class=\"dataframe\">\n",
       "  <thead>\n",
       "    <tr style=\"text-align: right;\">\n",
       "      <th></th>\n",
       "      <th>Si</th>\n",
       "      <th>No</th>\n",
       "    </tr>\n",
       "  </thead>\n",
       "  <tbody>\n",
       "    <tr>\n",
       "      <th>0</th>\n",
       "      <td>50</td>\n",
       "      <td>131</td>\n",
       "    </tr>\n",
       "    <tr>\n",
       "      <th>1</th>\n",
       "      <td>21</td>\n",
       "      <td>142</td>\n",
       "    </tr>\n",
       "  </tbody>\n",
       "</table>\n",
       "</div>"
      ],
      "text/plain": [
       "   Si   No\n",
       "0  50  131\n",
       "1  21  142"
      ]
     },
     "execution_count": 2,
     "metadata": {},
     "output_type": "execute_result"
    }
   ],
   "source": [
    "pd.DataFrame({'Si': [50, 21], 'No': [131, 142]})"
   ]
  },
  {
   "cell_type": "markdown",
   "id": "8dd9fea7",
   "metadata": {},
   "source": [
    "En ese ejemplo se puede ver que se ingresan los datos por columnas. La sintaxis involucra un diccionario Python cuyas \"claves\" son los nombres de las columnas (*Si* y *No* en este ejemplo), y cuyos \"valores\" se especifican con una lista. \n",
    "\n",
    "Si bien en el ejemplo los elementos son de tipo *int*, la estructura admite otros tipos de datos (*float*, *str*, etc.)\n",
    "\n",
    "\n",
    "Las etiquetas que se muestran como nombre de la filas también se pueden elegir. En el caso que no se especifiquen esos nombres, como en el ejemplo anterior, el constructor asigna por defecto un valor entero ascendente desde 0 (0, 1, 2, 3, ...).\n",
    "\n",
    "La lista de etiquetas para los nombres de las filas utilizadas en un DataFrame se conoce como Índice. Podemos asignarle valores usando un parámetro de índice en el constructor: "
   ]
  },
  {
   "cell_type": "code",
   "execution_count": 3,
   "id": "45626ddf",
   "metadata": {},
   "outputs": [
    {
     "data": {
      "text/html": [
       "<div>\n",
       "<style scoped>\n",
       "    .dataframe tbody tr th:only-of-type {\n",
       "        vertical-align: middle;\n",
       "    }\n",
       "\n",
       "    .dataframe tbody tr th {\n",
       "        vertical-align: top;\n",
       "    }\n",
       "\n",
       "    .dataframe thead th {\n",
       "        text-align: right;\n",
       "    }\n",
       "</style>\n",
       "<table border=\"1\" class=\"dataframe\">\n",
       "  <thead>\n",
       "    <tr style=\"text-align: right;\">\n",
       "      <th></th>\n",
       "      <th>Edad</th>\n",
       "      <th>Peso</th>\n",
       "    </tr>\n",
       "  </thead>\n",
       "  <tbody>\n",
       "    <tr>\n",
       "      <th>Paciente A</th>\n",
       "      <td>Joven</td>\n",
       "      <td>62</td>\n",
       "    </tr>\n",
       "    <tr>\n",
       "      <th>Paciente B</th>\n",
       "      <td>Anciano</td>\n",
       "      <td>58</td>\n",
       "    </tr>\n",
       "  </tbody>\n",
       "</table>\n",
       "</div>"
      ],
      "text/plain": [
       "               Edad  Peso\n",
       "Paciente A    Joven    62\n",
       "Paciente B  Anciano    58"
      ]
     },
     "execution_count": 3,
     "metadata": {},
     "output_type": "execute_result"
    }
   ],
   "source": [
    "pd.DataFrame({'Edad': ['Joven', 'Anciano'], \n",
    "              'Peso': [62, 58]},\n",
    "             index=['Paciente A', 'Paciente B'])"
   ]
  },
  {
   "cell_type": "markdown",
   "id": "476d08b7",
   "metadata": {},
   "source": [
    "### Series\n",
    "Si un DataFrame es una tabla, una Serie es una lista. Y de hecho se puede crear una con una lista: "
   ]
  },
  {
   "cell_type": "code",
   "execution_count": 4,
   "id": "b452ca5e",
   "metadata": {},
   "outputs": [
    {
     "data": {
      "text/plain": [
       "0    1\n",
       "1    2\n",
       "2    3\n",
       "3    4\n",
       "4    5\n",
       "dtype: int64"
      ]
     },
     "execution_count": 4,
     "metadata": {},
     "output_type": "execute_result"
    }
   ],
   "source": [
    "pd.Series([1, 2, 3, 4, 5])"
   ]
  },
  {
   "cell_type": "markdown",
   "id": "99b49a5f",
   "metadata": {},
   "source": [
    "Una Serie es, en esencia, una sola columna de un DataFrame. Por lo tanto se puede asignar etiquetas de fila de la misma manera que antes, usando el parámetro de índice. Una serie no tiene un nombre de columna, solo tiene un nombre general: "
   ]
  },
  {
   "cell_type": "code",
   "execution_count": 5,
   "id": "051f794c",
   "metadata": {},
   "outputs": [
    {
     "data": {
      "text/plain": [
       "Paciente A    30\n",
       "Paciente B    35\n",
       "Paciente C    40\n",
       "Name: Pacientes, dtype: int64"
      ]
     },
     "execution_count": 5,
     "metadata": {},
     "output_type": "execute_result"
    }
   ],
   "source": [
    "pd.Series([30, 35, 40], index=['Paciente A', 'Paciente B', 'Paciente C'], name='Pacientes')"
   ]
  },
  {
   "cell_type": "markdown",
   "id": "d62d79a9",
   "metadata": {},
   "source": [
    "## Lectura de Archivos de Datos\n",
    "\n",
    "Si bien se pueden crear DataFrames o Series a mano, en la práctica estos datos en general se importan desde archivos.\n",
    "\n",
    "Los datos se pueden almacenar usando distintos formatos. El más básico es el de archivos CSV (*Comma-Separated Values*), que como indica su nombre contiene valores separados por coma: "
   ]
  },
  {
   "cell_type": "code",
   "execution_count": 6,
   "id": "2ec24149",
   "metadata": {},
   "outputs": [],
   "source": [
    "diabetes_data = pd.read_csv(\"../data/diabetes.csv\")"
   ]
  },
  {
   "cell_type": "markdown",
   "id": "44701094",
   "metadata": {},
   "source": [
    "Se puede usar el atributo *shape* para conocer la dimensión del DataFrame\n"
   ]
  },
  {
   "cell_type": "code",
   "execution_count": 7,
   "id": "7cc11ff1",
   "metadata": {},
   "outputs": [
    {
     "data": {
      "text/plain": [
       "(768, 10)"
      ]
     },
     "execution_count": 7,
     "metadata": {},
     "output_type": "execute_result"
    }
   ],
   "source": [
    "diabetes_data.shape"
   ]
  },
  {
   "cell_type": "markdown",
   "id": "b4ad7a97",
   "metadata": {},
   "source": [
    "Es decir, el DataFrame tiene 769 registros organizados en 9 columnas.\n",
    "\n",
    "Podemos examinar el contenido del DataFrame resultante usando el comando head(), que muestra las primeras cinco filas:"
   ]
  },
  {
   "cell_type": "code",
   "execution_count": 8,
   "id": "5a52f026",
   "metadata": {},
   "outputs": [
    {
     "data": {
      "text/html": [
       "<div>\n",
       "<style scoped>\n",
       "    .dataframe tbody tr th:only-of-type {\n",
       "        vertical-align: middle;\n",
       "    }\n",
       "\n",
       "    .dataframe tbody tr th {\n",
       "        vertical-align: top;\n",
       "    }\n",
       "\n",
       "    .dataframe thead th {\n",
       "        text-align: right;\n",
       "    }\n",
       "</style>\n",
       "<table border=\"1\" class=\"dataframe\">\n",
       "  <thead>\n",
       "    <tr style=\"text-align: right;\">\n",
       "      <th></th>\n",
       "      <th>Unnamed: 0</th>\n",
       "      <th>Pregnancies</th>\n",
       "      <th>Glucose</th>\n",
       "      <th>BloodPressure</th>\n",
       "      <th>SkinThickness</th>\n",
       "      <th>Insulin</th>\n",
       "      <th>BMI</th>\n",
       "      <th>DiabetesPedigreeFunction</th>\n",
       "      <th>Age</th>\n",
       "      <th>Outcome</th>\n",
       "    </tr>\n",
       "  </thead>\n",
       "  <tbody>\n",
       "    <tr>\n",
       "      <th>0</th>\n",
       "      <td>0</td>\n",
       "      <td>6</td>\n",
       "      <td>148</td>\n",
       "      <td>72.0</td>\n",
       "      <td>35.0</td>\n",
       "      <td>0.0</td>\n",
       "      <td>33.6</td>\n",
       "      <td>0.627</td>\n",
       "      <td>50</td>\n",
       "      <td>1</td>\n",
       "    </tr>\n",
       "    <tr>\n",
       "      <th>1</th>\n",
       "      <td>1</td>\n",
       "      <td>1</td>\n",
       "      <td>85</td>\n",
       "      <td>66.0</td>\n",
       "      <td>29.0</td>\n",
       "      <td>0.0</td>\n",
       "      <td>26.6</td>\n",
       "      <td>0.351</td>\n",
       "      <td>31</td>\n",
       "      <td>0</td>\n",
       "    </tr>\n",
       "    <tr>\n",
       "      <th>2</th>\n",
       "      <td>2</td>\n",
       "      <td>8</td>\n",
       "      <td>183</td>\n",
       "      <td>64.0</td>\n",
       "      <td>0.0</td>\n",
       "      <td>0.0</td>\n",
       "      <td>23.3</td>\n",
       "      <td>0.672</td>\n",
       "      <td>32</td>\n",
       "      <td>1</td>\n",
       "    </tr>\n",
       "    <tr>\n",
       "      <th>3</th>\n",
       "      <td>3</td>\n",
       "      <td>1</td>\n",
       "      <td>89</td>\n",
       "      <td>66.0</td>\n",
       "      <td>23.0</td>\n",
       "      <td>94.0</td>\n",
       "      <td>28.1</td>\n",
       "      <td>0.167</td>\n",
       "      <td>21</td>\n",
       "      <td>0</td>\n",
       "    </tr>\n",
       "    <tr>\n",
       "      <th>4</th>\n",
       "      <td>4</td>\n",
       "      <td>0</td>\n",
       "      <td>137</td>\n",
       "      <td>40.0</td>\n",
       "      <td>35.0</td>\n",
       "      <td>168.0</td>\n",
       "      <td>43.1</td>\n",
       "      <td>2.288</td>\n",
       "      <td>33</td>\n",
       "      <td>1</td>\n",
       "    </tr>\n",
       "  </tbody>\n",
       "</table>\n",
       "</div>"
      ],
      "text/plain": [
       "   Unnamed: 0  Pregnancies  Glucose  BloodPressure  SkinThickness  Insulin  \\\n",
       "0           0            6      148           72.0           35.0      0.0   \n",
       "1           1            1       85           66.0           29.0      0.0   \n",
       "2           2            8      183           64.0            0.0      0.0   \n",
       "3           3            1       89           66.0           23.0     94.0   \n",
       "4           4            0      137           40.0           35.0    168.0   \n",
       "\n",
       "    BMI  DiabetesPedigreeFunction  Age  Outcome  \n",
       "0  33.6                     0.627   50        1  \n",
       "1  26.6                     0.351   31        0  \n",
       "2  23.3                     0.672   32        1  \n",
       "3  28.1                     0.167   21        0  \n",
       "4  43.1                     2.288   33        1  "
      ]
     },
     "execution_count": 8,
     "metadata": {},
     "output_type": "execute_result"
    }
   ],
   "source": [
    "diabetes_data.head()"
   ]
  },
  {
   "cell_type": "markdown",
   "id": "63eb6639",
   "metadata": {},
   "source": [
    "La función pd.read_csv() tiene más de 30 parámetros opcionales que pueden especificar. Por ejemplo, en este conjunto de datos el archivo CSV tiene un índice incorporado, que Pandas no detectó automáticamente. Para hacer que se use esa columna como índice (en lugar de crear uno nuevo desde cero), podemos especificar un *index_col*"
   ]
  },
  {
   "cell_type": "code",
   "execution_count": 9,
   "id": "0e1de35a",
   "metadata": {},
   "outputs": [
    {
     "data": {
      "text/html": [
       "<div>\n",
       "<style scoped>\n",
       "    .dataframe tbody tr th:only-of-type {\n",
       "        vertical-align: middle;\n",
       "    }\n",
       "\n",
       "    .dataframe tbody tr th {\n",
       "        vertical-align: top;\n",
       "    }\n",
       "\n",
       "    .dataframe thead th {\n",
       "        text-align: right;\n",
       "    }\n",
       "</style>\n",
       "<table border=\"1\" class=\"dataframe\">\n",
       "  <thead>\n",
       "    <tr style=\"text-align: right;\">\n",
       "      <th></th>\n",
       "      <th>Pregnancies</th>\n",
       "      <th>Glucose</th>\n",
       "      <th>BloodPressure</th>\n",
       "      <th>SkinThickness</th>\n",
       "      <th>Insulin</th>\n",
       "      <th>BMI</th>\n",
       "      <th>DiabetesPedigreeFunction</th>\n",
       "      <th>Age</th>\n",
       "      <th>Outcome</th>\n",
       "    </tr>\n",
       "  </thead>\n",
       "  <tbody>\n",
       "    <tr>\n",
       "      <th>0</th>\n",
       "      <td>6</td>\n",
       "      <td>148</td>\n",
       "      <td>72.0</td>\n",
       "      <td>35.0</td>\n",
       "      <td>0.0</td>\n",
       "      <td>33.6</td>\n",
       "      <td>0.627</td>\n",
       "      <td>50</td>\n",
       "      <td>1</td>\n",
       "    </tr>\n",
       "    <tr>\n",
       "      <th>1</th>\n",
       "      <td>1</td>\n",
       "      <td>85</td>\n",
       "      <td>66.0</td>\n",
       "      <td>29.0</td>\n",
       "      <td>0.0</td>\n",
       "      <td>26.6</td>\n",
       "      <td>0.351</td>\n",
       "      <td>31</td>\n",
       "      <td>0</td>\n",
       "    </tr>\n",
       "    <tr>\n",
       "      <th>2</th>\n",
       "      <td>8</td>\n",
       "      <td>183</td>\n",
       "      <td>64.0</td>\n",
       "      <td>0.0</td>\n",
       "      <td>0.0</td>\n",
       "      <td>23.3</td>\n",
       "      <td>0.672</td>\n",
       "      <td>32</td>\n",
       "      <td>1</td>\n",
       "    </tr>\n",
       "    <tr>\n",
       "      <th>3</th>\n",
       "      <td>1</td>\n",
       "      <td>89</td>\n",
       "      <td>66.0</td>\n",
       "      <td>23.0</td>\n",
       "      <td>94.0</td>\n",
       "      <td>28.1</td>\n",
       "      <td>0.167</td>\n",
       "      <td>21</td>\n",
       "      <td>0</td>\n",
       "    </tr>\n",
       "    <tr>\n",
       "      <th>4</th>\n",
       "      <td>0</td>\n",
       "      <td>137</td>\n",
       "      <td>40.0</td>\n",
       "      <td>35.0</td>\n",
       "      <td>168.0</td>\n",
       "      <td>43.1</td>\n",
       "      <td>2.288</td>\n",
       "      <td>33</td>\n",
       "      <td>1</td>\n",
       "    </tr>\n",
       "  </tbody>\n",
       "</table>\n",
       "</div>"
      ],
      "text/plain": [
       "   Pregnancies  Glucose  BloodPressure  SkinThickness  Insulin   BMI  \\\n",
       "0            6      148           72.0           35.0      0.0  33.6   \n",
       "1            1       85           66.0           29.0      0.0  26.6   \n",
       "2            8      183           64.0            0.0      0.0  23.3   \n",
       "3            1       89           66.0           23.0     94.0  28.1   \n",
       "4            0      137           40.0           35.0    168.0  43.1   \n",
       "\n",
       "   DiabetesPedigreeFunction  Age  Outcome  \n",
       "0                     0.627   50        1  \n",
       "1                     0.351   31        0  \n",
       "2                     0.672   32        1  \n",
       "3                     0.167   21        0  \n",
       "4                     2.288   33        1  "
      ]
     },
     "execution_count": 9,
     "metadata": {},
     "output_type": "execute_result"
    }
   ],
   "source": [
    "diabetes_data = pd.read_csv(\"../data/diabetes.csv\", index_col=0)\n",
    "diabetes_data.head()"
   ]
  },
  {
   "cell_type": "code",
   "execution_count": 10,
   "id": "fcc9f55f",
   "metadata": {},
   "outputs": [],
   "source": [
    "#pd.DataFrame.to_csv(\"\")"
   ]
  },
  {
   "cell_type": "markdown",
   "id": "16c409a1",
   "metadata": {},
   "source": [
    "## Indexado, Selección y Asignación\n"
   ]
  },
  {
   "cell_type": "markdown",
   "id": "1017f18c",
   "metadata": {},
   "source": [
    "Para estas tareas es posible emplear funciones nativas de Python o propias de Pandas."
   ]
  },
  {
   "cell_type": "markdown",
   "id": "9833956b",
   "metadata": {},
   "source": [
    "### Indexado con Funciones Nativas"
   ]
  },
  {
   "cell_type": "markdown",
   "id": "8fb6e87c",
   "metadata": {},
   "source": [
    "Pandas soporta los métodos nativos de Python de indexación. Por ejemplo, se puede acceder a la propiedad de un objeto a través de sus atributos. Para el ejemplo previo, se puede acceder a la propiedad *Age* del Dataframe de la siguinte forma :\n"
   ]
  },
  {
   "cell_type": "code",
   "execution_count": 11,
   "id": "019789ec",
   "metadata": {},
   "outputs": [
    {
     "data": {
      "text/plain": [
       "0      50\n",
       "1      31\n",
       "2      32\n",
       "3      21\n",
       "4      33\n",
       "       ..\n",
       "763    63\n",
       "764    27\n",
       "765    30\n",
       "766    47\n",
       "767    23\n",
       "Name: Age, Length: 768, dtype: int64"
      ]
     },
     "execution_count": 11,
     "metadata": {},
     "output_type": "execute_result"
    }
   ],
   "source": [
    "diabetes_data.Age"
   ]
  },
  {
   "cell_type": "markdown",
   "id": "6946aed4",
   "metadata": {},
   "source": [
    "Como dijimos que el DataFrame era un diccionario de Python, se puede usar el indexado de diccionarios para obtener los valores deseados:"
   ]
  },
  {
   "cell_type": "code",
   "execution_count": 12,
   "id": "2a0a1c4b",
   "metadata": {},
   "outputs": [
    {
     "data": {
      "text/plain": [
       "0      50\n",
       "1      31\n",
       "2      32\n",
       "3      21\n",
       "4      33\n",
       "       ..\n",
       "763    63\n",
       "764    27\n",
       "765    30\n",
       "766    47\n",
       "767    23\n",
       "Name: Age, Length: 768, dtype: int64"
      ]
     },
     "execution_count": 12,
     "metadata": {},
     "output_type": "execute_result"
    }
   ],
   "source": [
    "diabetes_data['Age']"
   ]
  },
  {
   "cell_type": "markdown",
   "id": "89fd5f15",
   "metadata": {},
   "source": [
    "Esas son dos formas de seleccionar una Serie específica de un DataFrame.\n",
    "Ninguna es mejor o peor desde el punto de vista sintáctico, pero el operador de indexación [] tiene la ventaja que puede manejar nombres de columnas con caracteres reservados (por ejemplo, si tuviéramos una columna con nombre blood.pressure, no se podría acceder a su contenido haciendo diabetes_data.blood.pressure, pero sí haciendo diabetes_data[blood.pressure].\n",
    "\n",
    "Para conseguir un valor específico de la serie se puede usar el operador de indexación [] una vez más: "
   ]
  },
  {
   "cell_type": "code",
   "execution_count": 13,
   "id": "a703b62a",
   "metadata": {},
   "outputs": [
    {
     "data": {
      "text/plain": [
       "50"
      ]
     },
     "execution_count": 13,
     "metadata": {},
     "output_type": "execute_result"
    }
   ],
   "source": [
    "diabetes_data['Age'][0]"
   ]
  },
  {
   "cell_type": "markdown",
   "id": "eff5e230",
   "metadata": {},
   "source": [
    "### Indexado en Pandas"
   ]
  },
  {
   "cell_type": "markdown",
   "id": "c929ccdc",
   "metadata": {},
   "source": [
    "Si bien se puede emplear los métodos anteriores para el acceso a DataFrames, en general al trabajar con Pandas se recomienda emplear los métodos de acceso propios de esta biblioteca: *loc* e *iloc* ya que están omptimizados"
   ]
  },
  {
   "cell_type": "markdown",
   "id": "050ee961",
   "metadata": {},
   "source": [
    "#### Indexación basada en índices"
   ]
  },
  {
   "cell_type": "markdown",
   "id": "1dc3e80e",
   "metadata": {},
   "source": [
    "Con este método los datos se seleccionan a partir de sus posiciones numéricas.\n",
    "Por ejemplo si se quiere seleccionar la primera fila:"
   ]
  },
  {
   "cell_type": "code",
   "execution_count": 14,
   "id": "a830b14d",
   "metadata": {},
   "outputs": [
    {
     "data": {
      "text/plain": [
       "Pregnancies                   6.000\n",
       "Glucose                     148.000\n",
       "BloodPressure                72.000\n",
       "SkinThickness                35.000\n",
       "Insulin                       0.000\n",
       "BMI                          33.600\n",
       "DiabetesPedigreeFunction      0.627\n",
       "Age                          50.000\n",
       "Outcome                       1.000\n",
       "Name: 0, dtype: float64"
      ]
     },
     "execution_count": 14,
     "metadata": {},
     "output_type": "execute_result"
    }
   ],
   "source": [
    "diabetes_data.iloc[0]"
   ]
  },
  {
   "cell_type": "markdown",
   "id": "53848d11",
   "metadata": {},
   "source": [
    "Tanto en *loc* como en *iloc* el primer identificador corresponde a las filas y el segundo a las columnas. Este es el orden opuesto al que emplea Python nativo, en donde se indica primero la columna, luego la fila. \n",
    "Es decir que para recuperar la primera columna se haría:"
   ]
  },
  {
   "cell_type": "code",
   "execution_count": 15,
   "id": "183b4e99",
   "metadata": {},
   "outputs": [
    {
     "data": {
      "text/plain": [
       "0       6\n",
       "1       1\n",
       "2       8\n",
       "3       1\n",
       "4       0\n",
       "       ..\n",
       "763    10\n",
       "764     2\n",
       "765     5\n",
       "766     1\n",
       "767     1\n",
       "Name: Pregnancies, Length: 768, dtype: int64"
      ]
     },
     "execution_count": 15,
     "metadata": {},
     "output_type": "execute_result"
    }
   ],
   "source": [
    "diabetes_data.iloc[:, 0]"
   ]
  },
  {
   "cell_type": "markdown",
   "id": "75e2d25a",
   "metadata": {},
   "source": [
    "#### Indexación basada en etiquetas"
   ]
  },
  {
   "cell_type": "markdown",
   "id": "34846e93",
   "metadata": {},
   "source": [
    "En este paradigma, es el valor del índice de datos, no su posición, lo que importa.\n",
    "Por ejemplo, para obtener la primera fila de registros, haríamos lo siguiente: "
   ]
  },
  {
   "cell_type": "code",
   "execution_count": 16,
   "id": "36a349d4",
   "metadata": {},
   "outputs": [
    {
     "data": {
      "text/plain": [
       "50"
      ]
     },
     "execution_count": 16,
     "metadata": {},
     "output_type": "execute_result"
    }
   ],
   "source": [
    "diabetes_data.loc[0, 'Age']"
   ]
  },
  {
   "cell_type": "markdown",
   "id": "306118b4",
   "metadata": {},
   "source": [
    "Si se quisiera seleccionar un subconjunto de atributos del DataFrame se podría hacer:"
   ]
  },
  {
   "cell_type": "code",
   "execution_count": 17,
   "id": "97c6780c",
   "metadata": {},
   "outputs": [
    {
     "data": {
      "text/html": [
       "<div>\n",
       "<style scoped>\n",
       "    .dataframe tbody tr th:only-of-type {\n",
       "        vertical-align: middle;\n",
       "    }\n",
       "\n",
       "    .dataframe tbody tr th {\n",
       "        vertical-align: top;\n",
       "    }\n",
       "\n",
       "    .dataframe thead th {\n",
       "        text-align: right;\n",
       "    }\n",
       "</style>\n",
       "<table border=\"1\" class=\"dataframe\">\n",
       "  <thead>\n",
       "    <tr style=\"text-align: right;\">\n",
       "      <th></th>\n",
       "      <th>Age</th>\n",
       "      <th>Pregnancies</th>\n",
       "      <th>BMI</th>\n",
       "    </tr>\n",
       "  </thead>\n",
       "  <tbody>\n",
       "    <tr>\n",
       "      <th>0</th>\n",
       "      <td>50</td>\n",
       "      <td>6</td>\n",
       "      <td>33.6</td>\n",
       "    </tr>\n",
       "    <tr>\n",
       "      <th>1</th>\n",
       "      <td>31</td>\n",
       "      <td>1</td>\n",
       "      <td>26.6</td>\n",
       "    </tr>\n",
       "    <tr>\n",
       "      <th>2</th>\n",
       "      <td>32</td>\n",
       "      <td>8</td>\n",
       "      <td>23.3</td>\n",
       "    </tr>\n",
       "    <tr>\n",
       "      <th>3</th>\n",
       "      <td>21</td>\n",
       "      <td>1</td>\n",
       "      <td>28.1</td>\n",
       "    </tr>\n",
       "    <tr>\n",
       "      <th>4</th>\n",
       "      <td>33</td>\n",
       "      <td>0</td>\n",
       "      <td>43.1</td>\n",
       "    </tr>\n",
       "    <tr>\n",
       "      <th>...</th>\n",
       "      <td>...</td>\n",
       "      <td>...</td>\n",
       "      <td>...</td>\n",
       "    </tr>\n",
       "    <tr>\n",
       "      <th>763</th>\n",
       "      <td>63</td>\n",
       "      <td>10</td>\n",
       "      <td>32.9</td>\n",
       "    </tr>\n",
       "    <tr>\n",
       "      <th>764</th>\n",
       "      <td>27</td>\n",
       "      <td>2</td>\n",
       "      <td>36.8</td>\n",
       "    </tr>\n",
       "    <tr>\n",
       "      <th>765</th>\n",
       "      <td>30</td>\n",
       "      <td>5</td>\n",
       "      <td>26.2</td>\n",
       "    </tr>\n",
       "    <tr>\n",
       "      <th>766</th>\n",
       "      <td>47</td>\n",
       "      <td>1</td>\n",
       "      <td>30.1</td>\n",
       "    </tr>\n",
       "    <tr>\n",
       "      <th>767</th>\n",
       "      <td>23</td>\n",
       "      <td>1</td>\n",
       "      <td>30.4</td>\n",
       "    </tr>\n",
       "  </tbody>\n",
       "</table>\n",
       "<p>768 rows × 3 columns</p>\n",
       "</div>"
      ],
      "text/plain": [
       "     Age  Pregnancies   BMI\n",
       "0     50            6  33.6\n",
       "1     31            1  26.6\n",
       "2     32            8  23.3\n",
       "3     21            1  28.1\n",
       "4     33            0  43.1\n",
       "..   ...          ...   ...\n",
       "763   63           10  32.9\n",
       "764   27            2  36.8\n",
       "765   30            5  26.2\n",
       "766   47            1  30.1\n",
       "767   23            1  30.4\n",
       "\n",
       "[768 rows x 3 columns]"
      ]
     },
     "execution_count": 17,
     "metadata": {},
     "output_type": "execute_result"
    }
   ],
   "source": [
    "#diabetes_data.loc[:, ['Age', 'BMI']]\n",
    "diabetes_data.loc[:, ['Age', 'Pregnancies', 'BMI']]"
   ]
  },
  {
   "cell_type": "markdown",
   "id": "b5ca4604",
   "metadata": {},
   "source": [
    "Sin embargo este método en versiones recientes de Pandas falla en caso que algunas de las columnas elegidas tengan valores faltantes. En ese caso se recomienda usar el método reindex:\n"
   ]
  },
  {
   "cell_type": "code",
   "execution_count": 18,
   "id": "fb5f1c33",
   "metadata": {},
   "outputs": [
    {
     "data": {
      "text/html": [
       "<div>\n",
       "<style scoped>\n",
       "    .dataframe tbody tr th:only-of-type {\n",
       "        vertical-align: middle;\n",
       "    }\n",
       "\n",
       "    .dataframe tbody tr th {\n",
       "        vertical-align: top;\n",
       "    }\n",
       "\n",
       "    .dataframe thead th {\n",
       "        text-align: right;\n",
       "    }\n",
       "</style>\n",
       "<table border=\"1\" class=\"dataframe\">\n",
       "  <thead>\n",
       "    <tr style=\"text-align: right;\">\n",
       "      <th></th>\n",
       "      <th>Age</th>\n",
       "      <th>Pregnancies</th>\n",
       "      <th>BMI</th>\n",
       "    </tr>\n",
       "  </thead>\n",
       "  <tbody>\n",
       "    <tr>\n",
       "      <th>0</th>\n",
       "      <td>50</td>\n",
       "      <td>6</td>\n",
       "      <td>33.6</td>\n",
       "    </tr>\n",
       "    <tr>\n",
       "      <th>1</th>\n",
       "      <td>31</td>\n",
       "      <td>1</td>\n",
       "      <td>26.6</td>\n",
       "    </tr>\n",
       "    <tr>\n",
       "      <th>2</th>\n",
       "      <td>32</td>\n",
       "      <td>8</td>\n",
       "      <td>23.3</td>\n",
       "    </tr>\n",
       "    <tr>\n",
       "      <th>3</th>\n",
       "      <td>21</td>\n",
       "      <td>1</td>\n",
       "      <td>28.1</td>\n",
       "    </tr>\n",
       "    <tr>\n",
       "      <th>4</th>\n",
       "      <td>33</td>\n",
       "      <td>0</td>\n",
       "      <td>43.1</td>\n",
       "    </tr>\n",
       "    <tr>\n",
       "      <th>...</th>\n",
       "      <td>...</td>\n",
       "      <td>...</td>\n",
       "      <td>...</td>\n",
       "    </tr>\n",
       "    <tr>\n",
       "      <th>763</th>\n",
       "      <td>63</td>\n",
       "      <td>10</td>\n",
       "      <td>32.9</td>\n",
       "    </tr>\n",
       "    <tr>\n",
       "      <th>764</th>\n",
       "      <td>27</td>\n",
       "      <td>2</td>\n",
       "      <td>36.8</td>\n",
       "    </tr>\n",
       "    <tr>\n",
       "      <th>765</th>\n",
       "      <td>30</td>\n",
       "      <td>5</td>\n",
       "      <td>26.2</td>\n",
       "    </tr>\n",
       "    <tr>\n",
       "      <th>766</th>\n",
       "      <td>47</td>\n",
       "      <td>1</td>\n",
       "      <td>30.1</td>\n",
       "    </tr>\n",
       "    <tr>\n",
       "      <th>767</th>\n",
       "      <td>23</td>\n",
       "      <td>1</td>\n",
       "      <td>30.4</td>\n",
       "    </tr>\n",
       "  </tbody>\n",
       "</table>\n",
       "<p>768 rows × 3 columns</p>\n",
       "</div>"
      ],
      "text/plain": [
       "     Age  Pregnancies   BMI\n",
       "0     50            6  33.6\n",
       "1     31            1  26.6\n",
       "2     32            8  23.3\n",
       "3     21            1  28.1\n",
       "4     33            0  43.1\n",
       "..   ...          ...   ...\n",
       "763   63           10  32.9\n",
       "764   27            2  36.8\n",
       "765   30            5  26.2\n",
       "766   47            1  30.1\n",
       "767   23            1  30.4\n",
       "\n",
       "[768 rows x 3 columns]"
      ]
     },
     "execution_count": 18,
     "metadata": {},
     "output_type": "execute_result"
    }
   ],
   "source": [
    "diabetes_data.reindex(columns = ['Age', 'Pregnancies', 'BMI'])\n"
   ]
  },
  {
   "cell_type": "markdown",
   "id": "b423e1f8",
   "metadata": {},
   "source": [
    "Al  momento de optar entre *loc* e *iloc* se debe saber que ambos métodos tienen esquemas de indexado diferentes.\n",
    "iloc utiliza el esquema de indexado de la *stdlib* de Python, donde el primer elemento del rango está incluído y el último excluído. Por ejemplo 0:10 va a seleccionar entre 0, 1, ..., 9, mientras que iloc indexa de manera inclusiva y 0:10, es decir, los elementos 0, 1, ..., 10.\n",
    "\n",
    "Esa diferencia resulta particularmente confusa cuando el índice del DataFrame es una lista numérica simple, ej: 0, 1, ..., 1000. En ese caso df.iloc [0:1000] devolverá 1000 elementos, mientras que df.loc [0:1000] devolverá 1001."
   ]
  },
  {
   "cell_type": "markdown",
   "id": "8b33f9f4",
   "metadata": {},
   "source": [
    "### Selección condicional"
   ]
  },
  {
   "cell_type": "markdown",
   "id": "0ca98624",
   "metadata": {},
   "source": [
    "Es posible aprovechar la funcionalidad de *loc* para filtrar los datos, seleccionando los casos que se correspondan con una condición específica, por ejemplo personas de más de 50 años:"
   ]
  },
  {
   "cell_type": "code",
   "execution_count": 19,
   "id": "54a87fd9",
   "metadata": {},
   "outputs": [
    {
     "data": {
      "text/html": [
       "<div>\n",
       "<style scoped>\n",
       "    .dataframe tbody tr th:only-of-type {\n",
       "        vertical-align: middle;\n",
       "    }\n",
       "\n",
       "    .dataframe tbody tr th {\n",
       "        vertical-align: top;\n",
       "    }\n",
       "\n",
       "    .dataframe thead th {\n",
       "        text-align: right;\n",
       "    }\n",
       "</style>\n",
       "<table border=\"1\" class=\"dataframe\">\n",
       "  <thead>\n",
       "    <tr style=\"text-align: right;\">\n",
       "      <th></th>\n",
       "      <th>Pregnancies</th>\n",
       "      <th>Glucose</th>\n",
       "      <th>BloodPressure</th>\n",
       "      <th>SkinThickness</th>\n",
       "      <th>Insulin</th>\n",
       "      <th>BMI</th>\n",
       "      <th>DiabetesPedigreeFunction</th>\n",
       "      <th>Age</th>\n",
       "      <th>Outcome</th>\n",
       "    </tr>\n",
       "  </thead>\n",
       "  <tbody>\n",
       "    <tr>\n",
       "      <th>8</th>\n",
       "      <td>2</td>\n",
       "      <td>197</td>\n",
       "      <td>70.0</td>\n",
       "      <td>45.0</td>\n",
       "      <td>543.0</td>\n",
       "      <td>30.5</td>\n",
       "      <td>0.158</td>\n",
       "      <td>53</td>\n",
       "      <td>1</td>\n",
       "    </tr>\n",
       "    <tr>\n",
       "      <th>9</th>\n",
       "      <td>8</td>\n",
       "      <td>125</td>\n",
       "      <td>96.0</td>\n",
       "      <td>NaN</td>\n",
       "      <td>NaN</td>\n",
       "      <td>NaN</td>\n",
       "      <td>0.232</td>\n",
       "      <td>54</td>\n",
       "      <td>1</td>\n",
       "    </tr>\n",
       "    <tr>\n",
       "      <th>12</th>\n",
       "      <td>10</td>\n",
       "      <td>139</td>\n",
       "      <td>80.0</td>\n",
       "      <td>NaN</td>\n",
       "      <td>NaN</td>\n",
       "      <td>27.1</td>\n",
       "      <td>1.441</td>\n",
       "      <td>57</td>\n",
       "      <td>0</td>\n",
       "    </tr>\n",
       "    <tr>\n",
       "      <th>13</th>\n",
       "      <td>1</td>\n",
       "      <td>189</td>\n",
       "      <td>60.0</td>\n",
       "      <td>23.0</td>\n",
       "      <td>846.0</td>\n",
       "      <td>30.1</td>\n",
       "      <td>0.398</td>\n",
       "      <td>59</td>\n",
       "      <td>1</td>\n",
       "    </tr>\n",
       "    <tr>\n",
       "      <th>14</th>\n",
       "      <td>5</td>\n",
       "      <td>166</td>\n",
       "      <td>72.0</td>\n",
       "      <td>19.0</td>\n",
       "      <td>175.0</td>\n",
       "      <td>25.8</td>\n",
       "      <td>0.587</td>\n",
       "      <td>51</td>\n",
       "      <td>1</td>\n",
       "    </tr>\n",
       "    <tr>\n",
       "      <th>...</th>\n",
       "      <td>...</td>\n",
       "      <td>...</td>\n",
       "      <td>...</td>\n",
       "      <td>...</td>\n",
       "      <td>...</td>\n",
       "      <td>...</td>\n",
       "      <td>...</td>\n",
       "      <td>...</td>\n",
       "      <td>...</td>\n",
       "    </tr>\n",
       "    <tr>\n",
       "      <th>719</th>\n",
       "      <td>5</td>\n",
       "      <td>97</td>\n",
       "      <td>76.0</td>\n",
       "      <td>27.0</td>\n",
       "      <td>0.0</td>\n",
       "      <td>35.6</td>\n",
       "      <td>0.378</td>\n",
       "      <td>52</td>\n",
       "      <td>1</td>\n",
       "    </tr>\n",
       "    <tr>\n",
       "      <th>734</th>\n",
       "      <td>2</td>\n",
       "      <td>105</td>\n",
       "      <td>75.0</td>\n",
       "      <td>0.0</td>\n",
       "      <td>0.0</td>\n",
       "      <td>23.3</td>\n",
       "      <td>0.560</td>\n",
       "      <td>53</td>\n",
       "      <td>0</td>\n",
       "    </tr>\n",
       "    <tr>\n",
       "      <th>757</th>\n",
       "      <td>0</td>\n",
       "      <td>123</td>\n",
       "      <td>72.0</td>\n",
       "      <td>0.0</td>\n",
       "      <td>0.0</td>\n",
       "      <td>36.3</td>\n",
       "      <td>0.258</td>\n",
       "      <td>52</td>\n",
       "      <td>1</td>\n",
       "    </tr>\n",
       "    <tr>\n",
       "      <th>759</th>\n",
       "      <td>6</td>\n",
       "      <td>190</td>\n",
       "      <td>92.0</td>\n",
       "      <td>0.0</td>\n",
       "      <td>0.0</td>\n",
       "      <td>35.5</td>\n",
       "      <td>0.278</td>\n",
       "      <td>66</td>\n",
       "      <td>1</td>\n",
       "    </tr>\n",
       "    <tr>\n",
       "      <th>763</th>\n",
       "      <td>10</td>\n",
       "      <td>101</td>\n",
       "      <td>76.0</td>\n",
       "      <td>48.0</td>\n",
       "      <td>180.0</td>\n",
       "      <td>32.9</td>\n",
       "      <td>0.171</td>\n",
       "      <td>63</td>\n",
       "      <td>0</td>\n",
       "    </tr>\n",
       "  </tbody>\n",
       "</table>\n",
       "<p>81 rows × 9 columns</p>\n",
       "</div>"
      ],
      "text/plain": [
       "     Pregnancies  Glucose  BloodPressure  SkinThickness  Insulin   BMI  \\\n",
       "8              2      197           70.0           45.0    543.0  30.5   \n",
       "9              8      125           96.0            NaN      NaN   NaN   \n",
       "12            10      139           80.0            NaN      NaN  27.1   \n",
       "13             1      189           60.0           23.0    846.0  30.1   \n",
       "14             5      166           72.0           19.0    175.0  25.8   \n",
       "..           ...      ...            ...            ...      ...   ...   \n",
       "719            5       97           76.0           27.0      0.0  35.6   \n",
       "734            2      105           75.0            0.0      0.0  23.3   \n",
       "757            0      123           72.0            0.0      0.0  36.3   \n",
       "759            6      190           92.0            0.0      0.0  35.5   \n",
       "763           10      101           76.0           48.0    180.0  32.9   \n",
       "\n",
       "     DiabetesPedigreeFunction  Age  Outcome  \n",
       "8                       0.158   53        1  \n",
       "9                       0.232   54        1  \n",
       "12                      1.441   57        0  \n",
       "13                      0.398   59        1  \n",
       "14                      0.587   51        1  \n",
       "..                        ...  ...      ...  \n",
       "719                     0.378   52        1  \n",
       "734                     0.560   53        0  \n",
       "757                     0.258   52        1  \n",
       "759                     0.278   66        1  \n",
       "763                     0.171   63        0  \n",
       "\n",
       "[81 rows x 9 columns]"
      ]
     },
     "execution_count": 19,
     "metadata": {},
     "output_type": "execute_result"
    }
   ],
   "source": [
    "diabetes_data.loc[diabetes_data.Age > 50]"
   ]
  },
  {
   "cell_type": "markdown",
   "id": "2e74d291",
   "metadata": {},
   "source": [
    "Si además quisiéramos excluir a todas aquellas personas que tuvieron menos de 4 embarazos se podría hacer:"
   ]
  },
  {
   "cell_type": "code",
   "execution_count": 20,
   "id": "7b431111",
   "metadata": {},
   "outputs": [
    {
     "data": {
      "text/html": [
       "<div>\n",
       "<style scoped>\n",
       "    .dataframe tbody tr th:only-of-type {\n",
       "        vertical-align: middle;\n",
       "    }\n",
       "\n",
       "    .dataframe tbody tr th {\n",
       "        vertical-align: top;\n",
       "    }\n",
       "\n",
       "    .dataframe thead th {\n",
       "        text-align: right;\n",
       "    }\n",
       "</style>\n",
       "<table border=\"1\" class=\"dataframe\">\n",
       "  <thead>\n",
       "    <tr style=\"text-align: right;\">\n",
       "      <th></th>\n",
       "      <th>Pregnancies</th>\n",
       "      <th>Glucose</th>\n",
       "      <th>BloodPressure</th>\n",
       "      <th>SkinThickness</th>\n",
       "      <th>Insulin</th>\n",
       "      <th>BMI</th>\n",
       "      <th>DiabetesPedigreeFunction</th>\n",
       "      <th>Age</th>\n",
       "      <th>Outcome</th>\n",
       "    </tr>\n",
       "  </thead>\n",
       "  <tbody>\n",
       "    <tr>\n",
       "      <th>9</th>\n",
       "      <td>8</td>\n",
       "      <td>125</td>\n",
       "      <td>96.0</td>\n",
       "      <td>NaN</td>\n",
       "      <td>NaN</td>\n",
       "      <td>NaN</td>\n",
       "      <td>0.232</td>\n",
       "      <td>54</td>\n",
       "      <td>1</td>\n",
       "    </tr>\n",
       "    <tr>\n",
       "      <th>12</th>\n",
       "      <td>10</td>\n",
       "      <td>139</td>\n",
       "      <td>80.0</td>\n",
       "      <td>NaN</td>\n",
       "      <td>NaN</td>\n",
       "      <td>27.1</td>\n",
       "      <td>1.441</td>\n",
       "      <td>57</td>\n",
       "      <td>0</td>\n",
       "    </tr>\n",
       "    <tr>\n",
       "      <th>14</th>\n",
       "      <td>5</td>\n",
       "      <td>166</td>\n",
       "      <td>72.0</td>\n",
       "      <td>19.0</td>\n",
       "      <td>175.0</td>\n",
       "      <td>25.8</td>\n",
       "      <td>0.587</td>\n",
       "      <td>51</td>\n",
       "      <td>1</td>\n",
       "    </tr>\n",
       "    <tr>\n",
       "      <th>24</th>\n",
       "      <td>11</td>\n",
       "      <td>143</td>\n",
       "      <td>94.0</td>\n",
       "      <td>33.0</td>\n",
       "      <td>146.0</td>\n",
       "      <td>36.6</td>\n",
       "      <td>0.254</td>\n",
       "      <td>51</td>\n",
       "      <td>1</td>\n",
       "    </tr>\n",
       "    <tr>\n",
       "      <th>28</th>\n",
       "      <td>13</td>\n",
       "      <td>145</td>\n",
       "      <td>82.0</td>\n",
       "      <td>19.0</td>\n",
       "      <td>110.0</td>\n",
       "      <td>22.2</td>\n",
       "      <td>0.245</td>\n",
       "      <td>57</td>\n",
       "      <td>0</td>\n",
       "    </tr>\n",
       "    <tr>\n",
       "      <th>...</th>\n",
       "      <td>...</td>\n",
       "      <td>...</td>\n",
       "      <td>...</td>\n",
       "      <td>...</td>\n",
       "      <td>...</td>\n",
       "      <td>...</td>\n",
       "      <td>...</td>\n",
       "      <td>...</td>\n",
       "      <td>...</td>\n",
       "    </tr>\n",
       "    <tr>\n",
       "      <th>684</th>\n",
       "      <td>5</td>\n",
       "      <td>136</td>\n",
       "      <td>82.0</td>\n",
       "      <td>0.0</td>\n",
       "      <td>0.0</td>\n",
       "      <td>0.0</td>\n",
       "      <td>0.640</td>\n",
       "      <td>69</td>\n",
       "      <td>0</td>\n",
       "    </tr>\n",
       "    <tr>\n",
       "      <th>717</th>\n",
       "      <td>10</td>\n",
       "      <td>94</td>\n",
       "      <td>72.0</td>\n",
       "      <td>18.0</td>\n",
       "      <td>0.0</td>\n",
       "      <td>23.1</td>\n",
       "      <td>0.595</td>\n",
       "      <td>56</td>\n",
       "      <td>0</td>\n",
       "    </tr>\n",
       "    <tr>\n",
       "      <th>719</th>\n",
       "      <td>5</td>\n",
       "      <td>97</td>\n",
       "      <td>76.0</td>\n",
       "      <td>27.0</td>\n",
       "      <td>0.0</td>\n",
       "      <td>35.6</td>\n",
       "      <td>0.378</td>\n",
       "      <td>52</td>\n",
       "      <td>1</td>\n",
       "    </tr>\n",
       "    <tr>\n",
       "      <th>759</th>\n",
       "      <td>6</td>\n",
       "      <td>190</td>\n",
       "      <td>92.0</td>\n",
       "      <td>0.0</td>\n",
       "      <td>0.0</td>\n",
       "      <td>35.5</td>\n",
       "      <td>0.278</td>\n",
       "      <td>66</td>\n",
       "      <td>1</td>\n",
       "    </tr>\n",
       "    <tr>\n",
       "      <th>763</th>\n",
       "      <td>10</td>\n",
       "      <td>101</td>\n",
       "      <td>76.0</td>\n",
       "      <td>48.0</td>\n",
       "      <td>180.0</td>\n",
       "      <td>32.9</td>\n",
       "      <td>0.171</td>\n",
       "      <td>63</td>\n",
       "      <td>0</td>\n",
       "    </tr>\n",
       "  </tbody>\n",
       "</table>\n",
       "<p>62 rows × 9 columns</p>\n",
       "</div>"
      ],
      "text/plain": [
       "     Pregnancies  Glucose  BloodPressure  SkinThickness  Insulin   BMI  \\\n",
       "9              8      125           96.0            NaN      NaN   NaN   \n",
       "12            10      139           80.0            NaN      NaN  27.1   \n",
       "14             5      166           72.0           19.0    175.0  25.8   \n",
       "24            11      143           94.0           33.0    146.0  36.6   \n",
       "28            13      145           82.0           19.0    110.0  22.2   \n",
       "..           ...      ...            ...            ...      ...   ...   \n",
       "684            5      136           82.0            0.0      0.0   0.0   \n",
       "717           10       94           72.0           18.0      0.0  23.1   \n",
       "719            5       97           76.0           27.0      0.0  35.6   \n",
       "759            6      190           92.0            0.0      0.0  35.5   \n",
       "763           10      101           76.0           48.0    180.0  32.9   \n",
       "\n",
       "     DiabetesPedigreeFunction  Age  Outcome  \n",
       "9                       0.232   54        1  \n",
       "12                      1.441   57        0  \n",
       "14                      0.587   51        1  \n",
       "24                      0.254   51        1  \n",
       "28                      0.245   57        0  \n",
       "..                        ...  ...      ...  \n",
       "684                     0.640   69        0  \n",
       "717                     0.595   56        0  \n",
       "719                     0.378   52        1  \n",
       "759                     0.278   66        1  \n",
       "763                     0.171   63        0  \n",
       "\n",
       "[62 rows x 9 columns]"
      ]
     },
     "execution_count": 20,
     "metadata": {},
     "output_type": "execute_result"
    }
   ],
   "source": [
    "diabetes_data.loc[(diabetes_data.Age > 50) & (diabetes_data.Pregnancies >= 4)]"
   ]
  },
  {
   "cell_type": "markdown",
   "id": "ce98dda3",
   "metadata": {},
   "source": [
    "Pandas viene con algunos selectores condicionales incorporados. Vamos a ver dos de ellos\n",
    "\n",
    "El primero es *isin*, que permite seleccionar datos cuyo valor \"está en\" una lista de valores. Por ejemplo, se puede seleccionar los registros de pacientes con 3 o 4 embarazos: \n"
   ]
  },
  {
   "cell_type": "code",
   "execution_count": 21,
   "id": "25d1daf7",
   "metadata": {},
   "outputs": [
    {
     "data": {
      "text/html": [
       "<div>\n",
       "<style scoped>\n",
       "    .dataframe tbody tr th:only-of-type {\n",
       "        vertical-align: middle;\n",
       "    }\n",
       "\n",
       "    .dataframe tbody tr th {\n",
       "        vertical-align: top;\n",
       "    }\n",
       "\n",
       "    .dataframe thead th {\n",
       "        text-align: right;\n",
       "    }\n",
       "</style>\n",
       "<table border=\"1\" class=\"dataframe\">\n",
       "  <thead>\n",
       "    <tr style=\"text-align: right;\">\n",
       "      <th></th>\n",
       "      <th>Pregnancies</th>\n",
       "      <th>Glucose</th>\n",
       "      <th>BloodPressure</th>\n",
       "      <th>SkinThickness</th>\n",
       "      <th>Insulin</th>\n",
       "      <th>BMI</th>\n",
       "      <th>DiabetesPedigreeFunction</th>\n",
       "      <th>Age</th>\n",
       "      <th>Outcome</th>\n",
       "    </tr>\n",
       "  </thead>\n",
       "  <tbody>\n",
       "    <tr>\n",
       "      <th>6</th>\n",
       "      <td>3</td>\n",
       "      <td>78</td>\n",
       "      <td>50.0</td>\n",
       "      <td>32.0</td>\n",
       "      <td>88.0</td>\n",
       "      <td>31.0</td>\n",
       "      <td>0.248</td>\n",
       "      <td>26</td>\n",
       "      <td>1</td>\n",
       "    </tr>\n",
       "    <tr>\n",
       "      <th>10</th>\n",
       "      <td>4</td>\n",
       "      <td>110</td>\n",
       "      <td>92.0</td>\n",
       "      <td>NaN</td>\n",
       "      <td>NaN</td>\n",
       "      <td>37.6</td>\n",
       "      <td>0.191</td>\n",
       "      <td>30</td>\n",
       "      <td>0</td>\n",
       "    </tr>\n",
       "    <tr>\n",
       "      <th>20</th>\n",
       "      <td>3</td>\n",
       "      <td>126</td>\n",
       "      <td>88.0</td>\n",
       "      <td>41.0</td>\n",
       "      <td>235.0</td>\n",
       "      <td>39.3</td>\n",
       "      <td>0.704</td>\n",
       "      <td>27</td>\n",
       "      <td>0</td>\n",
       "    </tr>\n",
       "    <tr>\n",
       "      <th>31</th>\n",
       "      <td>3</td>\n",
       "      <td>158</td>\n",
       "      <td>76.0</td>\n",
       "      <td>36.0</td>\n",
       "      <td>245.0</td>\n",
       "      <td>31.6</td>\n",
       "      <td>0.851</td>\n",
       "      <td>28</td>\n",
       "      <td>1</td>\n",
       "    </tr>\n",
       "    <tr>\n",
       "      <th>32</th>\n",
       "      <td>3</td>\n",
       "      <td>88</td>\n",
       "      <td>58.0</td>\n",
       "      <td>11.0</td>\n",
       "      <td>54.0</td>\n",
       "      <td>24.8</td>\n",
       "      <td>0.267</td>\n",
       "      <td>22</td>\n",
       "      <td>0</td>\n",
       "    </tr>\n",
       "    <tr>\n",
       "      <th>...</th>\n",
       "      <td>...</td>\n",
       "      <td>...</td>\n",
       "      <td>...</td>\n",
       "      <td>...</td>\n",
       "      <td>...</td>\n",
       "      <td>...</td>\n",
       "      <td>...</td>\n",
       "      <td>...</td>\n",
       "      <td>...</td>\n",
       "    </tr>\n",
       "    <tr>\n",
       "      <th>735</th>\n",
       "      <td>4</td>\n",
       "      <td>95</td>\n",
       "      <td>60.0</td>\n",
       "      <td>32.0</td>\n",
       "      <td>0.0</td>\n",
       "      <td>35.4</td>\n",
       "      <td>0.284</td>\n",
       "      <td>28</td>\n",
       "      <td>0</td>\n",
       "    </tr>\n",
       "    <tr>\n",
       "      <th>741</th>\n",
       "      <td>3</td>\n",
       "      <td>102</td>\n",
       "      <td>44.0</td>\n",
       "      <td>20.0</td>\n",
       "      <td>94.0</td>\n",
       "      <td>30.8</td>\n",
       "      <td>0.400</td>\n",
       "      <td>26</td>\n",
       "      <td>0</td>\n",
       "    </tr>\n",
       "    <tr>\n",
       "      <th>748</th>\n",
       "      <td>3</td>\n",
       "      <td>187</td>\n",
       "      <td>70.0</td>\n",
       "      <td>22.0</td>\n",
       "      <td>200.0</td>\n",
       "      <td>36.4</td>\n",
       "      <td>0.408</td>\n",
       "      <td>36</td>\n",
       "      <td>1</td>\n",
       "    </tr>\n",
       "    <tr>\n",
       "      <th>750</th>\n",
       "      <td>4</td>\n",
       "      <td>136</td>\n",
       "      <td>70.0</td>\n",
       "      <td>0.0</td>\n",
       "      <td>0.0</td>\n",
       "      <td>31.2</td>\n",
       "      <td>1.182</td>\n",
       "      <td>22</td>\n",
       "      <td>1</td>\n",
       "    </tr>\n",
       "    <tr>\n",
       "      <th>752</th>\n",
       "      <td>3</td>\n",
       "      <td>108</td>\n",
       "      <td>62.0</td>\n",
       "      <td>24.0</td>\n",
       "      <td>0.0</td>\n",
       "      <td>26.0</td>\n",
       "      <td>0.223</td>\n",
       "      <td>25</td>\n",
       "      <td>0</td>\n",
       "    </tr>\n",
       "  </tbody>\n",
       "</table>\n",
       "<p>143 rows × 9 columns</p>\n",
       "</div>"
      ],
      "text/plain": [
       "     Pregnancies  Glucose  BloodPressure  SkinThickness  Insulin   BMI  \\\n",
       "6              3       78           50.0           32.0     88.0  31.0   \n",
       "10             4      110           92.0            NaN      NaN  37.6   \n",
       "20             3      126           88.0           41.0    235.0  39.3   \n",
       "31             3      158           76.0           36.0    245.0  31.6   \n",
       "32             3       88           58.0           11.0     54.0  24.8   \n",
       "..           ...      ...            ...            ...      ...   ...   \n",
       "735            4       95           60.0           32.0      0.0  35.4   \n",
       "741            3      102           44.0           20.0     94.0  30.8   \n",
       "748            3      187           70.0           22.0    200.0  36.4   \n",
       "750            4      136           70.0            0.0      0.0  31.2   \n",
       "752            3      108           62.0           24.0      0.0  26.0   \n",
       "\n",
       "     DiabetesPedigreeFunction  Age  Outcome  \n",
       "6                       0.248   26        1  \n",
       "10                      0.191   30        0  \n",
       "20                      0.704   27        0  \n",
       "31                      0.851   28        1  \n",
       "32                      0.267   22        0  \n",
       "..                        ...  ...      ...  \n",
       "735                     0.284   28        0  \n",
       "741                     0.400   26        0  \n",
       "748                     0.408   36        1  \n",
       "750                     1.182   22        1  \n",
       "752                     0.223   25        0  \n",
       "\n",
       "[143 rows x 9 columns]"
      ]
     },
     "execution_count": 21,
     "metadata": {},
     "output_type": "execute_result"
    }
   ],
   "source": [
    "diabetes_data.loc[diabetes_data.Pregnancies.isin([3, 4])]"
   ]
  },
  {
   "cell_type": "markdown",
   "id": "13a93474",
   "metadata": {},
   "source": [
    "O entre 3 y 6 embarazos"
   ]
  },
  {
   "cell_type": "markdown",
   "id": "05888995",
   "metadata": {},
   "source": [
    "El segundo es *isnull* (y su complemento *notnull*), que permiten recuperar valores que están (o no están) vacíos (NaN). Por ejemplo, para filtrar los casos que no se conozca la presión arterial haríamos:"
   ]
  },
  {
   "cell_type": "code",
   "execution_count": 22,
   "id": "bdbda0f2",
   "metadata": {},
   "outputs": [
    {
     "data": {
      "text/html": [
       "<div>\n",
       "<style scoped>\n",
       "    .dataframe tbody tr th:only-of-type {\n",
       "        vertical-align: middle;\n",
       "    }\n",
       "\n",
       "    .dataframe tbody tr th {\n",
       "        vertical-align: top;\n",
       "    }\n",
       "\n",
       "    .dataframe thead th {\n",
       "        text-align: right;\n",
       "    }\n",
       "</style>\n",
       "<table border=\"1\" class=\"dataframe\">\n",
       "  <thead>\n",
       "    <tr style=\"text-align: right;\">\n",
       "      <th></th>\n",
       "      <th>Pregnancies</th>\n",
       "      <th>Glucose</th>\n",
       "      <th>BloodPressure</th>\n",
       "      <th>SkinThickness</th>\n",
       "      <th>Insulin</th>\n",
       "      <th>BMI</th>\n",
       "      <th>DiabetesPedigreeFunction</th>\n",
       "      <th>Age</th>\n",
       "      <th>Outcome</th>\n",
       "    </tr>\n",
       "  </thead>\n",
       "  <tbody>\n",
       "    <tr>\n",
       "      <th>7</th>\n",
       "      <td>10</td>\n",
       "      <td>115</td>\n",
       "      <td>NaN</td>\n",
       "      <td>NaN</td>\n",
       "      <td>NaN</td>\n",
       "      <td>35.3</td>\n",
       "      <td>0.134</td>\n",
       "      <td>29</td>\n",
       "      <td>0</td>\n",
       "    </tr>\n",
       "  </tbody>\n",
       "</table>\n",
       "</div>"
      ],
      "text/plain": [
       "   Pregnancies  Glucose  BloodPressure  SkinThickness  Insulin   BMI  \\\n",
       "7           10      115            NaN            NaN      NaN  35.3   \n",
       "\n",
       "   DiabetesPedigreeFunction  Age  Outcome  \n",
       "7                     0.134   29        0  "
      ]
     },
     "execution_count": 22,
     "metadata": {},
     "output_type": "execute_result"
    }
   ],
   "source": [
    "diabetes_data.loc[diabetes_data.BloodPressure.isnull()]"
   ]
  },
  {
   "cell_type": "markdown",
   "id": "71fa02a3",
   "metadata": {},
   "source": [
    "### Asignación"
   ]
  },
  {
   "cell_type": "markdown",
   "id": "d9443ec8",
   "metadata": {},
   "source": [
    "Habiendo visto los modos de indexación, la asignación de valores es sencilla.\n",
    "Por ejemplo se puede asignar un valor constante de la siguiente forma:"
   ]
  },
  {
   "cell_type": "code",
   "execution_count": 23,
   "id": "5be04773",
   "metadata": {},
   "outputs": [
    {
     "data": {
      "text/plain": [
       "0      2\n",
       "1      1\n",
       "2      2\n",
       "3      1\n",
       "4      0\n",
       "      ..\n",
       "763    2\n",
       "764    2\n",
       "765    2\n",
       "766    1\n",
       "767    1\n",
       "Name: Pregnancies, Length: 768, dtype: int64"
      ]
     },
     "execution_count": 23,
     "metadata": {},
     "output_type": "execute_result"
    }
   ],
   "source": [
    "diabetes_data.loc[(diabetes_data.Pregnancies >= 2)] = 2\n",
    "diabetes_data.loc[(diabetes_data.Pregnancies == 1)] = 1\n",
    "diabetes_data.loc[(diabetes_data.Pregnancies < 1)] = 0\n",
    "diabetes_data['Pregnancies']"
   ]
  },
  {
   "cell_type": "markdown",
   "id": "4db2063b",
   "metadata": {},
   "source": [
    "O mediante un iterable de valores:"
   ]
  },
  {
   "cell_type": "code",
   "execution_count": 24,
   "id": "98613259",
   "metadata": {},
   "outputs": [
    {
     "data": {
      "text/plain": [
       "0      768\n",
       "1      767\n",
       "2      766\n",
       "3      765\n",
       "4      764\n",
       "      ... \n",
       "763      5\n",
       "764      4\n",
       "765      3\n",
       "766      2\n",
       "767      1\n",
       "Name: index_backwards, Length: 768, dtype: int32"
      ]
     },
     "execution_count": 24,
     "metadata": {},
     "output_type": "execute_result"
    }
   ],
   "source": [
    "diabetes_data['index_backwards'] = range(len(diabetes_data), 0, -1)\n",
    "diabetes_data['index_backwards']"
   ]
  },
  {
   "cell_type": "markdown",
   "id": "2fd3dd71",
   "metadata": {},
   "source": [
    "### Manipulación de datos"
   ]
  },
  {
   "cell_type": "markdown",
   "id": "7885b414",
   "metadata": {},
   "source": [
    "Pandas presenta múltiples métodos para reestructurar datos contenidos en DataFrames.\n",
    "\n",
    "Por ejemplo, si quisiéramos eliminar una columna que no resulte de interés para el análisis, podríamos usar el indexado como se mostró previamente. Otra opción es emplear el método drop: "
   ]
  },
  {
   "cell_type": "code",
   "execution_count": 25,
   "id": "e2b74ad8",
   "metadata": {},
   "outputs": [
    {
     "data": {
      "text/html": [
       "<div>\n",
       "<style scoped>\n",
       "    .dataframe tbody tr th:only-of-type {\n",
       "        vertical-align: middle;\n",
       "    }\n",
       "\n",
       "    .dataframe tbody tr th {\n",
       "        vertical-align: top;\n",
       "    }\n",
       "\n",
       "    .dataframe thead th {\n",
       "        text-align: right;\n",
       "    }\n",
       "</style>\n",
       "<table border=\"1\" class=\"dataframe\">\n",
       "  <thead>\n",
       "    <tr style=\"text-align: right;\">\n",
       "      <th></th>\n",
       "      <th>Pregnancies</th>\n",
       "      <th>Glucose</th>\n",
       "      <th>BloodPressure</th>\n",
       "      <th>SkinThickness</th>\n",
       "      <th>Insulin</th>\n",
       "      <th>BMI</th>\n",
       "      <th>DiabetesPedigreeFunction</th>\n",
       "      <th>Age</th>\n",
       "      <th>Outcome</th>\n",
       "      <th>index_backwards</th>\n",
       "    </tr>\n",
       "  </thead>\n",
       "  <tbody>\n",
       "    <tr>\n",
       "      <th>0</th>\n",
       "      <td>2</td>\n",
       "      <td>2</td>\n",
       "      <td>2.0</td>\n",
       "      <td>2.0</td>\n",
       "      <td>2.0</td>\n",
       "      <td>2.0</td>\n",
       "      <td>2.0</td>\n",
       "      <td>2</td>\n",
       "      <td>2</td>\n",
       "      <td>768</td>\n",
       "    </tr>\n",
       "    <tr>\n",
       "      <th>1</th>\n",
       "      <td>1</td>\n",
       "      <td>1</td>\n",
       "      <td>1.0</td>\n",
       "      <td>1.0</td>\n",
       "      <td>1.0</td>\n",
       "      <td>1.0</td>\n",
       "      <td>1.0</td>\n",
       "      <td>1</td>\n",
       "      <td>1</td>\n",
       "      <td>767</td>\n",
       "    </tr>\n",
       "    <tr>\n",
       "      <th>2</th>\n",
       "      <td>2</td>\n",
       "      <td>2</td>\n",
       "      <td>2.0</td>\n",
       "      <td>2.0</td>\n",
       "      <td>2.0</td>\n",
       "      <td>2.0</td>\n",
       "      <td>2.0</td>\n",
       "      <td>2</td>\n",
       "      <td>2</td>\n",
       "      <td>766</td>\n",
       "    </tr>\n",
       "    <tr>\n",
       "      <th>3</th>\n",
       "      <td>1</td>\n",
       "      <td>1</td>\n",
       "      <td>1.0</td>\n",
       "      <td>1.0</td>\n",
       "      <td>1.0</td>\n",
       "      <td>1.0</td>\n",
       "      <td>1.0</td>\n",
       "      <td>1</td>\n",
       "      <td>1</td>\n",
       "      <td>765</td>\n",
       "    </tr>\n",
       "    <tr>\n",
       "      <th>4</th>\n",
       "      <td>0</td>\n",
       "      <td>0</td>\n",
       "      <td>0.0</td>\n",
       "      <td>0.0</td>\n",
       "      <td>0.0</td>\n",
       "      <td>0.0</td>\n",
       "      <td>0.0</td>\n",
       "      <td>0</td>\n",
       "      <td>0</td>\n",
       "      <td>764</td>\n",
       "    </tr>\n",
       "    <tr>\n",
       "      <th>...</th>\n",
       "      <td>...</td>\n",
       "      <td>...</td>\n",
       "      <td>...</td>\n",
       "      <td>...</td>\n",
       "      <td>...</td>\n",
       "      <td>...</td>\n",
       "      <td>...</td>\n",
       "      <td>...</td>\n",
       "      <td>...</td>\n",
       "      <td>...</td>\n",
       "    </tr>\n",
       "    <tr>\n",
       "      <th>763</th>\n",
       "      <td>2</td>\n",
       "      <td>2</td>\n",
       "      <td>2.0</td>\n",
       "      <td>2.0</td>\n",
       "      <td>2.0</td>\n",
       "      <td>2.0</td>\n",
       "      <td>2.0</td>\n",
       "      <td>2</td>\n",
       "      <td>2</td>\n",
       "      <td>5</td>\n",
       "    </tr>\n",
       "    <tr>\n",
       "      <th>764</th>\n",
       "      <td>2</td>\n",
       "      <td>2</td>\n",
       "      <td>2.0</td>\n",
       "      <td>2.0</td>\n",
       "      <td>2.0</td>\n",
       "      <td>2.0</td>\n",
       "      <td>2.0</td>\n",
       "      <td>2</td>\n",
       "      <td>2</td>\n",
       "      <td>4</td>\n",
       "    </tr>\n",
       "    <tr>\n",
       "      <th>765</th>\n",
       "      <td>2</td>\n",
       "      <td>2</td>\n",
       "      <td>2.0</td>\n",
       "      <td>2.0</td>\n",
       "      <td>2.0</td>\n",
       "      <td>2.0</td>\n",
       "      <td>2.0</td>\n",
       "      <td>2</td>\n",
       "      <td>2</td>\n",
       "      <td>3</td>\n",
       "    </tr>\n",
       "    <tr>\n",
       "      <th>766</th>\n",
       "      <td>1</td>\n",
       "      <td>1</td>\n",
       "      <td>1.0</td>\n",
       "      <td>1.0</td>\n",
       "      <td>1.0</td>\n",
       "      <td>1.0</td>\n",
       "      <td>1.0</td>\n",
       "      <td>1</td>\n",
       "      <td>1</td>\n",
       "      <td>2</td>\n",
       "    </tr>\n",
       "    <tr>\n",
       "      <th>767</th>\n",
       "      <td>1</td>\n",
       "      <td>1</td>\n",
       "      <td>1.0</td>\n",
       "      <td>1.0</td>\n",
       "      <td>1.0</td>\n",
       "      <td>1.0</td>\n",
       "      <td>1.0</td>\n",
       "      <td>1</td>\n",
       "      <td>1</td>\n",
       "      <td>1</td>\n",
       "    </tr>\n",
       "  </tbody>\n",
       "</table>\n",
       "<p>768 rows × 10 columns</p>\n",
       "</div>"
      ],
      "text/plain": [
       "     Pregnancies  Glucose  BloodPressure  SkinThickness  Insulin  BMI  \\\n",
       "0              2        2            2.0            2.0      2.0  2.0   \n",
       "1              1        1            1.0            1.0      1.0  1.0   \n",
       "2              2        2            2.0            2.0      2.0  2.0   \n",
       "3              1        1            1.0            1.0      1.0  1.0   \n",
       "4              0        0            0.0            0.0      0.0  0.0   \n",
       "..           ...      ...            ...            ...      ...  ...   \n",
       "763            2        2            2.0            2.0      2.0  2.0   \n",
       "764            2        2            2.0            2.0      2.0  2.0   \n",
       "765            2        2            2.0            2.0      2.0  2.0   \n",
       "766            1        1            1.0            1.0      1.0  1.0   \n",
       "767            1        1            1.0            1.0      1.0  1.0   \n",
       "\n",
       "     DiabetesPedigreeFunction  Age  Outcome  index_backwards  \n",
       "0                         2.0    2        2              768  \n",
       "1                         1.0    1        1              767  \n",
       "2                         2.0    2        2              766  \n",
       "3                         1.0    1        1              765  \n",
       "4                         0.0    0        0              764  \n",
       "..                        ...  ...      ...              ...  \n",
       "763                       2.0    2        2                5  \n",
       "764                       2.0    2        2                4  \n",
       "765                       2.0    2        2                3  \n",
       "766                       1.0    1        1                2  \n",
       "767                       1.0    1        1                1  \n",
       "\n",
       "[768 rows x 10 columns]"
      ]
     },
     "execution_count": 25,
     "metadata": {},
     "output_type": "execute_result"
    }
   ],
   "source": [
    "diabetes_data.drop?\n",
    "diabetes_data\n",
    "\n",
    "\n"
   ]
  },
  {
   "cell_type": "code",
   "execution_count": 26,
   "id": "edcbecea",
   "metadata": {},
   "outputs": [
    {
     "data": {
      "text/html": [
       "<div>\n",
       "<style scoped>\n",
       "    .dataframe tbody tr th:only-of-type {\n",
       "        vertical-align: middle;\n",
       "    }\n",
       "\n",
       "    .dataframe tbody tr th {\n",
       "        vertical-align: top;\n",
       "    }\n",
       "\n",
       "    .dataframe thead th {\n",
       "        text-align: right;\n",
       "    }\n",
       "</style>\n",
       "<table border=\"1\" class=\"dataframe\">\n",
       "  <thead>\n",
       "    <tr style=\"text-align: right;\">\n",
       "      <th></th>\n",
       "      <th>Pregnancies</th>\n",
       "      <th>Glucose</th>\n",
       "      <th>BloodPressure</th>\n",
       "      <th>Insulin</th>\n",
       "      <th>BMI</th>\n",
       "      <th>DiabetesPedigreeFunction</th>\n",
       "      <th>Age</th>\n",
       "      <th>Outcome</th>\n",
       "      <th>index_backwards</th>\n",
       "    </tr>\n",
       "  </thead>\n",
       "  <tbody>\n",
       "    <tr>\n",
       "      <th>0</th>\n",
       "      <td>2</td>\n",
       "      <td>2</td>\n",
       "      <td>2.0</td>\n",
       "      <td>2.0</td>\n",
       "      <td>2.0</td>\n",
       "      <td>2.0</td>\n",
       "      <td>2</td>\n",
       "      <td>2</td>\n",
       "      <td>768</td>\n",
       "    </tr>\n",
       "    <tr>\n",
       "      <th>1</th>\n",
       "      <td>1</td>\n",
       "      <td>1</td>\n",
       "      <td>1.0</td>\n",
       "      <td>1.0</td>\n",
       "      <td>1.0</td>\n",
       "      <td>1.0</td>\n",
       "      <td>1</td>\n",
       "      <td>1</td>\n",
       "      <td>767</td>\n",
       "    </tr>\n",
       "    <tr>\n",
       "      <th>2</th>\n",
       "      <td>2</td>\n",
       "      <td>2</td>\n",
       "      <td>2.0</td>\n",
       "      <td>2.0</td>\n",
       "      <td>2.0</td>\n",
       "      <td>2.0</td>\n",
       "      <td>2</td>\n",
       "      <td>2</td>\n",
       "      <td>766</td>\n",
       "    </tr>\n",
       "    <tr>\n",
       "      <th>3</th>\n",
       "      <td>1</td>\n",
       "      <td>1</td>\n",
       "      <td>1.0</td>\n",
       "      <td>1.0</td>\n",
       "      <td>1.0</td>\n",
       "      <td>1.0</td>\n",
       "      <td>1</td>\n",
       "      <td>1</td>\n",
       "      <td>765</td>\n",
       "    </tr>\n",
       "    <tr>\n",
       "      <th>4</th>\n",
       "      <td>0</td>\n",
       "      <td>0</td>\n",
       "      <td>0.0</td>\n",
       "      <td>0.0</td>\n",
       "      <td>0.0</td>\n",
       "      <td>0.0</td>\n",
       "      <td>0</td>\n",
       "      <td>0</td>\n",
       "      <td>764</td>\n",
       "    </tr>\n",
       "    <tr>\n",
       "      <th>5</th>\n",
       "      <td>2</td>\n",
       "      <td>2</td>\n",
       "      <td>2.0</td>\n",
       "      <td>2.0</td>\n",
       "      <td>2.0</td>\n",
       "      <td>2.0</td>\n",
       "      <td>2</td>\n",
       "      <td>2</td>\n",
       "      <td>763</td>\n",
       "    </tr>\n",
       "    <tr>\n",
       "      <th>6</th>\n",
       "      <td>2</td>\n",
       "      <td>2</td>\n",
       "      <td>2.0</td>\n",
       "      <td>2.0</td>\n",
       "      <td>2.0</td>\n",
       "      <td>2.0</td>\n",
       "      <td>2</td>\n",
       "      <td>2</td>\n",
       "      <td>762</td>\n",
       "    </tr>\n",
       "    <tr>\n",
       "      <th>7</th>\n",
       "      <td>2</td>\n",
       "      <td>2</td>\n",
       "      <td>2.0</td>\n",
       "      <td>2.0</td>\n",
       "      <td>2.0</td>\n",
       "      <td>2.0</td>\n",
       "      <td>2</td>\n",
       "      <td>2</td>\n",
       "      <td>761</td>\n",
       "    </tr>\n",
       "    <tr>\n",
       "      <th>8</th>\n",
       "      <td>2</td>\n",
       "      <td>2</td>\n",
       "      <td>2.0</td>\n",
       "      <td>2.0</td>\n",
       "      <td>2.0</td>\n",
       "      <td>2.0</td>\n",
       "      <td>2</td>\n",
       "      <td>2</td>\n",
       "      <td>760</td>\n",
       "    </tr>\n",
       "    <tr>\n",
       "      <th>9</th>\n",
       "      <td>2</td>\n",
       "      <td>2</td>\n",
       "      <td>2.0</td>\n",
       "      <td>2.0</td>\n",
       "      <td>2.0</td>\n",
       "      <td>2.0</td>\n",
       "      <td>2</td>\n",
       "      <td>2</td>\n",
       "      <td>759</td>\n",
       "    </tr>\n",
       "  </tbody>\n",
       "</table>\n",
       "</div>"
      ],
      "text/plain": [
       "   Pregnancies  Glucose  BloodPressure  Insulin  BMI  \\\n",
       "0            2        2            2.0      2.0  2.0   \n",
       "1            1        1            1.0      1.0  1.0   \n",
       "2            2        2            2.0      2.0  2.0   \n",
       "3            1        1            1.0      1.0  1.0   \n",
       "4            0        0            0.0      0.0  0.0   \n",
       "5            2        2            2.0      2.0  2.0   \n",
       "6            2        2            2.0      2.0  2.0   \n",
       "7            2        2            2.0      2.0  2.0   \n",
       "8            2        2            2.0      2.0  2.0   \n",
       "9            2        2            2.0      2.0  2.0   \n",
       "\n",
       "   DiabetesPedigreeFunction  Age  Outcome  index_backwards  \n",
       "0                       2.0    2        2              768  \n",
       "1                       1.0    1        1              767  \n",
       "2                       2.0    2        2              766  \n",
       "3                       1.0    1        1              765  \n",
       "4                       0.0    0        0              764  \n",
       "5                       2.0    2        2              763  \n",
       "6                       2.0    2        2              762  \n",
       "7                       2.0    2        2              761  \n",
       "8                       2.0    2        2              760  \n",
       "9                       2.0    2        2              759  "
      ]
     },
     "execution_count": 26,
     "metadata": {},
     "output_type": "execute_result"
    }
   ],
   "source": [
    "diabetes_data.drop(columns=['SkinThickness'], axis=1, inplace= True)\n",
    "diabetes_data.head(10)\n"
   ]
  },
  {
   "cell_type": "markdown",
   "id": "e0cf5a9f",
   "metadata": {},
   "source": [
    "En la operación anterior se indicó como argumento la columna a remover, el parámetro axis indica si la operación se hace a nivel de filas (*axis=0*) o columnas, mientras que el parámetro inplace permite seleccionar si se quiere que la función devuelva una copia del DataFrame resultante (*inplace = false*), que es el valor por defecto, o que la operación se efectúe sobre el dato original.  "
   ]
  },
  {
   "cell_type": "markdown",
   "id": "52151623",
   "metadata": {},
   "source": [
    "## <span style=\"color:CornflowerBlue\">**Scikit-learn**</span>"
   ]
  },
  {
   "cell_type": "markdown",
   "id": "b08abbdb",
   "metadata": {},
   "source": [
    "[Scikit-learn](https://scikit-learn.org/) es una biblioteca para aprendizaje automático diseñada para interoperar con NumPy y SciPy.\n",
    "\n",
    "<img src=\"https://upload.wikimedia.org/wikipedia/commons/thumb/0/05/Scikit_learn_logo_small.svg/1920px-Scikit_learn_logo_small.svg.png\" width=600px>\n"
   ]
  },
  {
   "cell_type": "markdown",
   "id": "0048f470",
   "metadata": {},
   "source": [
    "Contiene varios subpaquetes para realizar tareas tradicionales asociadas a ML y que iremos viendo en el cursado:\n",
    "* Exploración de datos\n",
    "* Preprocesamiento de datos\n",
    "  * Limpieza\n",
    "  * Tratamiento de valores perdidos\n",
    "  * Normalización\n",
    "  * Reducción dimensional\n",
    "  * ...\n",
    "* Entrenamiento\n",
    "  * Aprendizaje Supervisado\n",
    "  * Aprendizaje no supervisado\n",
    "* Evaluación\n",
    "\n",
    "Un recurso intersante para indagar más sobre las funcionalidades que ofrece es el siguiente [tutorial](https://scikit-learn.org/stable/tutorial/index.html)"
   ]
  },
  {
   "cell_type": "markdown",
   "id": "91f7b662",
   "metadata": {},
   "source": [
    "La importación de esta biblioteca se hace de la siguiente forma:"
   ]
  },
  {
   "cell_type": "code",
   "execution_count": 2,
   "id": "d72c27b4",
   "metadata": {},
   "outputs": [],
   "source": [
    "import sklearn as sk"
   ]
  },
  {
   "cell_type": "markdown",
   "id": "0b181142",
   "metadata": {},
   "source": [
    "Una característica interesante de esta biblioteca es el uso de una estrategia para definir flujos de operaciones denominado **Pipelines** (tuberías en castellano).\n",
    "\n",
    "La idea es definir secuencias de pasos típicos que van desde la partición de datos, preprocesamiento, aplicación de algoritmos de ML, evaluación y búsqueda de parámetros óptimos hasta la visualización y almacenamiento, de forma tal que se realicen como un único proceso.\n",
    "\n",
    "La clase Pipeline de Scikit-learn está diseñada para aplicar operaciones de transformación sobre los datos seguidas por la aplicación de un algoritmo de aprendizaje denominado en esta biblioteca *estimador*. En scikit-learn, por ejemplo un estimador para clasificación es un objeto Python que implementa los métodos $fit(X, y)$ y $predict(T)$, el primero para aprender los parámetros del modelo de clasificación y el segundo para determinar la salida del modelo ante la presentación de datos a clasificar.\n",
    "\n",
    "Pero esto lo iremos viendo a medida que veamos esos temas durante el cursado."
   ]
  }
 ],
 "metadata": {
  "kernelspec": {
   "display_name": "Python 3 (ipykernel)",
   "language": "python",
   "name": "python3"
  },
  "language_info": {
   "codemirror_mode": {
    "name": "ipython",
    "version": 3
   },
   "file_extension": ".py",
   "mimetype": "text/x-python",
   "name": "python",
   "nbconvert_exporter": "python",
   "pygments_lexer": "ipython3",
   "version": "3.10.9"
  }
 },
 "nbformat": 4,
 "nbformat_minor": 5
}
